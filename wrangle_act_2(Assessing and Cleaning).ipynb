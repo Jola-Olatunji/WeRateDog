{
 "cells": [
  {
   "cell_type": "markdown",
   "id": "0338502b",
   "metadata": {},
   "source": [
    "## Assessing and Cleaning\n",
    "\n",
    "Having gathered all the three data set required for this project, in this set of excercises, the data will be assessed for tidyness issues and will be cleaned using several tools and techniques inorder to make the data usable for generating insights and visualization."
   ]
  },
  {
   "cell_type": "code",
   "execution_count": 94,
   "id": "4557f4e3",
   "metadata": {},
   "outputs": [],
   "source": [
    "#importing libraries\n",
    "import pandas as pd\n",
    "import numpy as np\n",
    "import matplotlib.pyplot as plt\n",
    "import re\n",
    "import datetime\n"
   ]
  },
  {
   "cell_type": "code",
   "execution_count": 95,
   "id": "6ba14431",
   "metadata": {},
   "outputs": [],
   "source": [
    "# load the three data set\n",
    "df_twitter_response=pd.read_csv('tweet_dataframe.csv')\n",
    "df_image_prediction=pd.read_csv('image-predictions.tsv', sep='\\t')\n",
    "df_twitter_archive=pd.read_csv('twitter-archive-enhanced.csv')\n"
   ]
  },
  {
   "cell_type": "markdown",
   "id": "fbd48880",
   "metadata": {},
   "source": [
    "#### Visual and Programmatic assessment \n",
    "\n",
    "Looking through the data set and quering using code for various tydiness and quality issues. "
   ]
  },
  {
   "cell_type": "code",
   "execution_count": 96,
   "id": "dad22d48",
   "metadata": {},
   "outputs": [
    {
     "name": "stdout",
     "output_type": "stream",
     "text": [
      "<class 'pandas.core.frame.DataFrame'>\n",
      "RangeIndex: 2057 entries, 0 to 2056\n",
      "Data columns (total 19 columns):\n",
      " #   Column                   Non-Null Count  Dtype  \n",
      "---  ------                   --------------  -----  \n",
      " 0   created_at               2057 non-null   object \n",
      " 1   id                       2057 non-null   int64  \n",
      " 2   full_text                2057 non-null   object \n",
      " 3   entities                 2057 non-null   object \n",
      " 4   source                   2057 non-null   object \n",
      " 5   in_reply_to_status_id    23 non-null     float64\n",
      " 6   in_reply_to_user_id      23 non-null     float64\n",
      " 7   in_reply_to_screen_name  23 non-null     object \n",
      " 8   user                     2057 non-null   object \n",
      " 9   geo                      0 non-null      float64\n",
      " 10  coordinates              0 non-null      float64\n",
      " 11  place                    1 non-null      object \n",
      " 12  contributors             0 non-null      float64\n",
      " 13  is_quote_status          2057 non-null   bool   \n",
      " 14  retweet_count            2057 non-null   int64  \n",
      " 15  favorite_count           2057 non-null   int64  \n",
      " 16  favorited                2057 non-null   bool   \n",
      " 17  retweeted                2057 non-null   bool   \n",
      " 18  lang                     2057 non-null   object \n",
      "dtypes: bool(3), float64(5), int64(3), object(8)\n",
      "memory usage: 263.3+ KB\n"
     ]
    }
   ],
   "source": [
    "df_twitter_response.info()"
   ]
  },
  {
   "cell_type": "code",
   "execution_count": 97,
   "id": "8df1127c",
   "metadata": {},
   "outputs": [
    {
     "name": "stdout",
     "output_type": "stream",
     "text": [
      "<class 'pandas.core.frame.DataFrame'>\n",
      "RangeIndex: 2075 entries, 0 to 2074\n",
      "Data columns (total 12 columns):\n",
      " #   Column    Non-Null Count  Dtype  \n",
      "---  ------    --------------  -----  \n",
      " 0   tweet_id  2075 non-null   int64  \n",
      " 1   jpg_url   2075 non-null   object \n",
      " 2   img_num   2075 non-null   int64  \n",
      " 3   p1        2075 non-null   object \n",
      " 4   p1_conf   2075 non-null   float64\n",
      " 5   p1_dog    2075 non-null   bool   \n",
      " 6   p2        2075 non-null   object \n",
      " 7   p2_conf   2075 non-null   float64\n",
      " 8   p2_dog    2075 non-null   bool   \n",
      " 9   p3        2075 non-null   object \n",
      " 10  p3_conf   2075 non-null   float64\n",
      " 11  p3_dog    2075 non-null   bool   \n",
      "dtypes: bool(3), float64(3), int64(2), object(4)\n",
      "memory usage: 152.1+ KB\n"
     ]
    }
   ],
   "source": [
    "df_image_prediction.info()"
   ]
  },
  {
   "cell_type": "code",
   "execution_count": 98,
   "id": "50b8455a",
   "metadata": {},
   "outputs": [
    {
     "name": "stdout",
     "output_type": "stream",
     "text": [
      "<class 'pandas.core.frame.DataFrame'>\n",
      "RangeIndex: 2356 entries, 0 to 2355\n",
      "Data columns (total 17 columns):\n",
      " #   Column                      Non-Null Count  Dtype  \n",
      "---  ------                      --------------  -----  \n",
      " 0   tweet_id                    2356 non-null   int64  \n",
      " 1   in_reply_to_status_id       78 non-null     float64\n",
      " 2   in_reply_to_user_id         78 non-null     float64\n",
      " 3   timestamp                   2356 non-null   object \n",
      " 4   source                      2356 non-null   object \n",
      " 5   text                        2356 non-null   object \n",
      " 6   retweeted_status_id         181 non-null    float64\n",
      " 7   retweeted_status_user_id    181 non-null    float64\n",
      " 8   retweeted_status_timestamp  181 non-null    object \n",
      " 9   expanded_urls               2297 non-null   object \n",
      " 10  rating_numerator            2356 non-null   int64  \n",
      " 11  rating_denominator          2356 non-null   int64  \n",
      " 12  name                        2356 non-null   object \n",
      " 13  doggo                       2356 non-null   object \n",
      " 14  floofer                     2356 non-null   object \n",
      " 15  pupper                      2356 non-null   object \n",
      " 16  puppo                       2356 non-null   object \n",
      "dtypes: float64(4), int64(3), object(10)\n",
      "memory usage: 313.0+ KB\n"
     ]
    }
   ],
   "source": [
    "df_twitter_archive.info()"
   ]
  },
  {
   "cell_type": "code",
   "execution_count": 99,
   "id": "c36dfde9",
   "metadata": {},
   "outputs": [
    {
     "data": {
      "text/html": [
       "<div>\n",
       "<style scoped>\n",
       "    .dataframe tbody tr th:only-of-type {\n",
       "        vertical-align: middle;\n",
       "    }\n",
       "\n",
       "    .dataframe tbody tr th {\n",
       "        vertical-align: top;\n",
       "    }\n",
       "\n",
       "    .dataframe thead th {\n",
       "        text-align: right;\n",
       "    }\n",
       "</style>\n",
       "<table border=\"1\" class=\"dataframe\">\n",
       "  <thead>\n",
       "    <tr style=\"text-align: right;\">\n",
       "      <th></th>\n",
       "      <th>created_at</th>\n",
       "      <th>id</th>\n",
       "      <th>full_text</th>\n",
       "      <th>entities</th>\n",
       "      <th>source</th>\n",
       "      <th>in_reply_to_status_id</th>\n",
       "      <th>in_reply_to_user_id</th>\n",
       "      <th>in_reply_to_screen_name</th>\n",
       "      <th>user</th>\n",
       "      <th>geo</th>\n",
       "      <th>coordinates</th>\n",
       "      <th>place</th>\n",
       "      <th>contributors</th>\n",
       "      <th>is_quote_status</th>\n",
       "      <th>retweet_count</th>\n",
       "      <th>favorite_count</th>\n",
       "      <th>favorited</th>\n",
       "      <th>retweeted</th>\n",
       "      <th>lang</th>\n",
       "    </tr>\n",
       "  </thead>\n",
       "  <tbody>\n",
       "    <tr>\n",
       "      <th>183</th>\n",
       "      <td>Wed Nov 25 03:14:30 +0000 2015</td>\n",
       "      <td>669353438988365824</td>\n",
       "      <td>This is Tessa. She is also very pleased after ...</td>\n",
       "      <td>{'hashtags': [], 'symbols': [], 'user_mentions...</td>\n",
       "      <td>&lt;a href=\"http://twitter.com/download/iphone\" r...</td>\n",
       "      <td>6.678065e+17</td>\n",
       "      <td>4.196984e+09</td>\n",
       "      <td>dog_rates</td>\n",
       "      <td>{'id': 4196983835, 'id_str': '4196983835', 'na...</td>\n",
       "      <td>NaN</td>\n",
       "      <td>NaN</td>\n",
       "      <td>NaN</td>\n",
       "      <td>NaN</td>\n",
       "      <td>False</td>\n",
       "      <td>228</td>\n",
       "      <td>566</td>\n",
       "      <td>False</td>\n",
       "      <td>False</td>\n",
       "      <td>en</td>\n",
       "    </tr>\n",
       "    <tr>\n",
       "      <th>314</th>\n",
       "      <td>Tue Dec 01 16:37:44 +0000 2015</td>\n",
       "      <td>671729906628341761</td>\n",
       "      <td>I'm just going to leave this one here as well....</td>\n",
       "      <td>{'hashtags': [], 'symbols': [], 'user_mentions...</td>\n",
       "      <td>&lt;a href=\"http://twitter.com/download/iphone\" r...</td>\n",
       "      <td>6.715610e+17</td>\n",
       "      <td>4.196984e+09</td>\n",
       "      <td>dog_rates</td>\n",
       "      <td>{'id': 4196983835, 'id_str': '4196983835', 'na...</td>\n",
       "      <td>NaN</td>\n",
       "      <td>NaN</td>\n",
       "      <td>NaN</td>\n",
       "      <td>NaN</td>\n",
       "      <td>False</td>\n",
       "      <td>3806</td>\n",
       "      <td>7491</td>\n",
       "      <td>False</td>\n",
       "      <td>False</td>\n",
       "      <td>en</td>\n",
       "    </tr>\n",
       "    <tr>\n",
       "      <th>453</th>\n",
       "      <td>Thu Dec 10 00:54:28 +0000 2015</td>\n",
       "      <td>674754018082705410</td>\n",
       "      <td>Just received another perfect photo of dogs an...</td>\n",
       "      <td>{'hashtags': [], 'symbols': [], 'user_mentions...</td>\n",
       "      <td>&lt;a href=\"http://twitter.com/download/iphone\" r...</td>\n",
       "      <td>6.747522e+17</td>\n",
       "      <td>4.196984e+09</td>\n",
       "      <td>dog_rates</td>\n",
       "      <td>{'id': 4196983835, 'id_str': '4196983835', 'na...</td>\n",
       "      <td>NaN</td>\n",
       "      <td>NaN</td>\n",
       "      <td>NaN</td>\n",
       "      <td>NaN</td>\n",
       "      <td>False</td>\n",
       "      <td>384</td>\n",
       "      <td>1229</td>\n",
       "      <td>False</td>\n",
       "      <td>False</td>\n",
       "      <td>en</td>\n",
       "    </tr>\n",
       "    <tr>\n",
       "      <th>460</th>\n",
       "      <td>Thu Dec 10 03:30:58 +0000 2015</td>\n",
       "      <td>674793399141146624</td>\n",
       "      <td>I have found another. 13/10 https://t.co/HwroP...</td>\n",
       "      <td>{'hashtags': [], 'symbols': [], 'user_mentions...</td>\n",
       "      <td>&lt;a href=\"http://twitter.com/download/iphone\" r...</td>\n",
       "      <td>6.717299e+17</td>\n",
       "      <td>4.196984e+09</td>\n",
       "      <td>dog_rates</td>\n",
       "      <td>{'id': 4196983835, 'id_str': '4196983835', 'na...</td>\n",
       "      <td>NaN</td>\n",
       "      <td>NaN</td>\n",
       "      <td>NaN</td>\n",
       "      <td>NaN</td>\n",
       "      <td>False</td>\n",
       "      <td>954</td>\n",
       "      <td>2223</td>\n",
       "      <td>False</td>\n",
       "      <td>False</td>\n",
       "      <td>en</td>\n",
       "    </tr>\n",
       "    <tr>\n",
       "      <th>463</th>\n",
       "      <td>Thu Dec 10 17:11:09 +0000 2015</td>\n",
       "      <td>674999807681908736</td>\n",
       "      <td>Ok last one of these. I may try to make some m...</td>\n",
       "      <td>{'hashtags': [], 'symbols': [], 'user_mentions...</td>\n",
       "      <td>&lt;a href=\"http://twitter.com/download/iphone\" r...</td>\n",
       "      <td>6.747934e+17</td>\n",
       "      <td>4.196984e+09</td>\n",
       "      <td>dog_rates</td>\n",
       "      <td>{'id': 4196983835, 'id_str': '4196983835', 'na...</td>\n",
       "      <td>NaN</td>\n",
       "      <td>NaN</td>\n",
       "      <td>NaN</td>\n",
       "      <td>NaN</td>\n",
       "      <td>False</td>\n",
       "      <td>957</td>\n",
       "      <td>1996</td>\n",
       "      <td>False</td>\n",
       "      <td>False</td>\n",
       "      <td>en</td>\n",
       "    </tr>\n",
       "    <tr>\n",
       "      <th>479</th>\n",
       "      <td>Fri Dec 11 16:20:15 +0000 2015</td>\n",
       "      <td>675349384339542016</td>\n",
       "      <td>Yea I lied. Here's more. All 13/10 https://t.c...</td>\n",
       "      <td>{'hashtags': [], 'symbols': [], 'user_mentions...</td>\n",
       "      <td>&lt;a href=\"http://twitter.com/download/iphone\" r...</td>\n",
       "      <td>6.749998e+17</td>\n",
       "      <td>4.196984e+09</td>\n",
       "      <td>dog_rates</td>\n",
       "      <td>{'id': 4196983835, 'id_str': '4196983835', 'na...</td>\n",
       "      <td>NaN</td>\n",
       "      <td>NaN</td>\n",
       "      <td>NaN</td>\n",
       "      <td>NaN</td>\n",
       "      <td>False</td>\n",
       "      <td>2001</td>\n",
       "      <td>3534</td>\n",
       "      <td>False</td>\n",
       "      <td>False</td>\n",
       "      <td>en</td>\n",
       "    </tr>\n",
       "    <tr>\n",
       "      <th>493</th>\n",
       "      <td>Sat Dec 12 16:02:36 +0000 2015</td>\n",
       "      <td>675707330206547968</td>\n",
       "      <td>We've got ourselves a battle here. Watch out R...</td>\n",
       "      <td>{'hashtags': [], 'symbols': [], 'user_mentions...</td>\n",
       "      <td>&lt;a href=\"http://twitter.com/download/iphone\" r...</td>\n",
       "      <td>6.754971e+17</td>\n",
       "      <td>4.196984e+09</td>\n",
       "      <td>dog_rates</td>\n",
       "      <td>{'id': 4196983835, 'id_str': '4196983835', 'na...</td>\n",
       "      <td>NaN</td>\n",
       "      <td>NaN</td>\n",
       "      <td>NaN</td>\n",
       "      <td>NaN</td>\n",
       "      <td>False</td>\n",
       "      <td>600</td>\n",
       "      <td>1786</td>\n",
       "      <td>False</td>\n",
       "      <td>False</td>\n",
       "      <td>en</td>\n",
       "    </tr>\n",
       "    <tr>\n",
       "      <th>502</th>\n",
       "      <td>Sun Dec 13 02:51:51 +0000 2015</td>\n",
       "      <td>675870721063669760</td>\n",
       "      <td>&amp;amp; this is Yoshi. Another world record cont...</td>\n",
       "      <td>{'hashtags': [], 'symbols': [], 'user_mentions...</td>\n",
       "      <td>&lt;a href=\"http://twitter.com/download/iphone\" r...</td>\n",
       "      <td>6.757073e+17</td>\n",
       "      <td>4.196984e+09</td>\n",
       "      <td>dog_rates</td>\n",
       "      <td>{'id': 4196983835, 'id_str': '4196983835', 'na...</td>\n",
       "      <td>NaN</td>\n",
       "      <td>NaN</td>\n",
       "      <td>NaN</td>\n",
       "      <td>NaN</td>\n",
       "      <td>False</td>\n",
       "      <td>500</td>\n",
       "      <td>1469</td>\n",
       "      <td>False</td>\n",
       "      <td>False</td>\n",
       "      <td>en</td>\n",
       "    </tr>\n",
       "    <tr>\n",
       "      <th>692</th>\n",
       "      <td>Tue Jan 05 04:11:44 +0000 2016</td>\n",
       "      <td>684225744407494656</td>\n",
       "      <td>Two sneaky puppers were not initially seen, mo...</td>\n",
       "      <td>{'hashtags': [], 'symbols': [], 'user_mentions...</td>\n",
       "      <td>&lt;a href=\"http://twitter.com/download/iphone\" r...</td>\n",
       "      <td>6.842229e+17</td>\n",
       "      <td>4.196984e+09</td>\n",
       "      <td>dog_rates</td>\n",
       "      <td>{'id': 4196983835, 'id_str': '4196983835', 'na...</td>\n",
       "      <td>NaN</td>\n",
       "      <td>NaN</td>\n",
       "      <td>NaN</td>\n",
       "      <td>NaN</td>\n",
       "      <td>False</td>\n",
       "      <td>184</td>\n",
       "      <td>1148</td>\n",
       "      <td>False</td>\n",
       "      <td>False</td>\n",
       "      <td>en</td>\n",
       "    </tr>\n",
       "    <tr>\n",
       "      <th>696</th>\n",
       "      <td>Wed Jan 06 00:54:18 +0000 2016</td>\n",
       "      <td>684538444857667585</td>\n",
       "      <td>After watching this video, we've determined th...</td>\n",
       "      <td>{'hashtags': [], 'symbols': [], 'user_mentions...</td>\n",
       "      <td>&lt;a href=\"http://twitter.com/download/iphone\" r...</td>\n",
       "      <td>6.844811e+17</td>\n",
       "      <td>4.196984e+09</td>\n",
       "      <td>dog_rates</td>\n",
       "      <td>{'id': 4196983835, 'id_str': '4196983835', 'na...</td>\n",
       "      <td>NaN</td>\n",
       "      <td>NaN</td>\n",
       "      <td>NaN</td>\n",
       "      <td>NaN</td>\n",
       "      <td>False</td>\n",
       "      <td>856</td>\n",
       "      <td>2439</td>\n",
       "      <td>False</td>\n",
       "      <td>False</td>\n",
       "      <td>en</td>\n",
       "    </tr>\n",
       "    <tr>\n",
       "      <th>807</th>\n",
       "      <td>Wed Jan 27 00:31:15 +0000 2016</td>\n",
       "      <td>692142790915014657</td>\n",
       "      <td>These are some pictures of Teddy that further ...</td>\n",
       "      <td>{'hashtags': [], 'symbols': [], 'user_mentions...</td>\n",
       "      <td>&lt;a href=\"http://twitter.com/download/iphone\" r...</td>\n",
       "      <td>6.920419e+17</td>\n",
       "      <td>4.196984e+09</td>\n",
       "      <td>dog_rates</td>\n",
       "      <td>{'id': 4196983835, 'id_str': '4196983835', 'na...</td>\n",
       "      <td>NaN</td>\n",
       "      <td>NaN</td>\n",
       "      <td>NaN</td>\n",
       "      <td>NaN</td>\n",
       "      <td>False</td>\n",
       "      <td>355</td>\n",
       "      <td>1513</td>\n",
       "      <td>False</td>\n",
       "      <td>False</td>\n",
       "      <td>en</td>\n",
       "    </tr>\n",
       "    <tr>\n",
       "      <th>838</th>\n",
       "      <td>Tue Feb 02 03:08:26 +0000 2016</td>\n",
       "      <td>694356675654983680</td>\n",
       "      <td>This pupper only appears through the hole of a...</td>\n",
       "      <td>{'hashtags': [], 'symbols': [], 'user_mentions...</td>\n",
       "      <td>&lt;a href=\"http://twitter.com/download/iphone\" r...</td>\n",
       "      <td>6.706684e+17</td>\n",
       "      <td>4.196984e+09</td>\n",
       "      <td>dog_rates</td>\n",
       "      <td>{'id': 4196983835, 'id_str': '4196983835', 'na...</td>\n",
       "      <td>NaN</td>\n",
       "      <td>NaN</td>\n",
       "      <td>NaN</td>\n",
       "      <td>NaN</td>\n",
       "      <td>False</td>\n",
       "      <td>251</td>\n",
       "      <td>1388</td>\n",
       "      <td>False</td>\n",
       "      <td>False</td>\n",
       "      <td>en</td>\n",
       "    </tr>\n",
       "    <tr>\n",
       "      <th>849</th>\n",
       "      <td>Sat Feb 06 00:35:13 +0000 2016</td>\n",
       "      <td>695767669421768709</td>\n",
       "      <td>If you are aware of who is making these please...</td>\n",
       "      <td>{'hashtags': [], 'symbols': [], 'user_mentions...</td>\n",
       "      <td>&lt;a href=\"http://twitter.com/download/iphone\" r...</td>\n",
       "      <td>6.753494e+17</td>\n",
       "      <td>4.196984e+09</td>\n",
       "      <td>dog_rates</td>\n",
       "      <td>{'id': 4196983835, 'id_str': '4196983835', 'na...</td>\n",
       "      <td>NaN</td>\n",
       "      <td>NaN</td>\n",
       "      <td>NaN</td>\n",
       "      <td>NaN</td>\n",
       "      <td>False</td>\n",
       "      <td>666</td>\n",
       "      <td>1713</td>\n",
       "      <td>False</td>\n",
       "      <td>False</td>\n",
       "      <td>en</td>\n",
       "    </tr>\n",
       "    <tr>\n",
       "      <th>935</th>\n",
       "      <td>Sat Feb 27 03:42:44 +0000 2016</td>\n",
       "      <td>703425003149250560</td>\n",
       "      <td>Really guys? Again? I know this is a rare Alba...</td>\n",
       "      <td>{'hashtags': [], 'symbols': [], 'user_mentions...</td>\n",
       "      <td>&lt;a href=\"http://twitter.com/download/iphone\" r...</td>\n",
       "      <td>7.030419e+17</td>\n",
       "      <td>4.196984e+09</td>\n",
       "      <td>dog_rates</td>\n",
       "      <td>{'id': 4196983835, 'id_str': '4196983835', 'na...</td>\n",
       "      <td>NaN</td>\n",
       "      <td>NaN</td>\n",
       "      <td>NaN</td>\n",
       "      <td>NaN</td>\n",
       "      <td>False</td>\n",
       "      <td>1225</td>\n",
       "      <td>3509</td>\n",
       "      <td>False</td>\n",
       "      <td>False</td>\n",
       "      <td>en</td>\n",
       "    </tr>\n",
       "    <tr>\n",
       "      <th>950</th>\n",
       "      <td>Wed Mar 02 03:30:25 +0000 2016</td>\n",
       "      <td>704871453724954624</td>\n",
       "      <td>I found a forest Pipsy. 12/10 https://t.co/mIQ...</td>\n",
       "      <td>{'hashtags': [], 'symbols': [], 'user_mentions...</td>\n",
       "      <td>&lt;a href=\"http://twitter.com/download/iphone\" r...</td>\n",
       "      <td>6.671522e+17</td>\n",
       "      <td>4.196984e+09</td>\n",
       "      <td>dog_rates</td>\n",
       "      <td>{'id': 4196983835, 'id_str': '4196983835', 'na...</td>\n",
       "      <td>NaN</td>\n",
       "      <td>NaN</td>\n",
       "      <td>NaN</td>\n",
       "      <td>NaN</td>\n",
       "      <td>False</td>\n",
       "      <td>1018</td>\n",
       "      <td>3967</td>\n",
       "      <td>False</td>\n",
       "      <td>False</td>\n",
       "      <td>en</td>\n",
       "    </tr>\n",
       "    <tr>\n",
       "      <th>959</th>\n",
       "      <td>Fri Mar 04 16:06:36 +0000 2016</td>\n",
       "      <td>705786532653883392</td>\n",
       "      <td>Seriously, add us 🐶 11/10 for sad wet pupper h...</td>\n",
       "      <td>{'hashtags': [], 'symbols': [], 'user_mentions...</td>\n",
       "      <td>&lt;a href=\"http://twitter.com/download/iphone\" r...</td>\n",
       "      <td>7.032559e+17</td>\n",
       "      <td>4.196984e+09</td>\n",
       "      <td>dog_rates</td>\n",
       "      <td>{'id': 4196983835, 'id_str': '4196983835', 'na...</td>\n",
       "      <td>NaN</td>\n",
       "      <td>NaN</td>\n",
       "      <td>NaN</td>\n",
       "      <td>NaN</td>\n",
       "      <td>False</td>\n",
       "      <td>468</td>\n",
       "      <td>1798</td>\n",
       "      <td>False</td>\n",
       "      <td>False</td>\n",
       "      <td>en</td>\n",
       "    </tr>\n",
       "    <tr>\n",
       "      <th>1140</th>\n",
       "      <td>Tue May 10 01:00:58 +0000 2016</td>\n",
       "      <td>729838605770891264</td>\n",
       "      <td>\"Challenge completed\" \\n(pupgraded to 12/10) h...</td>\n",
       "      <td>{'hashtags': [], 'symbols': [], 'user_mentions...</td>\n",
       "      <td>&lt;a href=\"http://twitter.com/download/iphone\" r...</td>\n",
       "      <td>7.291135e+17</td>\n",
       "      <td>4.196984e+09</td>\n",
       "      <td>dog_rates</td>\n",
       "      <td>{'id': 4196983835, 'id_str': '4196983835', 'na...</td>\n",
       "      <td>NaN</td>\n",
       "      <td>NaN</td>\n",
       "      <td>NaN</td>\n",
       "      <td>NaN</td>\n",
       "      <td>False</td>\n",
       "      <td>338</td>\n",
       "      <td>1603</td>\n",
       "      <td>False</td>\n",
       "      <td>False</td>\n",
       "      <td>en</td>\n",
       "    </tr>\n",
       "    <tr>\n",
       "      <th>1237</th>\n",
       "      <td>Sat Jun 25 21:34:37 +0000 2016</td>\n",
       "      <td>746818907684614144</td>\n",
       "      <td>Guys... Dog Jesus 2.0\\n13/10 buoyant af https:...</td>\n",
       "      <td>{'hashtags': [], 'symbols': [], 'user_mentions...</td>\n",
       "      <td>&lt;a href=\"http://twitter.com/download/iphone\" r...</td>\n",
       "      <td>6.914169e+17</td>\n",
       "      <td>4.196984e+09</td>\n",
       "      <td>dog_rates</td>\n",
       "      <td>{'id': 4196983835, 'id_str': '4196983835', 'na...</td>\n",
       "      <td>NaN</td>\n",
       "      <td>NaN</td>\n",
       "      <td>NaN</td>\n",
       "      <td>NaN</td>\n",
       "      <td>False</td>\n",
       "      <td>1596</td>\n",
       "      <td>4957</td>\n",
       "      <td>False</td>\n",
       "      <td>False</td>\n",
       "      <td>en</td>\n",
       "    </tr>\n",
       "    <tr>\n",
       "      <th>1239</th>\n",
       "      <td>Sun Jun 26 03:22:31 +0000 2016</td>\n",
       "      <td>746906459439529985</td>\n",
       "      <td>PUPDATE: can't see any. Even if I could, I cou...</td>\n",
       "      <td>{'hashtags': [], 'symbols': [], 'user_mentions...</td>\n",
       "      <td>&lt;a href=\"http://twitter.com/download/iphone\" r...</td>\n",
       "      <td>7.468859e+17</td>\n",
       "      <td>4.196984e+09</td>\n",
       "      <td>dog_rates</td>\n",
       "      <td>{'id': 4196983835, 'id_str': '4196983835', 'na...</td>\n",
       "      <td>NaN</td>\n",
       "      <td>NaN</td>\n",
       "      <td>NaN</td>\n",
       "      <td>NaN</td>\n",
       "      <td>False</td>\n",
       "      <td>271</td>\n",
       "      <td>2723</td>\n",
       "      <td>False</td>\n",
       "      <td>False</td>\n",
       "      <td>en</td>\n",
       "    </tr>\n",
       "    <tr>\n",
       "      <th>1609</th>\n",
       "      <td>Fri Nov 25 21:37:47 +0000 2016</td>\n",
       "      <td>802265048156610565</td>\n",
       "      <td>Like doggo, like pupper version 2. Both 11/10 ...</td>\n",
       "      <td>{'hashtags': [], 'symbols': [], 'user_mentions...</td>\n",
       "      <td>&lt;a href=\"http://twitter.com/download/iphone\" r...</td>\n",
       "      <td>7.331095e+17</td>\n",
       "      <td>4.196984e+09</td>\n",
       "      <td>dog_rates</td>\n",
       "      <td>{'id': 4196983835, 'id_str': '4196983835', 'na...</td>\n",
       "      <td>NaN</td>\n",
       "      <td>NaN</td>\n",
       "      <td>NaN</td>\n",
       "      <td>NaN</td>\n",
       "      <td>False</td>\n",
       "      <td>1295</td>\n",
       "      <td>6622</td>\n",
       "      <td>False</td>\n",
       "      <td>False</td>\n",
       "      <td>en</td>\n",
       "    </tr>\n",
       "    <tr>\n",
       "      <th>1860</th>\n",
       "      <td>Thu Mar 23 18:29:57 +0000 2017</td>\n",
       "      <td>844979544864018432</td>\n",
       "      <td>PUPDATE: I'm proud to announce that Toby is 23...</td>\n",
       "      <td>{'hashtags': [], 'symbols': [], 'user_mentions...</td>\n",
       "      <td>&lt;a href=\"http://twitter.com/download/iphone\" r...</td>\n",
       "      <td>7.590995e+17</td>\n",
       "      <td>4.196984e+09</td>\n",
       "      <td>dog_rates</td>\n",
       "      <td>{'id': 4196983835, 'id_str': '4196983835', 'na...</td>\n",
       "      <td>NaN</td>\n",
       "      <td>NaN</td>\n",
       "      <td>NaN</td>\n",
       "      <td>NaN</td>\n",
       "      <td>False</td>\n",
       "      <td>2317</td>\n",
       "      <td>12692</td>\n",
       "      <td>False</td>\n",
       "      <td>False</td>\n",
       "      <td>en</td>\n",
       "    </tr>\n",
       "    <tr>\n",
       "      <th>1907</th>\n",
       "      <td>Mon Apr 24 15:13:52 +0000 2017</td>\n",
       "      <td>856526610513747968</td>\n",
       "      <td>THIS IS CHARLIE, MARK. HE DID JUST WANT TO SAY...</td>\n",
       "      <td>{'hashtags': [], 'symbols': [], 'user_mentions...</td>\n",
       "      <td>&lt;a href=\"http://twitter.com/download/iphone\" r...</td>\n",
       "      <td>8.558181e+17</td>\n",
       "      <td>4.196984e+09</td>\n",
       "      <td>dog_rates</td>\n",
       "      <td>{'id': 4196983835, 'id_str': '4196983835', 'na...</td>\n",
       "      <td>NaN</td>\n",
       "      <td>NaN</td>\n",
       "      <td>NaN</td>\n",
       "      <td>NaN</td>\n",
       "      <td>False</td>\n",
       "      <td>1654</td>\n",
       "      <td>10831</td>\n",
       "      <td>False</td>\n",
       "      <td>False</td>\n",
       "      <td>en</td>\n",
       "    </tr>\n",
       "    <tr>\n",
       "      <th>1935</th>\n",
       "      <td>Fri May 12 17:12:53 +0000 2017</td>\n",
       "      <td>863079547188785154</td>\n",
       "      <td>Ladies and gentlemen... I found Pipsy. He may ...</td>\n",
       "      <td>{'hashtags': [], 'symbols': [], 'user_mentions...</td>\n",
       "      <td>&lt;a href=\"http://twitter.com/download/iphone\" r...</td>\n",
       "      <td>6.671522e+17</td>\n",
       "      <td>4.196984e+09</td>\n",
       "      <td>dog_rates</td>\n",
       "      <td>{'id': 4196983835, 'id_str': '4196983835', 'na...</td>\n",
       "      <td>NaN</td>\n",
       "      <td>NaN</td>\n",
       "      <td>NaN</td>\n",
       "      <td>NaN</td>\n",
       "      <td>False</td>\n",
       "      <td>953</td>\n",
       "      <td>7899</td>\n",
       "      <td>False</td>\n",
       "      <td>False</td>\n",
       "      <td>en</td>\n",
       "    </tr>\n",
       "  </tbody>\n",
       "</table>\n",
       "</div>"
      ],
      "text/plain": [
       "                          created_at                  id  \\\n",
       "183   Wed Nov 25 03:14:30 +0000 2015  669353438988365824   \n",
       "314   Tue Dec 01 16:37:44 +0000 2015  671729906628341761   \n",
       "453   Thu Dec 10 00:54:28 +0000 2015  674754018082705410   \n",
       "460   Thu Dec 10 03:30:58 +0000 2015  674793399141146624   \n",
       "463   Thu Dec 10 17:11:09 +0000 2015  674999807681908736   \n",
       "479   Fri Dec 11 16:20:15 +0000 2015  675349384339542016   \n",
       "493   Sat Dec 12 16:02:36 +0000 2015  675707330206547968   \n",
       "502   Sun Dec 13 02:51:51 +0000 2015  675870721063669760   \n",
       "692   Tue Jan 05 04:11:44 +0000 2016  684225744407494656   \n",
       "696   Wed Jan 06 00:54:18 +0000 2016  684538444857667585   \n",
       "807   Wed Jan 27 00:31:15 +0000 2016  692142790915014657   \n",
       "838   Tue Feb 02 03:08:26 +0000 2016  694356675654983680   \n",
       "849   Sat Feb 06 00:35:13 +0000 2016  695767669421768709   \n",
       "935   Sat Feb 27 03:42:44 +0000 2016  703425003149250560   \n",
       "950   Wed Mar 02 03:30:25 +0000 2016  704871453724954624   \n",
       "959   Fri Mar 04 16:06:36 +0000 2016  705786532653883392   \n",
       "1140  Tue May 10 01:00:58 +0000 2016  729838605770891264   \n",
       "1237  Sat Jun 25 21:34:37 +0000 2016  746818907684614144   \n",
       "1239  Sun Jun 26 03:22:31 +0000 2016  746906459439529985   \n",
       "1609  Fri Nov 25 21:37:47 +0000 2016  802265048156610565   \n",
       "1860  Thu Mar 23 18:29:57 +0000 2017  844979544864018432   \n",
       "1907  Mon Apr 24 15:13:52 +0000 2017  856526610513747968   \n",
       "1935  Fri May 12 17:12:53 +0000 2017  863079547188785154   \n",
       "\n",
       "                                              full_text  \\\n",
       "183   This is Tessa. She is also very pleased after ...   \n",
       "314   I'm just going to leave this one here as well....   \n",
       "453   Just received another perfect photo of dogs an...   \n",
       "460   I have found another. 13/10 https://t.co/HwroP...   \n",
       "463   Ok last one of these. I may try to make some m...   \n",
       "479   Yea I lied. Here's more. All 13/10 https://t.c...   \n",
       "493   We've got ourselves a battle here. Watch out R...   \n",
       "502   &amp; this is Yoshi. Another world record cont...   \n",
       "692   Two sneaky puppers were not initially seen, mo...   \n",
       "696   After watching this video, we've determined th...   \n",
       "807   These are some pictures of Teddy that further ...   \n",
       "838   This pupper only appears through the hole of a...   \n",
       "849   If you are aware of who is making these please...   \n",
       "935   Really guys? Again? I know this is a rare Alba...   \n",
       "950   I found a forest Pipsy. 12/10 https://t.co/mIQ...   \n",
       "959   Seriously, add us 🐶 11/10 for sad wet pupper h...   \n",
       "1140  \"Challenge completed\" \\n(pupgraded to 12/10) h...   \n",
       "1237  Guys... Dog Jesus 2.0\\n13/10 buoyant af https:...   \n",
       "1239  PUPDATE: can't see any. Even if I could, I cou...   \n",
       "1609  Like doggo, like pupper version 2. Both 11/10 ...   \n",
       "1860  PUPDATE: I'm proud to announce that Toby is 23...   \n",
       "1907  THIS IS CHARLIE, MARK. HE DID JUST WANT TO SAY...   \n",
       "1935  Ladies and gentlemen... I found Pipsy. He may ...   \n",
       "\n",
       "                                               entities  \\\n",
       "183   {'hashtags': [], 'symbols': [], 'user_mentions...   \n",
       "314   {'hashtags': [], 'symbols': [], 'user_mentions...   \n",
       "453   {'hashtags': [], 'symbols': [], 'user_mentions...   \n",
       "460   {'hashtags': [], 'symbols': [], 'user_mentions...   \n",
       "463   {'hashtags': [], 'symbols': [], 'user_mentions...   \n",
       "479   {'hashtags': [], 'symbols': [], 'user_mentions...   \n",
       "493   {'hashtags': [], 'symbols': [], 'user_mentions...   \n",
       "502   {'hashtags': [], 'symbols': [], 'user_mentions...   \n",
       "692   {'hashtags': [], 'symbols': [], 'user_mentions...   \n",
       "696   {'hashtags': [], 'symbols': [], 'user_mentions...   \n",
       "807   {'hashtags': [], 'symbols': [], 'user_mentions...   \n",
       "838   {'hashtags': [], 'symbols': [], 'user_mentions...   \n",
       "849   {'hashtags': [], 'symbols': [], 'user_mentions...   \n",
       "935   {'hashtags': [], 'symbols': [], 'user_mentions...   \n",
       "950   {'hashtags': [], 'symbols': [], 'user_mentions...   \n",
       "959   {'hashtags': [], 'symbols': [], 'user_mentions...   \n",
       "1140  {'hashtags': [], 'symbols': [], 'user_mentions...   \n",
       "1237  {'hashtags': [], 'symbols': [], 'user_mentions...   \n",
       "1239  {'hashtags': [], 'symbols': [], 'user_mentions...   \n",
       "1609  {'hashtags': [], 'symbols': [], 'user_mentions...   \n",
       "1860  {'hashtags': [], 'symbols': [], 'user_mentions...   \n",
       "1907  {'hashtags': [], 'symbols': [], 'user_mentions...   \n",
       "1935  {'hashtags': [], 'symbols': [], 'user_mentions...   \n",
       "\n",
       "                                                 source  \\\n",
       "183   <a href=\"http://twitter.com/download/iphone\" r...   \n",
       "314   <a href=\"http://twitter.com/download/iphone\" r...   \n",
       "453   <a href=\"http://twitter.com/download/iphone\" r...   \n",
       "460   <a href=\"http://twitter.com/download/iphone\" r...   \n",
       "463   <a href=\"http://twitter.com/download/iphone\" r...   \n",
       "479   <a href=\"http://twitter.com/download/iphone\" r...   \n",
       "493   <a href=\"http://twitter.com/download/iphone\" r...   \n",
       "502   <a href=\"http://twitter.com/download/iphone\" r...   \n",
       "692   <a href=\"http://twitter.com/download/iphone\" r...   \n",
       "696   <a href=\"http://twitter.com/download/iphone\" r...   \n",
       "807   <a href=\"http://twitter.com/download/iphone\" r...   \n",
       "838   <a href=\"http://twitter.com/download/iphone\" r...   \n",
       "849   <a href=\"http://twitter.com/download/iphone\" r...   \n",
       "935   <a href=\"http://twitter.com/download/iphone\" r...   \n",
       "950   <a href=\"http://twitter.com/download/iphone\" r...   \n",
       "959   <a href=\"http://twitter.com/download/iphone\" r...   \n",
       "1140  <a href=\"http://twitter.com/download/iphone\" r...   \n",
       "1237  <a href=\"http://twitter.com/download/iphone\" r...   \n",
       "1239  <a href=\"http://twitter.com/download/iphone\" r...   \n",
       "1609  <a href=\"http://twitter.com/download/iphone\" r...   \n",
       "1860  <a href=\"http://twitter.com/download/iphone\" r...   \n",
       "1907  <a href=\"http://twitter.com/download/iphone\" r...   \n",
       "1935  <a href=\"http://twitter.com/download/iphone\" r...   \n",
       "\n",
       "      in_reply_to_status_id  in_reply_to_user_id in_reply_to_screen_name  \\\n",
       "183            6.678065e+17         4.196984e+09               dog_rates   \n",
       "314            6.715610e+17         4.196984e+09               dog_rates   \n",
       "453            6.747522e+17         4.196984e+09               dog_rates   \n",
       "460            6.717299e+17         4.196984e+09               dog_rates   \n",
       "463            6.747934e+17         4.196984e+09               dog_rates   \n",
       "479            6.749998e+17         4.196984e+09               dog_rates   \n",
       "493            6.754971e+17         4.196984e+09               dog_rates   \n",
       "502            6.757073e+17         4.196984e+09               dog_rates   \n",
       "692            6.842229e+17         4.196984e+09               dog_rates   \n",
       "696            6.844811e+17         4.196984e+09               dog_rates   \n",
       "807            6.920419e+17         4.196984e+09               dog_rates   \n",
       "838            6.706684e+17         4.196984e+09               dog_rates   \n",
       "849            6.753494e+17         4.196984e+09               dog_rates   \n",
       "935            7.030419e+17         4.196984e+09               dog_rates   \n",
       "950            6.671522e+17         4.196984e+09               dog_rates   \n",
       "959            7.032559e+17         4.196984e+09               dog_rates   \n",
       "1140           7.291135e+17         4.196984e+09               dog_rates   \n",
       "1237           6.914169e+17         4.196984e+09               dog_rates   \n",
       "1239           7.468859e+17         4.196984e+09               dog_rates   \n",
       "1609           7.331095e+17         4.196984e+09               dog_rates   \n",
       "1860           7.590995e+17         4.196984e+09               dog_rates   \n",
       "1907           8.558181e+17         4.196984e+09               dog_rates   \n",
       "1935           6.671522e+17         4.196984e+09               dog_rates   \n",
       "\n",
       "                                                   user  geo  coordinates  \\\n",
       "183   {'id': 4196983835, 'id_str': '4196983835', 'na...  NaN          NaN   \n",
       "314   {'id': 4196983835, 'id_str': '4196983835', 'na...  NaN          NaN   \n",
       "453   {'id': 4196983835, 'id_str': '4196983835', 'na...  NaN          NaN   \n",
       "460   {'id': 4196983835, 'id_str': '4196983835', 'na...  NaN          NaN   \n",
       "463   {'id': 4196983835, 'id_str': '4196983835', 'na...  NaN          NaN   \n",
       "479   {'id': 4196983835, 'id_str': '4196983835', 'na...  NaN          NaN   \n",
       "493   {'id': 4196983835, 'id_str': '4196983835', 'na...  NaN          NaN   \n",
       "502   {'id': 4196983835, 'id_str': '4196983835', 'na...  NaN          NaN   \n",
       "692   {'id': 4196983835, 'id_str': '4196983835', 'na...  NaN          NaN   \n",
       "696   {'id': 4196983835, 'id_str': '4196983835', 'na...  NaN          NaN   \n",
       "807   {'id': 4196983835, 'id_str': '4196983835', 'na...  NaN          NaN   \n",
       "838   {'id': 4196983835, 'id_str': '4196983835', 'na...  NaN          NaN   \n",
       "849   {'id': 4196983835, 'id_str': '4196983835', 'na...  NaN          NaN   \n",
       "935   {'id': 4196983835, 'id_str': '4196983835', 'na...  NaN          NaN   \n",
       "950   {'id': 4196983835, 'id_str': '4196983835', 'na...  NaN          NaN   \n",
       "959   {'id': 4196983835, 'id_str': '4196983835', 'na...  NaN          NaN   \n",
       "1140  {'id': 4196983835, 'id_str': '4196983835', 'na...  NaN          NaN   \n",
       "1237  {'id': 4196983835, 'id_str': '4196983835', 'na...  NaN          NaN   \n",
       "1239  {'id': 4196983835, 'id_str': '4196983835', 'na...  NaN          NaN   \n",
       "1609  {'id': 4196983835, 'id_str': '4196983835', 'na...  NaN          NaN   \n",
       "1860  {'id': 4196983835, 'id_str': '4196983835', 'na...  NaN          NaN   \n",
       "1907  {'id': 4196983835, 'id_str': '4196983835', 'na...  NaN          NaN   \n",
       "1935  {'id': 4196983835, 'id_str': '4196983835', 'na...  NaN          NaN   \n",
       "\n",
       "     place  contributors  is_quote_status  retweet_count  favorite_count  \\\n",
       "183    NaN           NaN            False            228             566   \n",
       "314    NaN           NaN            False           3806            7491   \n",
       "453    NaN           NaN            False            384            1229   \n",
       "460    NaN           NaN            False            954            2223   \n",
       "463    NaN           NaN            False            957            1996   \n",
       "479    NaN           NaN            False           2001            3534   \n",
       "493    NaN           NaN            False            600            1786   \n",
       "502    NaN           NaN            False            500            1469   \n",
       "692    NaN           NaN            False            184            1148   \n",
       "696    NaN           NaN            False            856            2439   \n",
       "807    NaN           NaN            False            355            1513   \n",
       "838    NaN           NaN            False            251            1388   \n",
       "849    NaN           NaN            False            666            1713   \n",
       "935    NaN           NaN            False           1225            3509   \n",
       "950    NaN           NaN            False           1018            3967   \n",
       "959    NaN           NaN            False            468            1798   \n",
       "1140   NaN           NaN            False            338            1603   \n",
       "1237   NaN           NaN            False           1596            4957   \n",
       "1239   NaN           NaN            False            271            2723   \n",
       "1609   NaN           NaN            False           1295            6622   \n",
       "1860   NaN           NaN            False           2317           12692   \n",
       "1907   NaN           NaN            False           1654           10831   \n",
       "1935   NaN           NaN            False            953            7899   \n",
       "\n",
       "      favorited  retweeted lang  \n",
       "183       False      False   en  \n",
       "314       False      False   en  \n",
       "453       False      False   en  \n",
       "460       False      False   en  \n",
       "463       False      False   en  \n",
       "479       False      False   en  \n",
       "493       False      False   en  \n",
       "502       False      False   en  \n",
       "692       False      False   en  \n",
       "696       False      False   en  \n",
       "807       False      False   en  \n",
       "838       False      False   en  \n",
       "849       False      False   en  \n",
       "935       False      False   en  \n",
       "950       False      False   en  \n",
       "959       False      False   en  \n",
       "1140      False      False   en  \n",
       "1237      False      False   en  \n",
       "1239      False      False   en  \n",
       "1609      False      False   en  \n",
       "1860      False      False   en  \n",
       "1907      False      False   en  \n",
       "1935      False      False   en  "
      ]
     },
     "execution_count": 99,
     "metadata": {},
     "output_type": "execute_result"
    }
   ],
   "source": [
    "df_twitter_response[~df_twitter_response['in_reply_to_status_id'].isnull()]"
   ]
  },
  {
   "cell_type": "code",
   "execution_count": 100,
   "id": "a7c3c958",
   "metadata": {},
   "outputs": [
    {
     "data": {
      "text/plain": [
       "1356    <a href=\"http://twitter.com/download/iphone\" r...\n",
       "Name: source, dtype: object"
      ]
     },
     "execution_count": 100,
     "metadata": {},
     "output_type": "execute_result"
    }
   ],
   "source": [
    "df_twitter_response['source'].sample(1)"
   ]
  },
  {
   "cell_type": "code",
   "execution_count": 101,
   "id": "25a4a962",
   "metadata": {
    "scrolled": true
   },
   "outputs": [
    {
     "data": {
      "text/plain": [
       "en    2049\n",
       "nl       3\n",
       "in       2\n",
       "et       1\n",
       "ro       1\n",
       "eu       1\n",
       "Name: lang, dtype: int64"
      ]
     },
     "execution_count": 101,
     "metadata": {},
     "output_type": "execute_result"
    }
   ],
   "source": [
    "# The list of all languages for tweets\n",
    "df_twitter_response['lang'].value_counts()"
   ]
  },
  {
   "cell_type": "code",
   "execution_count": 102,
   "id": "0dbc3888",
   "metadata": {},
   "outputs": [
    {
     "name": "stdout",
     "output_type": "stream",
     "text": [
      "0\n",
      "0\n",
      "0\n"
     ]
    }
   ],
   "source": [
    "\n",
    "print(sum(df_twitter_response['favorited']==True))\n",
    "print(sum(df_twitter_response['retweeted']==True))\n",
    "print(sum(df_twitter_response['is_quote_status']==True))"
   ]
  },
  {
   "cell_type": "markdown",
   "id": "702ce668",
   "metadata": {},
   "source": [
    "### Assessing the tweet_id column of the df_twitter_archive table\n"
   ]
  },
  {
   "cell_type": "code",
   "execution_count": 103,
   "id": "5006c63d",
   "metadata": {},
   "outputs": [
    {
     "data": {
      "text/plain": [
       "tweet_id                      23\n",
       "in_reply_to_status_id          5\n",
       "in_reply_to_user_id            5\n",
       "timestamp                     23\n",
       "source                        23\n",
       "text                          23\n",
       "retweeted_status_id            1\n",
       "retweeted_status_user_id       1\n",
       "retweeted_status_timestamp     1\n",
       "expanded_urls                 19\n",
       "rating_numerator              23\n",
       "rating_denominator            23\n",
       "name                          23\n",
       "doggo                         23\n",
       "floofer                       23\n",
       "pupper                        23\n",
       "puppo                         23\n",
       "dtype: int64"
      ]
     },
     "execution_count": 103,
     "metadata": {},
     "output_type": "execute_result"
    }
   ],
   "source": [
    "#count of observations with rating_denominator not equal to 10\n",
    "df_twitter_archive[df_twitter_archive['rating_denominator']!=10].count()"
   ]
  },
  {
   "cell_type": "code",
   "execution_count": 104,
   "id": "a21c79b9",
   "metadata": {},
   "outputs": [
    {
     "data": {
      "text/plain": [
       "26"
      ]
     },
     "execution_count": 104,
     "metadata": {},
     "output_type": "execute_result"
    }
   ],
   "source": [
    "#count of observations with rating numerator greater than or equal to 15\n",
    "df_twitter_archive['rating_numerator'][df_twitter_archive['rating_numerator']>15].count()"
   ]
  },
  {
   "cell_type": "code",
   "execution_count": 105,
   "id": "3f886101",
   "metadata": {},
   "outputs": [
    {
     "data": {
      "text/plain": [
       "tweet_id                      55\n",
       "in_reply_to_status_id          0\n",
       "in_reply_to_user_id            0\n",
       "timestamp                     55\n",
       "source                        55\n",
       "text                          55\n",
       "retweeted_status_id            0\n",
       "retweeted_status_user_id       0\n",
       "retweeted_status_timestamp     0\n",
       "expanded_urls                 55\n",
       "rating_numerator              55\n",
       "rating_denominator            55\n",
       "name                          55\n",
       "doggo                         55\n",
       "floofer                       55\n",
       "pupper                        55\n",
       "puppo                         55\n",
       "dtype: int64"
      ]
     },
     "execution_count": 105,
     "metadata": {},
     "output_type": "execute_result"
    }
   ],
   "source": [
    "# observing the name field\n",
    "df_twitter_archive[df_twitter_archive['name']=='a'].count()"
   ]
  },
  {
   "cell_type": "code",
   "execution_count": 106,
   "id": "7da8bb49",
   "metadata": {},
   "outputs": [
    {
     "data": {
      "text/plain": [
       "tweet_id                      2\n",
       "in_reply_to_status_id         0\n",
       "in_reply_to_user_id           0\n",
       "timestamp                     2\n",
       "source                        2\n",
       "text                          2\n",
       "retweeted_status_id           0\n",
       "retweeted_status_user_id      0\n",
       "retweeted_status_timestamp    0\n",
       "expanded_urls                 2\n",
       "rating_numerator              2\n",
       "rating_denominator            2\n",
       "name                          2\n",
       "doggo                         2\n",
       "floofer                       2\n",
       "pupper                        2\n",
       "puppo                         2\n",
       "dtype: int64"
      ]
     },
     "execution_count": 106,
     "metadata": {},
     "output_type": "execute_result"
    }
   ],
   "source": [
    "df_twitter_archive[df_twitter_archive['name']=='actually'].count()"
   ]
  },
  {
   "cell_type": "markdown",
   "id": "2e8eb0e3",
   "metadata": {},
   "source": [
    "## ASSESSING\n",
    "\n",
    "### tidyness issues\n",
    "- The `entities` field contains more than one data points per observation.\n",
    "- The four fields `doggo`, `floofer`, `pupper`, `puppo` are all variables of a single field `growth_stage`\n",
    "- There are six fields in the image_prediction table answering the same question of, what breed is the dog `p1`, `p1_conf`, `p2`, `p2_conf`, `p3`, `p3_conf`.\n",
    "- There are 3 fields in the image_prediction table answering the same question, is it a Dog? `p1_dog`,`p2_dog` and `p3_dog`.\n",
    "- Generally, there are a number of duplicate fields across the table.\n",
    "- There are two observational units in these dataset. The dog details and the tweets details."
   ]
  },
  {
   "cell_type": "markdown",
   "id": "8436e0fc",
   "metadata": {},
   "source": [
    "### df_twitter_response Table\n",
    "> #### Quality\n",
    "- All 23 non null values in `in_reponse_to_status_id` and in `in_reponse_to_screen_name` are from the same user, '4196983835', dog_rates.\n",
    "- The ``user`` column contains information of the twitter handle `We Rate Dogs` and its constant for all observation therefore not relevant for the analysis`\n",
    "- `favorited`, `retweeted` and `is_quote_status` have only False values. Since their values are the same for all observations. they are not relevant for our analysis\n",
    "- The following tables have only null values `geo`,`coordinates`,`place`,and `contributors`.\n"
   ]
  },
  {
   "cell_type": "markdown",
   "id": "9e0a21c9",
   "metadata": {},
   "source": [
    "\n",
    "### df_twitter_archive\n",
    "> #### Quality\n",
    "- `in_reply_to_status_id` field does not contain accurate status id information\n",
    "- `in_reply_to_user_id` field does not contain significant information for this analysis\n",
    "- ``retweeted_status_id``, ``retweeted_status_user_id`` and ``retweeted_status_timestamp`` are indication of retweeted status  which constitutes  duplicated observations.\n",
    "- The required information from the `source` field is not explicitly expressed in the field\n",
    "- `rating_numerator` values greater than 15 are most likely not correct.there are 25 observations with values greater than 15\n",
    "- `rating_denominator` should be 10. There are 23 observations with values not equal to 10\n",
    "- Timestamp column is a string type object instead of a datetime object \n",
    "- Observing some unlikely names in the `name` column\n",
    "    - 55 dogs are named **a**\n",
    "    - 2 dogs were named **actually**\n",
    "    - 1 was named **all**\n",
    "    - 7 was named **an**\n",
    "    - 1 was named **by**\n",
    "    - 1 was named **his**\n",
    "    - 4 were named **just**\n",
    "    - 1 was named **life**\n",
    "    - 2 were named **not**\n",
    "    - 1 was named **O**\n",
    "    - 4 were named **one**\n",
    "    - 1 was named **this**\n",
    "    - 1 was named **unacceptable**\n",
    "    - 1 was named **old**\n",
    "    - 1 was named **space**\n",
    "    - 8 was named **the**\n",
    "    - 1 was named **officially**\n"
   ]
  },
  {
   "cell_type": "markdown",
   "id": "07b7c0b1",
   "metadata": {},
   "source": [
    "### image_predictions\n",
    "> #### Quality\n",
    "- Not all observatons are dogs\n"
   ]
  },
  {
   "cell_type": "markdown",
   "id": "8bb6943f",
   "metadata": {},
   "source": [
    "# Cleaning"
   ]
  },
  {
   "cell_type": "markdown",
   "id": "6cef86c0",
   "metadata": {},
   "source": [
    "#### First we need to create copies of the three dataframes"
   ]
  },
  {
   "cell_type": "code",
   "execution_count": 107,
   "id": "9c4d250d",
   "metadata": {},
   "outputs": [],
   "source": [
    "# creating copies\n",
    "df_twitter_response_clean = df_twitter_response.copy()\n",
    "df_twitter_archive_clean = df_twitter_archive.copy()\n",
    "df_image_prediction_clean = df_image_prediction.copy()"
   ]
  },
  {
   "cell_type": "markdown",
   "id": "b357f419",
   "metadata": {},
   "source": [
    "## Tidyness Issues"
   ]
  },
  {
   "cell_type": "markdown",
   "id": "f59fb38c",
   "metadata": {},
   "source": [
    "- **1** The entities field contains more than one data points per observation.\n",
    "- **2** The four fields doggo, floofer, pupper, puppo are all variables of a single field growth_stage\n",
    "- **3** There are 3 fields in the image_prediction table answering the same question, is it a Dog? p1_dog,p2_dog and p3_dog.\n",
    "- **4** There are six fields in the image_prediction table answering the same question of, what breed is the dog p1, p1_conf, p2, p2_conf, p3, p3_conf.\n",
    "- **5** Generally, there are a number of duplicate fields across the table.\n",
    "- **6** There are two observational units in these dataset. The dog details and the tweets details."
   ]
  },
  {
   "cell_type": "markdown",
   "id": "b0fd9050",
   "metadata": {},
   "source": [
    "- **1** The `entities` column contains more than one data points per observation."
   ]
  },
  {
   "cell_type": "markdown",
   "id": "f6c4a6aa",
   "metadata": {},
   "source": [
    "#### Define\n",
    "- Extract the largest image size per observation from the entities column\n",
    "- convert these values to integer\n",
    "- multiply the width and height information and divide by 1000000 to obtain the resolution in mega pixel\n",
    "- Drop the entities column and other intermediate column."
   ]
  },
  {
   "cell_type": "markdown",
   "id": "2d4ffeeb",
   "metadata": {},
   "source": [
    "#### Code"
   ]
  },
  {
   "cell_type": "code",
   "execution_count": 108,
   "id": "19e03341",
   "metadata": {},
   "outputs": [],
   "source": [
    "# using regex to extract desired pattern.\n",
    "df_twitter_response_clean[['img_width','img_height']]= df_twitter_response_clean['entities'].str.extract(\n",
    "    r\"'large':\\s\\D{2}\\w\\D+\\s(\\d+)\\D\\s\\D\\w\\D:\\s(\\d+)\")\n",
    "\n",
    "# convert the type to integer\n",
    "df_twitter_response_clean['img_width'] = df_twitter_response_clean.img_width.astype(int)\n",
    "\n",
    "# convert the type to integer\n",
    "df_twitter_response_clean.img_height = df_twitter_response_clean.img_height.astype(int)\n",
    "\n",
    "# multiplying the two columns img_width by img_height\n",
    "df_twitter_response_clean = df_twitter_response_clean.assign(img_resolution_MP = lambda x: round(\n",
    "    x['img_width']*x['img_height']/1000000,2))"
   ]
  },
  {
   "cell_type": "code",
   "execution_count": 109,
   "id": "c081a799",
   "metadata": {},
   "outputs": [],
   "source": [
    "# we will drop the 'entities' column as well as the 'img_width' and 'img_height'\n",
    "df_twitter_response_clean.drop(['entities', 'img_width', 'img_height'], axis = 1, inplace=True)\n"
   ]
  },
  {
   "cell_type": "code",
   "execution_count": 110,
   "id": "3078d4d7",
   "metadata": {},
   "outputs": [
    {
     "data": {
      "text/html": [
       "<div>\n",
       "<style scoped>\n",
       "    .dataframe tbody tr th:only-of-type {\n",
       "        vertical-align: middle;\n",
       "    }\n",
       "\n",
       "    .dataframe tbody tr th {\n",
       "        vertical-align: top;\n",
       "    }\n",
       "\n",
       "    .dataframe thead th {\n",
       "        text-align: right;\n",
       "    }\n",
       "</style>\n",
       "<table border=\"1\" class=\"dataframe\">\n",
       "  <thead>\n",
       "    <tr style=\"text-align: right;\">\n",
       "      <th></th>\n",
       "      <th>tweet_id</th>\n",
       "      <th>jpg_url</th>\n",
       "      <th>img_num</th>\n",
       "      <th>p1</th>\n",
       "      <th>p1_conf</th>\n",
       "      <th>p1_dog</th>\n",
       "      <th>p2</th>\n",
       "      <th>p2_conf</th>\n",
       "      <th>p2_dog</th>\n",
       "      <th>p3</th>\n",
       "      <th>p3_conf</th>\n",
       "      <th>p3_dog</th>\n",
       "    </tr>\n",
       "  </thead>\n",
       "  <tbody>\n",
       "    <tr>\n",
       "      <th>1795</th>\n",
       "      <td>831315979191906304</td>\n",
       "      <td>https://pbs.twimg.com/media/C4lst0bXAAE6MP8.jpg</td>\n",
       "      <td>4</td>\n",
       "      <td>briard</td>\n",
       "      <td>0.982755</td>\n",
       "      <td>True</td>\n",
       "      <td>soft-coated_wheaten_terrier</td>\n",
       "      <td>0.009084</td>\n",
       "      <td>True</td>\n",
       "      <td>Bouvier_des_Flandres</td>\n",
       "      <td>0.004693</td>\n",
       "      <td>True</td>\n",
       "    </tr>\n",
       "    <tr>\n",
       "      <th>1921</th>\n",
       "      <td>856526610513747968</td>\n",
       "      <td>https://pbs.twimg.com/media/C-L-aIYXgAIR0jY.jpg</td>\n",
       "      <td>1</td>\n",
       "      <td>Old_English_sheepdog</td>\n",
       "      <td>0.798481</td>\n",
       "      <td>True</td>\n",
       "      <td>Tibetan_terrier</td>\n",
       "      <td>0.060602</td>\n",
       "      <td>True</td>\n",
       "      <td>standard_poodle</td>\n",
       "      <td>0.040722</td>\n",
       "      <td>True</td>\n",
       "    </tr>\n",
       "    <tr>\n",
       "      <th>40</th>\n",
       "      <td>666691418707132416</td>\n",
       "      <td>https://pbs.twimg.com/media/CUCQTpEWEAA7EDz.jpg</td>\n",
       "      <td>1</td>\n",
       "      <td>German_shepherd</td>\n",
       "      <td>0.975401</td>\n",
       "      <td>True</td>\n",
       "      <td>beagle</td>\n",
       "      <td>0.008687</td>\n",
       "      <td>True</td>\n",
       "      <td>bloodhound</td>\n",
       "      <td>0.005394</td>\n",
       "      <td>True</td>\n",
       "    </tr>\n",
       "    <tr>\n",
       "      <th>897</th>\n",
       "      <td>699775878809702401</td>\n",
       "      <td>https://pbs.twimg.com/media/CbYac83W4AAUH1O.jpg</td>\n",
       "      <td>1</td>\n",
       "      <td>Dandie_Dinmont</td>\n",
       "      <td>0.271683</td>\n",
       "      <td>True</td>\n",
       "      <td>Old_English_sheepdog</td>\n",
       "      <td>0.164931</td>\n",
       "      <td>True</td>\n",
       "      <td>otterhound</td>\n",
       "      <td>0.105918</td>\n",
       "      <td>True</td>\n",
       "    </tr>\n",
       "    <tr>\n",
       "      <th>498</th>\n",
       "      <td>675820929667219457</td>\n",
       "      <td>https://pbs.twimg.com/media/CWD_jQMWEAAdYwH.jpg</td>\n",
       "      <td>1</td>\n",
       "      <td>basset</td>\n",
       "      <td>0.556373</td>\n",
       "      <td>True</td>\n",
       "      <td>beagle</td>\n",
       "      <td>0.201675</td>\n",
       "      <td>True</td>\n",
       "      <td>bloodhound</td>\n",
       "      <td>0.110848</td>\n",
       "      <td>True</td>\n",
       "    </tr>\n",
       "    <tr>\n",
       "      <th>982</th>\n",
       "      <td>707387676719185920</td>\n",
       "      <td>https://pbs.twimg.com/media/CdElVm7XEAADP6o.jpg</td>\n",
       "      <td>1</td>\n",
       "      <td>Chihuahua</td>\n",
       "      <td>0.888468</td>\n",
       "      <td>True</td>\n",
       "      <td>Italian_greyhound</td>\n",
       "      <td>0.088635</td>\n",
       "      <td>True</td>\n",
       "      <td>toy_terrier</td>\n",
       "      <td>0.015938</td>\n",
       "      <td>True</td>\n",
       "    </tr>\n",
       "    <tr>\n",
       "      <th>762</th>\n",
       "      <td>688898160958271489</td>\n",
       "      <td>https://pbs.twimg.com/media/CY91OENWUAE5agj.jpg</td>\n",
       "      <td>1</td>\n",
       "      <td>Ibizan_hound</td>\n",
       "      <td>0.853170</td>\n",
       "      <td>True</td>\n",
       "      <td>Chihuahua</td>\n",
       "      <td>0.039897</td>\n",
       "      <td>True</td>\n",
       "      <td>Italian_greyhound</td>\n",
       "      <td>0.035220</td>\n",
       "      <td>True</td>\n",
       "    </tr>\n",
       "    <tr>\n",
       "      <th>428</th>\n",
       "      <td>674262580978937856</td>\n",
       "      <td>https://pbs.twimg.com/media/CVt2PawWIAEUkqW.jpg</td>\n",
       "      <td>1</td>\n",
       "      <td>Greater_Swiss_Mountain_dog</td>\n",
       "      <td>0.519428</td>\n",
       "      <td>True</td>\n",
       "      <td>boxer</td>\n",
       "      <td>0.121500</td>\n",
       "      <td>True</td>\n",
       "      <td>Staffordshire_bullterrier</td>\n",
       "      <td>0.114498</td>\n",
       "      <td>True</td>\n",
       "    </tr>\n",
       "    <tr>\n",
       "      <th>1379</th>\n",
       "      <td>764857477905154048</td>\n",
       "      <td>https://pbs.twimg.com/media/Cp1R0ZTWcAAaPO4.jpg</td>\n",
       "      <td>1</td>\n",
       "      <td>Bernese_mountain_dog</td>\n",
       "      <td>0.792059</td>\n",
       "      <td>True</td>\n",
       "      <td>Appenzeller</td>\n",
       "      <td>0.155034</td>\n",
       "      <td>True</td>\n",
       "      <td>EntleBucher</td>\n",
       "      <td>0.038374</td>\n",
       "      <td>True</td>\n",
       "    </tr>\n",
       "    <tr>\n",
       "      <th>1320</th>\n",
       "      <td>756288534030475264</td>\n",
       "      <td>https://pbs.twimg.com/media/Cn7gaHrWIAAZJMt.jpg</td>\n",
       "      <td>3</td>\n",
       "      <td>conch</td>\n",
       "      <td>0.925621</td>\n",
       "      <td>False</td>\n",
       "      <td>French_bulldog</td>\n",
       "      <td>0.032492</td>\n",
       "      <td>True</td>\n",
       "      <td>tiger_cat</td>\n",
       "      <td>0.006679</td>\n",
       "      <td>False</td>\n",
       "    </tr>\n",
       "    <tr>\n",
       "      <th>1380</th>\n",
       "      <td>765222098633691136</td>\n",
       "      <td>https://pbs.twimg.com/media/Cp6db4-XYAAMmqL.jpg</td>\n",
       "      <td>1</td>\n",
       "      <td>dalmatian</td>\n",
       "      <td>0.556595</td>\n",
       "      <td>True</td>\n",
       "      <td>whippet</td>\n",
       "      <td>0.151047</td>\n",
       "      <td>True</td>\n",
       "      <td>American_Staffordshire_terrier</td>\n",
       "      <td>0.096435</td>\n",
       "      <td>True</td>\n",
       "    </tr>\n",
       "    <tr>\n",
       "      <th>221</th>\n",
       "      <td>670093938074779648</td>\n",
       "      <td>https://pbs.twimg.com/media/CUym4Y5WsAEiI9_.jpg</td>\n",
       "      <td>1</td>\n",
       "      <td>toy_poodle</td>\n",
       "      <td>0.383346</td>\n",
       "      <td>True</td>\n",
       "      <td>miniature_poodle</td>\n",
       "      <td>0.153678</td>\n",
       "      <td>True</td>\n",
       "      <td>chow</td>\n",
       "      <td>0.138543</td>\n",
       "      <td>True</td>\n",
       "    </tr>\n",
       "    <tr>\n",
       "      <th>1876</th>\n",
       "      <td>845812042753855489</td>\n",
       "      <td>https://pbs.twimg.com/media/C7ztkInW0AEh1CD.jpg</td>\n",
       "      <td>1</td>\n",
       "      <td>Samoyed</td>\n",
       "      <td>0.979803</td>\n",
       "      <td>True</td>\n",
       "      <td>chow</td>\n",
       "      <td>0.015923</td>\n",
       "      <td>True</td>\n",
       "      <td>white_wolf</td>\n",
       "      <td>0.001303</td>\n",
       "      <td>False</td>\n",
       "    </tr>\n",
       "    <tr>\n",
       "      <th>1903</th>\n",
       "      <td>851953902622658560</td>\n",
       "      <td>https://pbs.twimg.com/media/C4KHj-nWQAA3poV.jpg</td>\n",
       "      <td>1</td>\n",
       "      <td>Staffordshire_bullterrier</td>\n",
       "      <td>0.757547</td>\n",
       "      <td>True</td>\n",
       "      <td>American_Staffordshire_terrier</td>\n",
       "      <td>0.149950</td>\n",
       "      <td>True</td>\n",
       "      <td>Chesapeake_Bay_retriever</td>\n",
       "      <td>0.047523</td>\n",
       "      <td>True</td>\n",
       "    </tr>\n",
       "    <tr>\n",
       "      <th>1230</th>\n",
       "      <td>745712589599014916</td>\n",
       "      <td>https://pbs.twimg.com/media/CllNnkWWMAEDIAR.jpg</td>\n",
       "      <td>1</td>\n",
       "      <td>seat_belt</td>\n",
       "      <td>0.379055</td>\n",
       "      <td>False</td>\n",
       "      <td>chow</td>\n",
       "      <td>0.062754</td>\n",
       "      <td>True</td>\n",
       "      <td>minibus</td>\n",
       "      <td>0.052423</td>\n",
       "      <td>False</td>\n",
       "    </tr>\n",
       "    <tr>\n",
       "      <th>1914</th>\n",
       "      <td>854120357044912130</td>\n",
       "      <td>https://pbs.twimg.com/media/C9px7jyVwAAnmwN.jpg</td>\n",
       "      <td>4</td>\n",
       "      <td>black-and-tan_coonhound</td>\n",
       "      <td>0.854861</td>\n",
       "      <td>True</td>\n",
       "      <td>Doberman</td>\n",
       "      <td>0.050792</td>\n",
       "      <td>True</td>\n",
       "      <td>bluetick</td>\n",
       "      <td>0.021762</td>\n",
       "      <td>True</td>\n",
       "    </tr>\n",
       "    <tr>\n",
       "      <th>1592</th>\n",
       "      <td>798673117451325440</td>\n",
       "      <td>https://pbs.twimg.com/media/CV_cnjHWUAADc-c.jpg</td>\n",
       "      <td>1</td>\n",
       "      <td>dough</td>\n",
       "      <td>0.806757</td>\n",
       "      <td>False</td>\n",
       "      <td>bakery</td>\n",
       "      <td>0.027907</td>\n",
       "      <td>False</td>\n",
       "      <td>French_loaf</td>\n",
       "      <td>0.018189</td>\n",
       "      <td>False</td>\n",
       "    </tr>\n",
       "    <tr>\n",
       "      <th>622</th>\n",
       "      <td>680497766108381184</td>\n",
       "      <td>https://pbs.twimg.com/media/CXGdG0aWcAEbOO1.jpg</td>\n",
       "      <td>1</td>\n",
       "      <td>Chihuahua</td>\n",
       "      <td>0.538354</td>\n",
       "      <td>True</td>\n",
       "      <td>muzzle</td>\n",
       "      <td>0.084289</td>\n",
       "      <td>False</td>\n",
       "      <td>ski_mask</td>\n",
       "      <td>0.076690</td>\n",
       "      <td>False</td>\n",
       "    </tr>\n",
       "    <tr>\n",
       "      <th>442</th>\n",
       "      <td>674632714662858753</td>\n",
       "      <td>https://pbs.twimg.com/media/CVzG3yOVAAAqi9I.jpg</td>\n",
       "      <td>1</td>\n",
       "      <td>jellyfish</td>\n",
       "      <td>0.432748</td>\n",
       "      <td>False</td>\n",
       "      <td>goldfish</td>\n",
       "      <td>0.113111</td>\n",
       "      <td>False</td>\n",
       "      <td>coral_reef</td>\n",
       "      <td>0.087047</td>\n",
       "      <td>False</td>\n",
       "    </tr>\n",
       "    <tr>\n",
       "      <th>1086</th>\n",
       "      <td>718631497683582976</td>\n",
       "      <td>https://pbs.twimg.com/media/CfkXiX6W4AAmICF.jpg</td>\n",
       "      <td>1</td>\n",
       "      <td>Pomeranian</td>\n",
       "      <td>0.993718</td>\n",
       "      <td>True</td>\n",
       "      <td>Pekinese</td>\n",
       "      <td>0.003611</td>\n",
       "      <td>True</td>\n",
       "      <td>Persian_cat</td>\n",
       "      <td>0.000525</td>\n",
       "      <td>False</td>\n",
       "    </tr>\n",
       "  </tbody>\n",
       "</table>\n",
       "</div>"
      ],
      "text/plain": [
       "                tweet_id                                          jpg_url  \\\n",
       "1795  831315979191906304  https://pbs.twimg.com/media/C4lst0bXAAE6MP8.jpg   \n",
       "1921  856526610513747968  https://pbs.twimg.com/media/C-L-aIYXgAIR0jY.jpg   \n",
       "40    666691418707132416  https://pbs.twimg.com/media/CUCQTpEWEAA7EDz.jpg   \n",
       "897   699775878809702401  https://pbs.twimg.com/media/CbYac83W4AAUH1O.jpg   \n",
       "498   675820929667219457  https://pbs.twimg.com/media/CWD_jQMWEAAdYwH.jpg   \n",
       "982   707387676719185920  https://pbs.twimg.com/media/CdElVm7XEAADP6o.jpg   \n",
       "762   688898160958271489  https://pbs.twimg.com/media/CY91OENWUAE5agj.jpg   \n",
       "428   674262580978937856  https://pbs.twimg.com/media/CVt2PawWIAEUkqW.jpg   \n",
       "1379  764857477905154048  https://pbs.twimg.com/media/Cp1R0ZTWcAAaPO4.jpg   \n",
       "1320  756288534030475264  https://pbs.twimg.com/media/Cn7gaHrWIAAZJMt.jpg   \n",
       "1380  765222098633691136  https://pbs.twimg.com/media/Cp6db4-XYAAMmqL.jpg   \n",
       "221   670093938074779648  https://pbs.twimg.com/media/CUym4Y5WsAEiI9_.jpg   \n",
       "1876  845812042753855489  https://pbs.twimg.com/media/C7ztkInW0AEh1CD.jpg   \n",
       "1903  851953902622658560  https://pbs.twimg.com/media/C4KHj-nWQAA3poV.jpg   \n",
       "1230  745712589599014916  https://pbs.twimg.com/media/CllNnkWWMAEDIAR.jpg   \n",
       "1914  854120357044912130  https://pbs.twimg.com/media/C9px7jyVwAAnmwN.jpg   \n",
       "1592  798673117451325440  https://pbs.twimg.com/media/CV_cnjHWUAADc-c.jpg   \n",
       "622   680497766108381184  https://pbs.twimg.com/media/CXGdG0aWcAEbOO1.jpg   \n",
       "442   674632714662858753  https://pbs.twimg.com/media/CVzG3yOVAAAqi9I.jpg   \n",
       "1086  718631497683582976  https://pbs.twimg.com/media/CfkXiX6W4AAmICF.jpg   \n",
       "\n",
       "      img_num                          p1   p1_conf  p1_dog  \\\n",
       "1795        4                      briard  0.982755    True   \n",
       "1921        1        Old_English_sheepdog  0.798481    True   \n",
       "40          1             German_shepherd  0.975401    True   \n",
       "897         1              Dandie_Dinmont  0.271683    True   \n",
       "498         1                      basset  0.556373    True   \n",
       "982         1                   Chihuahua  0.888468    True   \n",
       "762         1                Ibizan_hound  0.853170    True   \n",
       "428         1  Greater_Swiss_Mountain_dog  0.519428    True   \n",
       "1379        1        Bernese_mountain_dog  0.792059    True   \n",
       "1320        3                       conch  0.925621   False   \n",
       "1380        1                   dalmatian  0.556595    True   \n",
       "221         1                  toy_poodle  0.383346    True   \n",
       "1876        1                     Samoyed  0.979803    True   \n",
       "1903        1   Staffordshire_bullterrier  0.757547    True   \n",
       "1230        1                   seat_belt  0.379055   False   \n",
       "1914        4     black-and-tan_coonhound  0.854861    True   \n",
       "1592        1                       dough  0.806757   False   \n",
       "622         1                   Chihuahua  0.538354    True   \n",
       "442         1                   jellyfish  0.432748   False   \n",
       "1086        1                  Pomeranian  0.993718    True   \n",
       "\n",
       "                                  p2   p2_conf  p2_dog  \\\n",
       "1795     soft-coated_wheaten_terrier  0.009084    True   \n",
       "1921                 Tibetan_terrier  0.060602    True   \n",
       "40                            beagle  0.008687    True   \n",
       "897             Old_English_sheepdog  0.164931    True   \n",
       "498                           beagle  0.201675    True   \n",
       "982                Italian_greyhound  0.088635    True   \n",
       "762                        Chihuahua  0.039897    True   \n",
       "428                            boxer  0.121500    True   \n",
       "1379                     Appenzeller  0.155034    True   \n",
       "1320                  French_bulldog  0.032492    True   \n",
       "1380                         whippet  0.151047    True   \n",
       "221                 miniature_poodle  0.153678    True   \n",
       "1876                            chow  0.015923    True   \n",
       "1903  American_Staffordshire_terrier  0.149950    True   \n",
       "1230                            chow  0.062754    True   \n",
       "1914                        Doberman  0.050792    True   \n",
       "1592                          bakery  0.027907   False   \n",
       "622                           muzzle  0.084289   False   \n",
       "442                         goldfish  0.113111   False   \n",
       "1086                        Pekinese  0.003611    True   \n",
       "\n",
       "                                  p3   p3_conf  p3_dog  \n",
       "1795            Bouvier_des_Flandres  0.004693    True  \n",
       "1921                 standard_poodle  0.040722    True  \n",
       "40                        bloodhound  0.005394    True  \n",
       "897                       otterhound  0.105918    True  \n",
       "498                       bloodhound  0.110848    True  \n",
       "982                      toy_terrier  0.015938    True  \n",
       "762                Italian_greyhound  0.035220    True  \n",
       "428        Staffordshire_bullterrier  0.114498    True  \n",
       "1379                     EntleBucher  0.038374    True  \n",
       "1320                       tiger_cat  0.006679   False  \n",
       "1380  American_Staffordshire_terrier  0.096435    True  \n",
       "221                             chow  0.138543    True  \n",
       "1876                      white_wolf  0.001303   False  \n",
       "1903        Chesapeake_Bay_retriever  0.047523    True  \n",
       "1230                         minibus  0.052423   False  \n",
       "1914                        bluetick  0.021762    True  \n",
       "1592                     French_loaf  0.018189   False  \n",
       "622                         ski_mask  0.076690   False  \n",
       "442                       coral_reef  0.087047   False  \n",
       "1086                     Persian_cat  0.000525   False  "
      ]
     },
     "execution_count": 110,
     "metadata": {},
     "output_type": "execute_result"
    }
   ],
   "source": [
    "df_image_prediction_clean.sample(20)"
   ]
  },
  {
   "cell_type": "markdown",
   "id": "3c9bb171",
   "metadata": {},
   "source": [
    "#### Test"
   ]
  },
  {
   "cell_type": "code",
   "execution_count": 111,
   "id": "98e0c8b3",
   "metadata": {},
   "outputs": [
    {
     "data": {
      "text/html": [
       "<div>\n",
       "<style scoped>\n",
       "    .dataframe tbody tr th:only-of-type {\n",
       "        vertical-align: middle;\n",
       "    }\n",
       "\n",
       "    .dataframe tbody tr th {\n",
       "        vertical-align: top;\n",
       "    }\n",
       "\n",
       "    .dataframe thead th {\n",
       "        text-align: right;\n",
       "    }\n",
       "</style>\n",
       "<table border=\"1\" class=\"dataframe\">\n",
       "  <thead>\n",
       "    <tr style=\"text-align: right;\">\n",
       "      <th></th>\n",
       "      <th>created_at</th>\n",
       "      <th>id</th>\n",
       "      <th>full_text</th>\n",
       "      <th>source</th>\n",
       "      <th>in_reply_to_status_id</th>\n",
       "      <th>in_reply_to_user_id</th>\n",
       "      <th>in_reply_to_screen_name</th>\n",
       "      <th>user</th>\n",
       "      <th>geo</th>\n",
       "      <th>coordinates</th>\n",
       "      <th>place</th>\n",
       "      <th>contributors</th>\n",
       "      <th>is_quote_status</th>\n",
       "      <th>retweet_count</th>\n",
       "      <th>favorite_count</th>\n",
       "      <th>favorited</th>\n",
       "      <th>retweeted</th>\n",
       "      <th>lang</th>\n",
       "      <th>img_resolution_MP</th>\n",
       "    </tr>\n",
       "  </thead>\n",
       "  <tbody>\n",
       "    <tr>\n",
       "      <th>0</th>\n",
       "      <td>Sun Nov 15 22:32:08 +0000 2015</td>\n",
       "      <td>666020888022790149</td>\n",
       "      <td>Here we have a Japanese Irish Setter. Lost eye...</td>\n",
       "      <td>&lt;a href=\"http://twitter.com/download/iphone\" r...</td>\n",
       "      <td>NaN</td>\n",
       "      <td>NaN</td>\n",
       "      <td>NaN</td>\n",
       "      <td>{'id': 4196983835, 'id_str': '4196983835', 'na...</td>\n",
       "      <td>NaN</td>\n",
       "      <td>NaN</td>\n",
       "      <td>NaN</td>\n",
       "      <td>NaN</td>\n",
       "      <td>False</td>\n",
       "      <td>422</td>\n",
       "      <td>2292</td>\n",
       "      <td>False</td>\n",
       "      <td>False</td>\n",
       "      <td>en</td>\n",
       "      <td>0.69</td>\n",
       "    </tr>\n",
       "    <tr>\n",
       "      <th>1</th>\n",
       "      <td>Sun Nov 15 23:05:30 +0000 2015</td>\n",
       "      <td>666029285002620928</td>\n",
       "      <td>This is a western brown Mitsubishi terrier. Up...</td>\n",
       "      <td>&lt;a href=\"http://twitter.com/download/iphone\" r...</td>\n",
       "      <td>NaN</td>\n",
       "      <td>NaN</td>\n",
       "      <td>NaN</td>\n",
       "      <td>{'id': 4196983835, 'id_str': '4196983835', 'na...</td>\n",
       "      <td>NaN</td>\n",
       "      <td>NaN</td>\n",
       "      <td>NaN</td>\n",
       "      <td>NaN</td>\n",
       "      <td>False</td>\n",
       "      <td>39</td>\n",
       "      <td>112</td>\n",
       "      <td>False</td>\n",
       "      <td>False</td>\n",
       "      <td>en</td>\n",
       "      <td>0.79</td>\n",
       "    </tr>\n",
       "    <tr>\n",
       "      <th>2</th>\n",
       "      <td>Sun Nov 15 23:21:54 +0000 2015</td>\n",
       "      <td>666033412701032449</td>\n",
       "      <td>Here is a very happy pup. Big fan of well-main...</td>\n",
       "      <td>&lt;a href=\"http://twitter.com/download/iphone\" r...</td>\n",
       "      <td>NaN</td>\n",
       "      <td>NaN</td>\n",
       "      <td>NaN</td>\n",
       "      <td>{'id': 4196983835, 'id_str': '4196983835', 'na...</td>\n",
       "      <td>NaN</td>\n",
       "      <td>NaN</td>\n",
       "      <td>NaN</td>\n",
       "      <td>NaN</td>\n",
       "      <td>False</td>\n",
       "      <td>36</td>\n",
       "      <td>100</td>\n",
       "      <td>False</td>\n",
       "      <td>False</td>\n",
       "      <td>en</td>\n",
       "      <td>0.70</td>\n",
       "    </tr>\n",
       "    <tr>\n",
       "      <th>3</th>\n",
       "      <td>Mon Nov 16 00:04:52 +0000 2015</td>\n",
       "      <td>666044226329800704</td>\n",
       "      <td>This is a purebred Piers Morgan. Loves to Netf...</td>\n",
       "      <td>&lt;a href=\"http://twitter.com/download/iphone\" r...</td>\n",
       "      <td>NaN</td>\n",
       "      <td>NaN</td>\n",
       "      <td>NaN</td>\n",
       "      <td>{'id': 4196983835, 'id_str': '4196983835', 'na...</td>\n",
       "      <td>NaN</td>\n",
       "      <td>NaN</td>\n",
       "      <td>NaN</td>\n",
       "      <td>NaN</td>\n",
       "      <td>False</td>\n",
       "      <td>115</td>\n",
       "      <td>247</td>\n",
       "      <td>False</td>\n",
       "      <td>False</td>\n",
       "      <td>en</td>\n",
       "      <td>0.79</td>\n",
       "    </tr>\n",
       "    <tr>\n",
       "      <th>4</th>\n",
       "      <td>Mon Nov 16 00:24:50 +0000 2015</td>\n",
       "      <td>666049248165822465</td>\n",
       "      <td>Here we have a 1949 1st generation vulpix. Enj...</td>\n",
       "      <td>&lt;a href=\"http://twitter.com/download/iphone\" r...</td>\n",
       "      <td>NaN</td>\n",
       "      <td>NaN</td>\n",
       "      <td>NaN</td>\n",
       "      <td>{'id': 4196983835, 'id_str': '4196983835', 'na...</td>\n",
       "      <td>NaN</td>\n",
       "      <td>NaN</td>\n",
       "      <td>NaN</td>\n",
       "      <td>NaN</td>\n",
       "      <td>False</td>\n",
       "      <td>37</td>\n",
       "      <td>89</td>\n",
       "      <td>False</td>\n",
       "      <td>False</td>\n",
       "      <td>en</td>\n",
       "      <td>0.79</td>\n",
       "    </tr>\n",
       "  </tbody>\n",
       "</table>\n",
       "</div>"
      ],
      "text/plain": [
       "                       created_at                  id  \\\n",
       "0  Sun Nov 15 22:32:08 +0000 2015  666020888022790149   \n",
       "1  Sun Nov 15 23:05:30 +0000 2015  666029285002620928   \n",
       "2  Sun Nov 15 23:21:54 +0000 2015  666033412701032449   \n",
       "3  Mon Nov 16 00:04:52 +0000 2015  666044226329800704   \n",
       "4  Mon Nov 16 00:24:50 +0000 2015  666049248165822465   \n",
       "\n",
       "                                           full_text  \\\n",
       "0  Here we have a Japanese Irish Setter. Lost eye...   \n",
       "1  This is a western brown Mitsubishi terrier. Up...   \n",
       "2  Here is a very happy pup. Big fan of well-main...   \n",
       "3  This is a purebred Piers Morgan. Loves to Netf...   \n",
       "4  Here we have a 1949 1st generation vulpix. Enj...   \n",
       "\n",
       "                                              source  in_reply_to_status_id  \\\n",
       "0  <a href=\"http://twitter.com/download/iphone\" r...                    NaN   \n",
       "1  <a href=\"http://twitter.com/download/iphone\" r...                    NaN   \n",
       "2  <a href=\"http://twitter.com/download/iphone\" r...                    NaN   \n",
       "3  <a href=\"http://twitter.com/download/iphone\" r...                    NaN   \n",
       "4  <a href=\"http://twitter.com/download/iphone\" r...                    NaN   \n",
       "\n",
       "   in_reply_to_user_id in_reply_to_screen_name  \\\n",
       "0                  NaN                     NaN   \n",
       "1                  NaN                     NaN   \n",
       "2                  NaN                     NaN   \n",
       "3                  NaN                     NaN   \n",
       "4                  NaN                     NaN   \n",
       "\n",
       "                                                user  geo  coordinates place  \\\n",
       "0  {'id': 4196983835, 'id_str': '4196983835', 'na...  NaN          NaN   NaN   \n",
       "1  {'id': 4196983835, 'id_str': '4196983835', 'na...  NaN          NaN   NaN   \n",
       "2  {'id': 4196983835, 'id_str': '4196983835', 'na...  NaN          NaN   NaN   \n",
       "3  {'id': 4196983835, 'id_str': '4196983835', 'na...  NaN          NaN   NaN   \n",
       "4  {'id': 4196983835, 'id_str': '4196983835', 'na...  NaN          NaN   NaN   \n",
       "\n",
       "   contributors  is_quote_status  retweet_count  favorite_count  favorited  \\\n",
       "0           NaN            False            422            2292      False   \n",
       "1           NaN            False             39             112      False   \n",
       "2           NaN            False             36             100      False   \n",
       "3           NaN            False            115             247      False   \n",
       "4           NaN            False             37              89      False   \n",
       "\n",
       "   retweeted lang  img_resolution_MP  \n",
       "0      False   en               0.69  \n",
       "1      False   en               0.79  \n",
       "2      False   en               0.70  \n",
       "3      False   en               0.79  \n",
       "4      False   en               0.79  "
      ]
     },
     "execution_count": 111,
     "metadata": {},
     "output_type": "execute_result"
    }
   ],
   "source": [
    "df_twitter_response_clean.head()"
   ]
  },
  {
   "cell_type": "markdown",
   "id": "5a612d3f",
   "metadata": {},
   "source": [
    "- **2** The four fields doggo, floofer, pupper, puppo are all variable of a single field growth_stage"
   ]
  },
  {
   "cell_type": "markdown",
   "id": "0019bb1d",
   "metadata": {},
   "source": [
    "#### Define\n",
    "- using extract get all the growth_stage categories from text column\n",
    "- replace all Nan with 'None'\n",
    "- convert all text to lower case\n",
    "- drop initial columns representing the dog_growth_stages "
   ]
  },
  {
   "cell_type": "markdown",
   "id": "6dd36590",
   "metadata": {},
   "source": [
    "#### code"
   ]
  },
  {
   "cell_type": "code",
   "execution_count": 112,
   "id": "f9d1137e",
   "metadata": {},
   "outputs": [],
   "source": [
    "# using extract get all the growth_stage categories from text column\n",
    "df_twitter_archive_clean['dog_growth_stage'] = df_twitter_archive_clean['text'].str.extract(\n",
    "    r'(doggo|pupper|floofer|puppo)', flags=re.IGNORECASE)\n",
    "\n",
    "# replace all Nan with 'None'\n",
    "df_twitter_archive_clean['dog_growth_stage']=df_twitter_archive_clean['dog_growth_stage'].replace(\n",
    "    to_replace=np.nan,value='None')\n",
    "\n",
    "# convert all text to lower case\n",
    "df_twitter_archive_clean['dog_growth_stage']=df_twitter_archive_clean['dog_growth_stage'].str.lower()"
   ]
  },
  {
   "cell_type": "code",
   "execution_count": 113,
   "id": "233657c7",
   "metadata": {},
   "outputs": [],
   "source": [
    "df_twitter_archive_clean = df_twitter_archive_clean.drop(['doggo','floofer','pupper','puppo'], axis=1)"
   ]
  },
  {
   "cell_type": "markdown",
   "id": "5c28b124",
   "metadata": {},
   "source": [
    "#### Test"
   ]
  },
  {
   "cell_type": "code",
   "execution_count": 114,
   "id": "a6820436",
   "metadata": {},
   "outputs": [
    {
     "data": {
      "text/plain": [
       "none       1933\n",
       "pupper      276\n",
       "doggo       100\n",
       "puppo        38\n",
       "floofer       9\n",
       "Name: dog_growth_stage, dtype: int64"
      ]
     },
     "execution_count": 114,
     "metadata": {},
     "output_type": "execute_result"
    }
   ],
   "source": [
    "#check that all available informations were captured\n",
    "df_twitter_archive_clean['dog_growth_stage'].value_counts()"
   ]
  },
  {
   "cell_type": "code",
   "execution_count": 115,
   "id": "0b4e9d5c",
   "metadata": {},
   "outputs": [
    {
     "name": "stdout",
     "output_type": "stream",
     "text": [
      "<class 'pandas.core.frame.DataFrame'>\n",
      "RangeIndex: 2356 entries, 0 to 2355\n",
      "Data columns (total 14 columns):\n",
      " #   Column                      Non-Null Count  Dtype  \n",
      "---  ------                      --------------  -----  \n",
      " 0   tweet_id                    2356 non-null   int64  \n",
      " 1   in_reply_to_status_id       78 non-null     float64\n",
      " 2   in_reply_to_user_id         78 non-null     float64\n",
      " 3   timestamp                   2356 non-null   object \n",
      " 4   source                      2356 non-null   object \n",
      " 5   text                        2356 non-null   object \n",
      " 6   retweeted_status_id         181 non-null    float64\n",
      " 7   retweeted_status_user_id    181 non-null    float64\n",
      " 8   retweeted_status_timestamp  181 non-null    object \n",
      " 9   expanded_urls               2297 non-null   object \n",
      " 10  rating_numerator            2356 non-null   int64  \n",
      " 11  rating_denominator          2356 non-null   int64  \n",
      " 12  name                        2356 non-null   object \n",
      " 13  dog_growth_stage            2356 non-null   object \n",
      "dtypes: float64(4), int64(3), object(7)\n",
      "memory usage: 257.8+ KB\n"
     ]
    }
   ],
   "source": [
    "# checked that the intial columns have been droped\n",
    "df_twitter_archive_clean.info()"
   ]
  },
  {
   "cell_type": "markdown",
   "id": "41b57848",
   "metadata": {},
   "source": [
    "- **3** There are 3 fields in the image_prediction table answering the same question, is it a Dog? p1_dog,p2_dog and p3_dog."
   ]
  },
  {
   "cell_type": "markdown",
   "id": "ae7f0892",
   "metadata": {},
   "source": [
    "#### Define\n",
    "##### first create mask for three different conditions based on field p1_dog, p2_dog and p3_dog\n",
    "\n",
    "- mask1 filters the dataframe for when all three fields are true\n",
    "- mask2 filters for when at least three fields are true\n",
    "- mask3 filters for when at least one field is true\n",
    "\n",
    "##### Creates dataframe for when :\n",
    "- Three predictions are True\n",
    "- Two predictions are True\n",
    "- One prediction is True"
   ]
  },
  {
   "cell_type": "markdown",
   "id": "d47b5e5c",
   "metadata": {},
   "source": [
    "#### Code"
   ]
  },
  {
   "cell_type": "markdown",
   "id": "738f0efb",
   "metadata": {},
   "source": [
    "##### creating mask1, mask2 and mask3"
   ]
  },
  {
   "cell_type": "code",
   "execution_count": 116,
   "id": "ae73a839",
   "metadata": {},
   "outputs": [],
   "source": [
    "# creating mask1\n",
    "mask1=(df_image_prediction_clean.p1_dog \n",
    "       == True)|(df_image_prediction_clean.p2_dog \n",
    "       == True)|(df_image_prediction_clean.p3_dog == True)\n",
    "\n",
    "# creating mask2\n",
    "mask2=((df_image_prediction_clean.p1_dog \n",
    "        == True) & (df_image_prediction_clean.p2_dog\n",
    "        == True)) | ((df_image_prediction_clean.p1_dog\n",
    "        == True) &(df_image_prediction_clean.p3_dog\n",
    "        == True)) | ((df_image_prediction_clean.p2_dog\n",
    "        == True) & (df_image_prediction_clean.p3_dog == True))\n",
    "\n",
    "# creating mask3      \n",
    "mask3=(df_image_prediction_clean.p1_dog \n",
    "       == True) & (df_image_prediction_clean.p2_dog \n",
    "       == True) & (df_image_prediction_clean.p3_dog == True)"
   ]
  },
  {
   "cell_type": "code",
   "execution_count": 117,
   "id": "f52e70f6",
   "metadata": {},
   "outputs": [],
   "source": [
    "# Creates a datframe for when all three prediction fields are True\n",
    "df_pred_3True = df_image_prediction_clean[mask3].copy()\n",
    "\n",
    "# Creates a dataframe for when two of the predictions are True \n",
    "df_pred_2True_int= df_image_prediction_clean[mask2].copy()\n",
    "df_pred_2True = df_pred_2True_int[~df_pred_2True_int.isin(df_pred_3True)].dropna()\n",
    "\n",
    "# Creates a dataframe for when one of the prediction is True\n",
    "df_pred_123True= df_image_prediction_clean[mask1].copy()\n",
    "df_pred_1True = df_pred_123True[~df_pred_123True.isin(df_pred_2True_int)].dropna()"
   ]
  },
  {
   "cell_type": "markdown",
   "id": "ee27d53c",
   "metadata": {},
   "source": [
    "#### Test\n"
   ]
  },
  {
   "cell_type": "code",
   "execution_count": 118,
   "id": "45b69b26",
   "metadata": {},
   "outputs": [
    {
     "data": {
      "text/plain": [
       "0"
      ]
     },
     "execution_count": 118,
     "metadata": {},
     "output_type": "execute_result"
    }
   ],
   "source": [
    "# Test that there are no False value in df_pred_3True\n",
    "sum((df_pred_3True['p1_dog']==False) \n",
    "    + (df_pred_3True['p2_dog']==False) \n",
    "    + (df_pred_3True['p3_dog']==False))"
   ]
  },
  {
   "cell_type": "code",
   "execution_count": 119,
   "id": "4ff50339",
   "metadata": {},
   "outputs": [
    {
     "data": {
      "text/plain": [
       "347"
      ]
     },
     "execution_count": 119,
     "metadata": {},
     "output_type": "execute_result"
    }
   ],
   "source": [
    "# The length of observations in df_pred_2True is 347\n",
    "len(df_pred_2True)"
   ]
  },
  {
   "cell_type": "code",
   "execution_count": 120,
   "id": "cda2541a",
   "metadata": {},
   "outputs": [
    {
     "data": {
      "text/plain": [
       "347"
      ]
     },
     "execution_count": 120,
     "metadata": {},
     "output_type": "execute_result"
    }
   ],
   "source": [
    "# Test to ensure that the number of False values in the three prediction fields is 347\n",
    "sum((df_pred_2True['p1_dog']==False) \n",
    "    + (df_pred_2True['p2_dog']==False) \n",
    "    + (df_pred_2True['p3_dog']==False))"
   ]
  },
  {
   "cell_type": "code",
   "execution_count": 121,
   "id": "3e1ca536",
   "metadata": {},
   "outputs": [
    {
     "data": {
      "text/plain": [
       "161"
      ]
     },
     "execution_count": 121,
     "metadata": {},
     "output_type": "execute_result"
    }
   ],
   "source": [
    "# The length of observations in df_pred_1True is 161\n",
    "len(df_pred_1True)"
   ]
  },
  {
   "cell_type": "code",
   "execution_count": 122,
   "id": "b0ea8f92",
   "metadata": {},
   "outputs": [
    {
     "data": {
      "text/plain": [
       "161"
      ]
     },
     "execution_count": 122,
     "metadata": {},
     "output_type": "execute_result"
    }
   ],
   "source": [
    "# Test to ensure that the number of True values in the three prediction fields is 161\n",
    "sum((df_pred_1True['p1_dog']==True) \n",
    "    + (df_pred_1True['p2_dog']==True) \n",
    "    + (df_pred_1True['p3_dog']==True))"
   ]
  },
  {
   "cell_type": "markdown",
   "id": "3872d18b",
   "metadata": {},
   "source": [
    "- **4** There are six fields in the image_prediction table answering the same question of, what breed is the dog ``p1``, ``p1_conf``, ``p2``, ``p2_conf``, ``p3``, ``p3_conf``.\n",
    "   "
   ]
  },
  {
   "cell_type": "markdown",
   "id": "d303404d",
   "metadata": {},
   "source": [
    "#### Define\n",
    "- We will create a function breed_selector that will select the prediction with the highest confidence value for the breed of the dog. \n",
    "\n",
    "- in passing the dataframes,`df_pred_3True`,``df_pred_2True`` and `df_pred_1True` created in the previous step through the predictor we will treat each groups slightly differently.\n",
    "\n",
    "- The ``df_pred_3True`` group contains three (3) dog prediction that is True. i.e The three predictors predict that the image is that of a dog. we will pass this through the breed selector function as is.\n",
    "\n",
    "- The ``df_pred_2True`` group contains two (2) dog prediction that is True. i.e Two predictors predict that the image is that of a dog. we will first pass this through a function that will round down the confidence value for the False prediction to '0' then we will pass it through the breed selector.\n",
    "\n",
    "- The ``df_pred_1True`` group contains one (1) dog prediction that is True. i.e One predictor predicts that the image is that of a dog. we will first pass this through a function that will round up the confidence value for the True prediction to '1' then we will pass it through the breed selector.\n",
    "\n",
    "- **Finally**, we will concatenate the resulting dataframes for the process into a single dataframe\n"
   ]
  },
  {
   "cell_type": "markdown",
   "id": "09245d54",
   "metadata": {},
   "source": [
    "#### Code"
   ]
  },
  {
   "cell_type": "markdown",
   "id": "a0ad1ca0",
   "metadata": {},
   "source": [
    "##### Selecting dog breed from df_pred_3True."
   ]
  },
  {
   "cell_type": "code",
   "execution_count": 123,
   "id": "e7323fba",
   "metadata": {},
   "outputs": [],
   "source": [
    "def breed_selector(df):\n",
    "    \n",
    "    '''\n",
    "    This function selects the dog breed from the dog breed prediction that\n",
    "    has the highest level of confidence\n",
    "    \n",
    "    args:\n",
    "    df(DataFrame) Takes the DataFrame containing the prediction parameters,\n",
    "                    'prediction' and 'prediction_confidence' from three different\n",
    "                    predictions.\n",
    "    \n",
    "    returns:\n",
    "    df(DataFrame) The DataFrame with the column, 'breed', containing the most likely \n",
    "                  breed of the dog.\n",
    "    \n",
    "    '''\n",
    "    \n",
    "    # return a list of the prediction with the highest level of confidence and the confidence value \n",
    "    df['breed_int'] = df.apply(lambda x: [x.loc['p1'],\n",
    "                               x.loc['p1_conf']] \n",
    "                               if x.loc['p1_conf'] > x.loc['p2_conf'] \n",
    "                               else [x.loc['p2'],x.loc['p1_conf']], axis =1)\n",
    "\n",
    "    # extract the prediction and the confidence level into separate columns\n",
    "    df['breed_intermediate']=df['breed_int'].apply(lambda x: x[0])\n",
    "    df['breed_intermediate_conf']=df['breed_int'].apply(lambda x: x[1])\n",
    "\n",
    "    # compare the values in these two columns against the third prediction. \n",
    "    df['breed'] = df.apply(lambda x: x.loc['breed_intermediate'] \n",
    "                           if x.loc['breed_intermediate_conf'] > x.loc['p3_conf'] \n",
    "                           else x.loc['p3'], axis =1)\n",
    "    return(df)"
   ]
  },
  {
   "cell_type": "code",
   "execution_count": 124,
   "id": "6aa28d2c",
   "metadata": {},
   "outputs": [],
   "source": [
    "# employ the breed_selector function to pick the best breed prediction for df_pred_3True\n",
    "df_pred_3True = breed_selector(df_pred_3True).copy()"
   ]
  },
  {
   "cell_type": "markdown",
   "id": "10f1b2fd",
   "metadata": {},
   "source": [
    "#### Selecting dog breed from df_pred_2True"
   ]
  },
  {
   "cell_type": "markdown",
   "id": "ab484f81",
   "metadata": {},
   "source": [
    "##### A function to round the confidence value of every dog prediction that is false to '0'"
   ]
  },
  {
   "cell_type": "code",
   "execution_count": 125,
   "id": "d7faaaa9",
   "metadata": {},
   "outputs": [],
   "source": [
    "def round_down_conf(df,x,y):\n",
    "    '''\n",
    "    rounds down the value of confidence value for dog predictions that are False\n",
    "    \n",
    "    Args:\n",
    "    df(Dataframe) the dataframe containing the dog prediction\n",
    "    x (integer) referencing the column with True/False prediction of whether the picture is a dog\n",
    "    y (string) the name of the confidence value column\n",
    "    \n",
    "    \n",
    "    returns:\n",
    "    df_p1(DataFrame) The dataframe with the required confidence value rounded down to 0\n",
    "    \n",
    "    '''\n",
    "    \n",
    "    # filtering the dataset for rows where p1_dog is False\n",
    "    df_p1=df[df.iloc[:,x]==False].copy()\n",
    "\n",
    "    # Assigning 0 to every p1_conf value\n",
    "    df_p1.drop(y,axis=1)\n",
    "    df_p1.loc[:,y]=0\n",
    "    \n",
    "    return(df_p1)\n"
   ]
  },
  {
   "cell_type": "code",
   "execution_count": 126,
   "id": "e0ca473a",
   "metadata": {},
   "outputs": [],
   "source": [
    "# round down p1_conf for all False prediction for p1_dog\n",
    "df_pred_2True_p1 = round_down_conf(df_pred_2True,5,'p1_conf')\n",
    "\n",
    "# round down p2_conf for all False prediction for p2_dog\n",
    "df_pred_2True_p2 = round_down_conf(df_pred_2True,8,'p2_conf')\n",
    "\n",
    "# round down p3_conf for all False prediction for p3_dog\n",
    "df_pred_2True_p3 = round_down_conf(df_pred_2True,11,'p3_conf')\n"
   ]
  },
  {
   "cell_type": "code",
   "execution_count": 127,
   "id": "f7ea68aa",
   "metadata": {},
   "outputs": [],
   "source": [
    "#concatenate the three DataFrame for df_pred_2True\n",
    "df_pred_2True=pd.concat([df_pred_2True_p1,df_pred_2True_p2,df_pred_2True_p3], ignore_index=True)"
   ]
  },
  {
   "cell_type": "code",
   "execution_count": 128,
   "id": "07cef7c2",
   "metadata": {},
   "outputs": [],
   "source": [
    "# employ the breed_selector function to pick the best breed prediction for df_pred_2True\n",
    "df_pred_2True = breed_selector(df_pred_2True)"
   ]
  },
  {
   "cell_type": "markdown",
   "id": "a78b3273",
   "metadata": {},
   "source": [
    "#### Selecting dog breed from df_pred_1True"
   ]
  },
  {
   "cell_type": "markdown",
   "id": "b8d8ca7b",
   "metadata": {},
   "source": [
    "##### A function to round the confidence value of every dog prediction that is True to '1'"
   ]
  },
  {
   "cell_type": "code",
   "execution_count": 129,
   "id": "78714459",
   "metadata": {},
   "outputs": [],
   "source": [
    "def round_up_conf(df,x,y):\n",
    "    '''\n",
    "    rounds up the value of confidence value for dog predictions that are True\n",
    "    \n",
    "    Args:\n",
    "    df(Dataframe) the dataframe containing the dog prediction\n",
    "    x (integer) referencing the column with True/False prediction of whether the picture is a dog\n",
    "    y (string) the name of the confidence value column\n",
    "    \n",
    "    \n",
    "    returns:\n",
    "    df_p1(DataFrame) The dataframe with the required confidence value rounded up to 1\n",
    "    \n",
    "    '''\n",
    "    \n",
    "    # filtering the dataset for rows where p1_dog is False\n",
    "    df_p1=df[df.iloc[:,x]==True].copy()\n",
    "\n",
    "    # Assigning 0 to every p1_conf value\n",
    "    df_p1.drop(y,axis=1)\n",
    "    df_p1.loc[:,y]=1\n",
    "    \n",
    "    return(df_p1)\n"
   ]
  },
  {
   "cell_type": "code",
   "execution_count": 130,
   "id": "3e0a788e",
   "metadata": {},
   "outputs": [],
   "source": [
    "# round up p1_conf for all True prediction for p1_dog\n",
    "df_pred_1True_p1 = round_up_conf(df_pred_1True,5,'p1_conf')\n",
    "\n",
    "# round down p2_conf for all True prediction for p2_dog\n",
    "df_pred_1True_p2 = round_up_conf(df_pred_1True,8,'p2_conf')\n",
    "\n",
    "# round down p3_conf for all True prediction for p3_dog\n",
    "df_pred_1True_p3 = round_up_conf(df_pred_1True,11,'p3_conf')\n"
   ]
  },
  {
   "cell_type": "code",
   "execution_count": 131,
   "id": "5aa663d0",
   "metadata": {},
   "outputs": [],
   "source": [
    "df_pred_1True = pd.concat([df_pred_1True_p1,df_pred_1True_p2,df_pred_1True_p3], \n",
    "                          ignore_index=True)"
   ]
  },
  {
   "cell_type": "code",
   "execution_count": 132,
   "id": "25638634",
   "metadata": {},
   "outputs": [],
   "source": [
    "# employ the breed_selector function to pick the best breed prediction for df_pred_1True\n",
    "df_pred_1True = breed_selector(df_pred_1True)"
   ]
  },
  {
   "cell_type": "code",
   "execution_count": 133,
   "id": "e2b6904c",
   "metadata": {},
   "outputs": [],
   "source": [
    "# Concatenating the entire result \n",
    "df_image_prediction_clean = pd.concat([df_pred_1True,df_pred_2True,df_pred_3True], \n",
    "                                      ignore_index = True)"
   ]
  },
  {
   "cell_type": "markdown",
   "id": "2c404da6",
   "metadata": {},
   "source": [
    "- We will drop the prediction columns `p1`, `p1_conf`, `p2`, `p2_conf`, `p3` and `p3_conf` as well as the intermediate columns, `breed_intermediate` and `breed_intermediate_conf` and also, ``p_fact_dog``."
   ]
  },
  {
   "cell_type": "code",
   "execution_count": 134,
   "id": "aee720c3",
   "metadata": {},
   "outputs": [],
   "source": [
    "df_image_prediction_clean = df_image_prediction_clean.drop(['p1','p1_conf','p2',\n",
    "                                                            'p2_conf','p3','p3_conf','p1_dog',\n",
    "                                                            'p2_dog','p3_dog','breed_int','breed_intermediate',\n",
    "                                                            'breed_intermediate_conf'], axis=1)"
   ]
  },
  {
   "cell_type": "code",
   "execution_count": 135,
   "id": "f36b8444",
   "metadata": {},
   "outputs": [],
   "source": [
    "#convert tweet_id to integer\n",
    "df_image_prediction_clean[['tweet_id','img_num']] = df_image_prediction_clean[['tweet_id',\n",
    "                                                                               'img_num']].astype(np.int64)"
   ]
  },
  {
   "cell_type": "markdown",
   "id": "f8df06fd",
   "metadata": {},
   "source": [
    "#### Test"
   ]
  },
  {
   "cell_type": "code",
   "execution_count": 136,
   "id": "a9261d31",
   "metadata": {},
   "outputs": [
    {
     "data": {
      "text/plain": [
       "golden_retriever        165\n",
       "Labrador_retriever      116\n",
       "Pembroke                 95\n",
       "Chihuahua                92\n",
       "pug                      65\n",
       "                       ... \n",
       "Scotch_terrier            1\n",
       "Irish_wolfhound           1\n",
       "Bouvier_des_Flandres      1\n",
       "silky_terrier             1\n",
       "clumber                   1\n",
       "Name: breed, Length: 113, dtype: int64"
      ]
     },
     "execution_count": 136,
     "metadata": {},
     "output_type": "execute_result"
    }
   ],
   "source": [
    "df_image_prediction_clean['breed'].value_counts()"
   ]
  },
  {
   "cell_type": "code",
   "execution_count": 137,
   "id": "0896950b",
   "metadata": {},
   "outputs": [
    {
     "name": "stdout",
     "output_type": "stream",
     "text": [
      "<class 'pandas.core.frame.DataFrame'>\n",
      "RangeIndex: 1751 entries, 0 to 1750\n",
      "Data columns (total 4 columns):\n",
      " #   Column    Non-Null Count  Dtype \n",
      "---  ------    --------------  ----- \n",
      " 0   tweet_id  1751 non-null   int64 \n",
      " 1   jpg_url   1751 non-null   object\n",
      " 2   img_num   1751 non-null   int64 \n",
      " 3   breed     1751 non-null   object\n",
      "dtypes: int64(2), object(2)\n",
      "memory usage: 54.8+ KB\n"
     ]
    }
   ],
   "source": [
    "df_image_prediction_clean.info()"
   ]
  },
  {
   "cell_type": "markdown",
   "id": "0c3bb89b",
   "metadata": {},
   "source": [
    "- **5** Generally, there are a number of duplicate fields across the table."
   ]
  },
  {
   "cell_type": "markdown",
   "id": "f26c91d7",
   "metadata": {},
   "source": [
    "#### Define\n",
    "Duplicate field in the ``df_twitter_response_clean `` will be dropped.\n",
    "List of duplicate field that will be dropped\n",
    "- created_at\n",
    "- full_text\n",
    "- source\n",
    "- in_reply_to_status_id\n",
    "- in_reply_to_user_id"
   ]
  },
  {
   "cell_type": "markdown",
   "id": "9ae595f6",
   "metadata": {},
   "source": [
    "#### Code"
   ]
  },
  {
   "cell_type": "code",
   "execution_count": 138,
   "id": "63a4874c",
   "metadata": {},
   "outputs": [],
   "source": [
    "# Dropping the listed columns in the twitter_reponse_clean table\n",
    "df_twitter_response_clean = df_twitter_response_clean.drop(['created_at','full_text','source','in_reply_to_status_id','in_reply_to_user_id'], axis=1)"
   ]
  },
  {
   "cell_type": "markdown",
   "id": "7276d419",
   "metadata": {},
   "source": [
    "#### Test"
   ]
  },
  {
   "cell_type": "code",
   "execution_count": 139,
   "id": "c971f42a",
   "metadata": {
    "scrolled": true
   },
   "outputs": [
    {
     "name": "stdout",
     "output_type": "stream",
     "text": [
      "<class 'pandas.core.frame.DataFrame'>\n",
      "RangeIndex: 2057 entries, 0 to 2056\n",
      "Data columns (total 14 columns):\n",
      " #   Column                   Non-Null Count  Dtype  \n",
      "---  ------                   --------------  -----  \n",
      " 0   id                       2057 non-null   int64  \n",
      " 1   in_reply_to_screen_name  23 non-null     object \n",
      " 2   user                     2057 non-null   object \n",
      " 3   geo                      0 non-null      float64\n",
      " 4   coordinates              0 non-null      float64\n",
      " 5   place                    1 non-null      object \n",
      " 6   contributors             0 non-null      float64\n",
      " 7   is_quote_status          2057 non-null   bool   \n",
      " 8   retweet_count            2057 non-null   int64  \n",
      " 9   favorite_count           2057 non-null   int64  \n",
      " 10  favorited                2057 non-null   bool   \n",
      " 11  retweeted                2057 non-null   bool   \n",
      " 12  lang                     2057 non-null   object \n",
      " 13  img_resolution_MP        2057 non-null   float64\n",
      "dtypes: bool(3), float64(4), int64(3), object(4)\n",
      "memory usage: 182.9+ KB\n"
     ]
    }
   ],
   "source": [
    "df_twitter_response_clean.info()"
   ]
  },
  {
   "cell_type": "markdown",
   "id": "22842c56",
   "metadata": {},
   "source": [
    "## Quality issues "
   ]
  },
  {
   "cell_type": "markdown",
   "id": "cbeeee47",
   "metadata": {},
   "source": [
    "\n",
    "- The ``user`` column contains information of the twitter handle `We Rate Dogs` and its constant for all observation therefore not relevant for the analysis`\n",
    "- The following tables have only null values `geo`,`coordinates`,`place`,and `contributors`.\n",
    "- `favorited`, `retweeted` and `is_quote_status` have only False values. Since their values are the same for all observations. they are not relevant for our analysis"
   ]
  },
  {
   "cell_type": "markdown",
   "id": "49cc7e22",
   "metadata": {},
   "source": [
    "#### Define\n",
    "we will drop all irrelevant columns"
   ]
  },
  {
   "cell_type": "markdown",
   "id": "76188536",
   "metadata": {},
   "source": [
    "#### Code"
   ]
  },
  {
   "cell_type": "code",
   "execution_count": 140,
   "id": "08bb9f9b",
   "metadata": {},
   "outputs": [],
   "source": [
    "# dropping the text and source fields\n",
    "df_twitter_response_clean.drop(['user','geo', 'coordinates', 'place', \n",
    "                               'contributors','favorited','retweeted', 'is_quote_status',\n",
    "                                'in_reply_to_screen_name'], axis = 1, inplace = True)"
   ]
  },
  {
   "cell_type": "markdown",
   "id": "b6d04762",
   "metadata": {},
   "source": [
    "#### Test"
   ]
  },
  {
   "cell_type": "code",
   "execution_count": 141,
   "id": "abee60f9",
   "metadata": {},
   "outputs": [
    {
     "data": {
      "text/html": [
       "<div>\n",
       "<style scoped>\n",
       "    .dataframe tbody tr th:only-of-type {\n",
       "        vertical-align: middle;\n",
       "    }\n",
       "\n",
       "    .dataframe tbody tr th {\n",
       "        vertical-align: top;\n",
       "    }\n",
       "\n",
       "    .dataframe thead th {\n",
       "        text-align: right;\n",
       "    }\n",
       "</style>\n",
       "<table border=\"1\" class=\"dataframe\">\n",
       "  <thead>\n",
       "    <tr style=\"text-align: right;\">\n",
       "      <th></th>\n",
       "      <th>id</th>\n",
       "      <th>retweet_count</th>\n",
       "      <th>favorite_count</th>\n",
       "      <th>lang</th>\n",
       "      <th>img_resolution_MP</th>\n",
       "    </tr>\n",
       "  </thead>\n",
       "  <tbody>\n",
       "    <tr>\n",
       "      <th>0</th>\n",
       "      <td>666020888022790149</td>\n",
       "      <td>422</td>\n",
       "      <td>2292</td>\n",
       "      <td>en</td>\n",
       "      <td>0.69</td>\n",
       "    </tr>\n",
       "    <tr>\n",
       "      <th>1</th>\n",
       "      <td>666029285002620928</td>\n",
       "      <td>39</td>\n",
       "      <td>112</td>\n",
       "      <td>en</td>\n",
       "      <td>0.79</td>\n",
       "    </tr>\n",
       "    <tr>\n",
       "      <th>2</th>\n",
       "      <td>666033412701032449</td>\n",
       "      <td>36</td>\n",
       "      <td>100</td>\n",
       "      <td>en</td>\n",
       "      <td>0.70</td>\n",
       "    </tr>\n",
       "    <tr>\n",
       "      <th>3</th>\n",
       "      <td>666044226329800704</td>\n",
       "      <td>115</td>\n",
       "      <td>247</td>\n",
       "      <td>en</td>\n",
       "      <td>0.79</td>\n",
       "    </tr>\n",
       "    <tr>\n",
       "      <th>4</th>\n",
       "      <td>666049248165822465</td>\n",
       "      <td>37</td>\n",
       "      <td>89</td>\n",
       "      <td>en</td>\n",
       "      <td>0.79</td>\n",
       "    </tr>\n",
       "    <tr>\n",
       "      <th>...</th>\n",
       "      <td>...</td>\n",
       "      <td>...</td>\n",
       "      <td>...</td>\n",
       "      <td>...</td>\n",
       "      <td>...</td>\n",
       "    </tr>\n",
       "    <tr>\n",
       "      <th>2052</th>\n",
       "      <td>891327558926688256</td>\n",
       "      <td>7757</td>\n",
       "      <td>35308</td>\n",
       "      <td>en</td>\n",
       "      <td>0.39</td>\n",
       "    </tr>\n",
       "    <tr>\n",
       "      <th>2053</th>\n",
       "      <td>891689557279858688</td>\n",
       "      <td>7224</td>\n",
       "      <td>36929</td>\n",
       "      <td>en</td>\n",
       "      <td>1.92</td>\n",
       "    </tr>\n",
       "    <tr>\n",
       "      <th>2054</th>\n",
       "      <td>891815181378084864</td>\n",
       "      <td>3478</td>\n",
       "      <td>22045</td>\n",
       "      <td>en</td>\n",
       "      <td>1.92</td>\n",
       "    </tr>\n",
       "    <tr>\n",
       "      <th>2055</th>\n",
       "      <td>892177421306343426</td>\n",
       "      <td>5301</td>\n",
       "      <td>29324</td>\n",
       "      <td>en</td>\n",
       "      <td>2.25</td>\n",
       "    </tr>\n",
       "    <tr>\n",
       "      <th>2056</th>\n",
       "      <td>892420643555336193</td>\n",
       "      <td>7003</td>\n",
       "      <td>33811</td>\n",
       "      <td>en</td>\n",
       "      <td>0.29</td>\n",
       "    </tr>\n",
       "  </tbody>\n",
       "</table>\n",
       "<p>2057 rows × 5 columns</p>\n",
       "</div>"
      ],
      "text/plain": [
       "                      id  retweet_count  favorite_count lang  \\\n",
       "0     666020888022790149            422            2292   en   \n",
       "1     666029285002620928             39             112   en   \n",
       "2     666033412701032449             36             100   en   \n",
       "3     666044226329800704            115             247   en   \n",
       "4     666049248165822465             37              89   en   \n",
       "...                  ...            ...             ...  ...   \n",
       "2052  891327558926688256           7757           35308   en   \n",
       "2053  891689557279858688           7224           36929   en   \n",
       "2054  891815181378084864           3478           22045   en   \n",
       "2055  892177421306343426           5301           29324   en   \n",
       "2056  892420643555336193           7003           33811   en   \n",
       "\n",
       "      img_resolution_MP  \n",
       "0                  0.69  \n",
       "1                  0.79  \n",
       "2                  0.70  \n",
       "3                  0.79  \n",
       "4                  0.79  \n",
       "...                 ...  \n",
       "2052               0.39  \n",
       "2053               1.92  \n",
       "2054               1.92  \n",
       "2055               2.25  \n",
       "2056               0.29  \n",
       "\n",
       "[2057 rows x 5 columns]"
      ]
     },
     "execution_count": 141,
     "metadata": {},
     "output_type": "execute_result"
    }
   ],
   "source": [
    "df_twitter_response_clean"
   ]
  },
  {
   "cell_type": "markdown",
   "id": "135f7666",
   "metadata": {},
   "source": [
    "- `in_reply_to_status_id` field does not contain accurate status id information\n",
    "- `in_reply_to_user_id` field does not contain significant information for this analysis"
   ]
  },
  {
   "cell_type": "markdown",
   "id": "9d3bf519",
   "metadata": {},
   "source": [
    "#### Define\n",
    "\n",
    "Drop `in_reply_to_status_id` and `in_reply_to_user_id` fields."
   ]
  },
  {
   "cell_type": "markdown",
   "id": "f0bee8be",
   "metadata": {},
   "source": [
    "#### Code"
   ]
  },
  {
   "cell_type": "code",
   "execution_count": 142,
   "id": "7213f249",
   "metadata": {},
   "outputs": [],
   "source": [
    "df_twitter_archive_clean.drop(['in_reply_to_status_id',\n",
    "                               'in_reply_to_user_id'], axis=1,inplace=True)"
   ]
  },
  {
   "cell_type": "markdown",
   "id": "c11b4a62",
   "metadata": {},
   "source": [
    "#### Test"
   ]
  },
  {
   "cell_type": "code",
   "execution_count": 143,
   "id": "d5321d9c",
   "metadata": {},
   "outputs": [
    {
     "data": {
      "text/html": [
       "<div>\n",
       "<style scoped>\n",
       "    .dataframe tbody tr th:only-of-type {\n",
       "        vertical-align: middle;\n",
       "    }\n",
       "\n",
       "    .dataframe tbody tr th {\n",
       "        vertical-align: top;\n",
       "    }\n",
       "\n",
       "    .dataframe thead th {\n",
       "        text-align: right;\n",
       "    }\n",
       "</style>\n",
       "<table border=\"1\" class=\"dataframe\">\n",
       "  <thead>\n",
       "    <tr style=\"text-align: right;\">\n",
       "      <th></th>\n",
       "      <th>tweet_id</th>\n",
       "      <th>timestamp</th>\n",
       "      <th>source</th>\n",
       "      <th>text</th>\n",
       "      <th>retweeted_status_id</th>\n",
       "      <th>retweeted_status_user_id</th>\n",
       "      <th>retweeted_status_timestamp</th>\n",
       "      <th>expanded_urls</th>\n",
       "      <th>rating_numerator</th>\n",
       "      <th>rating_denominator</th>\n",
       "      <th>name</th>\n",
       "      <th>dog_growth_stage</th>\n",
       "    </tr>\n",
       "  </thead>\n",
       "  <tbody>\n",
       "    <tr>\n",
       "      <th>0</th>\n",
       "      <td>892420643555336193</td>\n",
       "      <td>2017-08-01 16:23:56 +0000</td>\n",
       "      <td>&lt;a href=\"http://twitter.com/download/iphone\" r...</td>\n",
       "      <td>This is Phineas. He's a mystical boy. Only eve...</td>\n",
       "      <td>NaN</td>\n",
       "      <td>NaN</td>\n",
       "      <td>NaN</td>\n",
       "      <td>https://twitter.com/dog_rates/status/892420643...</td>\n",
       "      <td>13</td>\n",
       "      <td>10</td>\n",
       "      <td>Phineas</td>\n",
       "      <td>none</td>\n",
       "    </tr>\n",
       "    <tr>\n",
       "      <th>1</th>\n",
       "      <td>892177421306343426</td>\n",
       "      <td>2017-08-01 00:17:27 +0000</td>\n",
       "      <td>&lt;a href=\"http://twitter.com/download/iphone\" r...</td>\n",
       "      <td>This is Tilly. She's just checking pup on you....</td>\n",
       "      <td>NaN</td>\n",
       "      <td>NaN</td>\n",
       "      <td>NaN</td>\n",
       "      <td>https://twitter.com/dog_rates/status/892177421...</td>\n",
       "      <td>13</td>\n",
       "      <td>10</td>\n",
       "      <td>Tilly</td>\n",
       "      <td>none</td>\n",
       "    </tr>\n",
       "    <tr>\n",
       "      <th>2</th>\n",
       "      <td>891815181378084864</td>\n",
       "      <td>2017-07-31 00:18:03 +0000</td>\n",
       "      <td>&lt;a href=\"http://twitter.com/download/iphone\" r...</td>\n",
       "      <td>This is Archie. He is a rare Norwegian Pouncin...</td>\n",
       "      <td>NaN</td>\n",
       "      <td>NaN</td>\n",
       "      <td>NaN</td>\n",
       "      <td>https://twitter.com/dog_rates/status/891815181...</td>\n",
       "      <td>12</td>\n",
       "      <td>10</td>\n",
       "      <td>Archie</td>\n",
       "      <td>none</td>\n",
       "    </tr>\n",
       "    <tr>\n",
       "      <th>3</th>\n",
       "      <td>891689557279858688</td>\n",
       "      <td>2017-07-30 15:58:51 +0000</td>\n",
       "      <td>&lt;a href=\"http://twitter.com/download/iphone\" r...</td>\n",
       "      <td>This is Darla. She commenced a snooze mid meal...</td>\n",
       "      <td>NaN</td>\n",
       "      <td>NaN</td>\n",
       "      <td>NaN</td>\n",
       "      <td>https://twitter.com/dog_rates/status/891689557...</td>\n",
       "      <td>13</td>\n",
       "      <td>10</td>\n",
       "      <td>Darla</td>\n",
       "      <td>none</td>\n",
       "    </tr>\n",
       "    <tr>\n",
       "      <th>4</th>\n",
       "      <td>891327558926688256</td>\n",
       "      <td>2017-07-29 16:00:24 +0000</td>\n",
       "      <td>&lt;a href=\"http://twitter.com/download/iphone\" r...</td>\n",
       "      <td>This is Franklin. He would like you to stop ca...</td>\n",
       "      <td>NaN</td>\n",
       "      <td>NaN</td>\n",
       "      <td>NaN</td>\n",
       "      <td>https://twitter.com/dog_rates/status/891327558...</td>\n",
       "      <td>12</td>\n",
       "      <td>10</td>\n",
       "      <td>Franklin</td>\n",
       "      <td>none</td>\n",
       "    </tr>\n",
       "  </tbody>\n",
       "</table>\n",
       "</div>"
      ],
      "text/plain": [
       "             tweet_id                  timestamp  \\\n",
       "0  892420643555336193  2017-08-01 16:23:56 +0000   \n",
       "1  892177421306343426  2017-08-01 00:17:27 +0000   \n",
       "2  891815181378084864  2017-07-31 00:18:03 +0000   \n",
       "3  891689557279858688  2017-07-30 15:58:51 +0000   \n",
       "4  891327558926688256  2017-07-29 16:00:24 +0000   \n",
       "\n",
       "                                              source  \\\n",
       "0  <a href=\"http://twitter.com/download/iphone\" r...   \n",
       "1  <a href=\"http://twitter.com/download/iphone\" r...   \n",
       "2  <a href=\"http://twitter.com/download/iphone\" r...   \n",
       "3  <a href=\"http://twitter.com/download/iphone\" r...   \n",
       "4  <a href=\"http://twitter.com/download/iphone\" r...   \n",
       "\n",
       "                                                text  retweeted_status_id  \\\n",
       "0  This is Phineas. He's a mystical boy. Only eve...                  NaN   \n",
       "1  This is Tilly. She's just checking pup on you....                  NaN   \n",
       "2  This is Archie. He is a rare Norwegian Pouncin...                  NaN   \n",
       "3  This is Darla. She commenced a snooze mid meal...                  NaN   \n",
       "4  This is Franklin. He would like you to stop ca...                  NaN   \n",
       "\n",
       "   retweeted_status_user_id retweeted_status_timestamp  \\\n",
       "0                       NaN                        NaN   \n",
       "1                       NaN                        NaN   \n",
       "2                       NaN                        NaN   \n",
       "3                       NaN                        NaN   \n",
       "4                       NaN                        NaN   \n",
       "\n",
       "                                       expanded_urls  rating_numerator  \\\n",
       "0  https://twitter.com/dog_rates/status/892420643...                13   \n",
       "1  https://twitter.com/dog_rates/status/892177421...                13   \n",
       "2  https://twitter.com/dog_rates/status/891815181...                12   \n",
       "3  https://twitter.com/dog_rates/status/891689557...                13   \n",
       "4  https://twitter.com/dog_rates/status/891327558...                12   \n",
       "\n",
       "   rating_denominator      name dog_growth_stage  \n",
       "0                  10   Phineas             none  \n",
       "1                  10     Tilly             none  \n",
       "2                  10    Archie             none  \n",
       "3                  10     Darla             none  \n",
       "4                  10  Franklin             none  "
      ]
     },
     "execution_count": 143,
     "metadata": {},
     "output_type": "execute_result"
    }
   ],
   "source": [
    "df_twitter_archive_clean.head()"
   ]
  },
  {
   "cell_type": "markdown",
   "id": "f97ec8d3",
   "metadata": {},
   "source": [
    "``retweeted_status_id``, ``retweeted_status_user_id`` and ``retweeted_status_timestamp`` are indication of retweeted status which constitutes duplicated observations"
   ]
  },
  {
   "cell_type": "markdown",
   "id": "4d199322",
   "metadata": {},
   "source": [
    "#### Define\n",
    "- Remove observations with retweeted status since they constitute duplicates."
   ]
  },
  {
   "cell_type": "markdown",
   "id": "fcb9eed6",
   "metadata": {},
   "source": [
    "#### Code"
   ]
  },
  {
   "cell_type": "code",
   "execution_count": 144,
   "id": "3e97b8ae",
   "metadata": {},
   "outputs": [],
   "source": [
    "df_twitter_archive_clean=df_twitter_archive_clean[df_twitter_archive_clean.retweeted_status_id.isnull()]"
   ]
  },
  {
   "cell_type": "markdown",
   "id": "360f6701",
   "metadata": {},
   "source": [
    "#### Test"
   ]
  },
  {
   "cell_type": "code",
   "execution_count": 145,
   "id": "ae0af7e6",
   "metadata": {},
   "outputs": [
    {
     "data": {
      "text/html": [
       "<div>\n",
       "<style scoped>\n",
       "    .dataframe tbody tr th:only-of-type {\n",
       "        vertical-align: middle;\n",
       "    }\n",
       "\n",
       "    .dataframe tbody tr th {\n",
       "        vertical-align: top;\n",
       "    }\n",
       "\n",
       "    .dataframe thead th {\n",
       "        text-align: right;\n",
       "    }\n",
       "</style>\n",
       "<table border=\"1\" class=\"dataframe\">\n",
       "  <thead>\n",
       "    <tr style=\"text-align: right;\">\n",
       "      <th></th>\n",
       "      <th>tweet_id</th>\n",
       "      <th>timestamp</th>\n",
       "      <th>source</th>\n",
       "      <th>text</th>\n",
       "      <th>retweeted_status_id</th>\n",
       "      <th>retweeted_status_user_id</th>\n",
       "      <th>retweeted_status_timestamp</th>\n",
       "      <th>expanded_urls</th>\n",
       "      <th>rating_numerator</th>\n",
       "      <th>rating_denominator</th>\n",
       "      <th>name</th>\n",
       "      <th>dog_growth_stage</th>\n",
       "    </tr>\n",
       "  </thead>\n",
       "  <tbody>\n",
       "  </tbody>\n",
       "</table>\n",
       "</div>"
      ],
      "text/plain": [
       "Empty DataFrame\n",
       "Columns: [tweet_id, timestamp, source, text, retweeted_status_id, retweeted_status_user_id, retweeted_status_timestamp, expanded_urls, rating_numerator, rating_denominator, name, dog_growth_stage]\n",
       "Index: []"
      ]
     },
     "execution_count": 145,
     "metadata": {},
     "output_type": "execute_result"
    }
   ],
   "source": [
    "df_twitter_archive_clean[~df_twitter_archive_clean.retweeted_status_id.isnull()]"
   ]
  },
  {
   "cell_type": "markdown",
   "id": "624398b5",
   "metadata": {},
   "source": [
    "#### Define\n",
    "- Remove ``retweeted_status_id``, ``retweeted_status_user_id`` and ``retweeted_status_timestamp`` columns"
   ]
  },
  {
   "cell_type": "markdown",
   "id": "7b8d3a9a",
   "metadata": {},
   "source": [
    "#### Code"
   ]
  },
  {
   "cell_type": "code",
   "execution_count": 146,
   "id": "9f22af91",
   "metadata": {},
   "outputs": [],
   "source": [
    "df_twitter_archive_clean = df_twitter_archive_clean.drop(['retweeted_status_id',\n",
    "                                                          'retweeted_status_user_id','retweeted_status_timestamp'],axis=1)"
   ]
  },
  {
   "cell_type": "markdown",
   "id": "abfdf439",
   "metadata": {},
   "source": [
    "#### Test"
   ]
  },
  {
   "cell_type": "code",
   "execution_count": 147,
   "id": "c24d0248",
   "metadata": {},
   "outputs": [
    {
     "name": "stdout",
     "output_type": "stream",
     "text": [
      "<class 'pandas.core.frame.DataFrame'>\n",
      "Int64Index: 2175 entries, 0 to 2355\n",
      "Data columns (total 9 columns):\n",
      " #   Column              Non-Null Count  Dtype \n",
      "---  ------              --------------  ----- \n",
      " 0   tweet_id            2175 non-null   int64 \n",
      " 1   timestamp           2175 non-null   object\n",
      " 2   source              2175 non-null   object\n",
      " 3   text                2175 non-null   object\n",
      " 4   expanded_urls       2117 non-null   object\n",
      " 5   rating_numerator    2175 non-null   int64 \n",
      " 6   rating_denominator  2175 non-null   int64 \n",
      " 7   name                2175 non-null   object\n",
      " 8   dog_growth_stage    2175 non-null   object\n",
      "dtypes: int64(3), object(6)\n",
      "memory usage: 169.9+ KB\n"
     ]
    }
   ],
   "source": [
    "df_twitter_archive_clean.info()"
   ]
  },
  {
   "cell_type": "markdown",
   "id": "a47c1d30",
   "metadata": {},
   "source": [
    "The required information from the ``source`` field is not explicitly expressed in the field"
   ]
  },
  {
   "cell_type": "markdown",
   "id": "3d51ff5b",
   "metadata": {},
   "source": [
    "#### Define\n",
    "- Extracting the source information from the source column."
   ]
  },
  {
   "cell_type": "markdown",
   "id": "5bdfbc07",
   "metadata": {},
   "source": [
    "#### Code"
   ]
  },
  {
   "cell_type": "code",
   "execution_count": 148,
   "id": "77dac2cd",
   "metadata": {},
   "outputs": [],
   "source": [
    "# The source information is extracted from the source column\n",
    "df_twitter_archive_clean['source']=df_twitter_archive_clean.source.str.extract(r'\\>(\\w+\\s?-?\\s?\\w+?\\s?\\w+?\\s?\\w+?)\\<')"
   ]
  },
  {
   "cell_type": "markdown",
   "id": "f06715e3",
   "metadata": {},
   "source": [
    "#### Test"
   ]
  },
  {
   "cell_type": "code",
   "execution_count": 149,
   "id": "9c950292",
   "metadata": {},
   "outputs": [
    {
     "data": {
      "text/plain": [
       "Twitter for iPhone     2042\n",
       "Vine - Make a Scene      91\n",
       "Twitter Web Client       31\n",
       "TweetDeck                11\n",
       "Name: source, dtype: int64"
      ]
     },
     "execution_count": 149,
     "metadata": {},
     "output_type": "execute_result"
    }
   ],
   "source": [
    "df_twitter_archive_clean.source.value_counts()"
   ]
  },
  {
   "cell_type": "code",
   "execution_count": 150,
   "id": "331d102d",
   "metadata": {},
   "outputs": [
    {
     "data": {
      "text/plain": [
       "Series([], Name: source, dtype: object)"
      ]
     },
     "execution_count": 150,
     "metadata": {},
     "output_type": "execute_result"
    }
   ],
   "source": [
    "# check to see that there is no null value in the source column\n",
    "df_twitter_archive_clean['source'][df_twitter_archive_clean['source'].isnull()]"
   ]
  },
  {
   "cell_type": "markdown",
   "id": "9f97328b",
   "metadata": {},
   "source": [
    "- ``rating_numerator`` values greater than 15 are most likely not correct.there are 25 observations with values greater than 15\n",
    "about 5 of them were incorrectly extracted from te text column. They are the observations with  values 17,960,75,27, and 50\n"
   ]
  },
  {
   "cell_type": "markdown",
   "id": "7d69f2f4",
   "metadata": {},
   "source": [
    "#### Define\n",
    "- re-extract the rating numerators for the listed observations\n",
    "- assign every other invalid rating with a generic value 0\n",
    "- concatenate back with the initial table"
   ]
  },
  {
   "cell_type": "markdown",
   "id": "eabddd28",
   "metadata": {},
   "source": [
    "#### Code"
   ]
  },
  {
   "cell_type": "code",
   "execution_count": 151,
   "id": "a90d29ba",
   "metadata": {},
   "outputs": [],
   "source": [
    "# re_extracting the rating_numerator of the listed observations from the text column\n",
    "\n",
    "mask_2 = df_twitter_archive_clean.rating_numerator.isin([17,960,75,27,50])\n",
    "\n",
    "rating_num_edit = df_twitter_archive_clean[mask_2].copy()\n",
    "\n",
    "rating_num_edit['rating_numerator'] = rating_num_edit.text.str.extract(r'(?:\\d+?\\.?\\d+?/?\\d+?.+?)?(\\d+\\.?\\d+)/\\d+.+?$')"
   ]
  },
  {
   "cell_type": "code",
   "execution_count": 152,
   "id": "b0c737fa",
   "metadata": {},
   "outputs": [],
   "source": [
    "# assigning 0 to every other invalid rating numerator value\n",
    "\n",
    "mask = df_twitter_archive_clean.rating_numerator > 15\n",
    "\n",
    "invalid = df_twitter_archive_clean[mask]\n",
    "\n",
    "mask_1=invalid.rating_numerator.isin([17,960,75,27,50])\n",
    "\n",
    "invalid = invalid[~mask_1]\n",
    "\n",
    "invalid.rating_numerator=0"
   ]
  },
  {
   "cell_type": "code",
   "execution_count": 153,
   "id": "0bf5d218",
   "metadata": {},
   "outputs": [
    {
     "name": "stdout",
     "output_type": "stream",
     "text": [
      "<class 'pandas.core.frame.DataFrame'>\n",
      "Int64Index: 2175 entries, 0 to 2355\n",
      "Data columns (total 9 columns):\n",
      " #   Column              Non-Null Count  Dtype \n",
      "---  ------              --------------  ----- \n",
      " 0   tweet_id            2175 non-null   int64 \n",
      " 1   timestamp           2175 non-null   object\n",
      " 2   source              2175 non-null   object\n",
      " 3   text                2175 non-null   object\n",
      " 4   expanded_urls       2117 non-null   object\n",
      " 5   rating_numerator    2175 non-null   int64 \n",
      " 6   rating_denominator  2175 non-null   int64 \n",
      " 7   name                2175 non-null   object\n",
      " 8   dog_growth_stage    2175 non-null   object\n",
      "dtypes: int64(3), object(6)\n",
      "memory usage: 169.9+ KB\n"
     ]
    }
   ],
   "source": [
    "df_twitter_archive_clean.info()"
   ]
  },
  {
   "cell_type": "code",
   "execution_count": 154,
   "id": "c5bf0c48",
   "metadata": {},
   "outputs": [],
   "source": [
    "# drop the invalid observation from the df_twitter_archive_clean table\n",
    "df_twitter_archive_clean = df_twitter_archive_clean[~mask]\n",
    "\n",
    "# concatenating to original table\n",
    "df_twitter_archive_clean =pd.concat([df_twitter_archive_clean,invalid,rating_num_edit], ignore_index = True)"
   ]
  },
  {
   "cell_type": "code",
   "execution_count": 155,
   "id": "80a6cbbc",
   "metadata": {},
   "outputs": [],
   "source": [
    "# convert the rating_numerator columnn to integer\n",
    "df_twitter_archive_clean.rating_numerator = df_twitter_archive_clean.rating_numerator.astype(float).apply(lambda x: round(x))"
   ]
  },
  {
   "cell_type": "markdown",
   "id": "b186089d",
   "metadata": {},
   "source": [
    "#### Test"
   ]
  },
  {
   "cell_type": "code",
   "execution_count": 156,
   "id": "3bc5d257",
   "metadata": {},
   "outputs": [
    {
     "data": {
      "text/plain": [
       "Series([], Name: rating_numerator, dtype: int64)"
      ]
     },
     "execution_count": 156,
     "metadata": {},
     "output_type": "execute_result"
    }
   ],
   "source": [
    "# checking for any rating_numerator greater than 15\n",
    "df_twitter_archive_clean.rating_numerator[df_twitter_archive_clean.rating_numerator > 15]"
   ]
  },
  {
   "cell_type": "markdown",
   "id": "5ad9bac4",
   "metadata": {},
   "source": [
    "rating_denominator should be 10. There are 22 observations with values not equal to 10"
   ]
  },
  {
   "cell_type": "markdown",
   "id": "368cdd43",
   "metadata": {},
   "source": [
    "#### Define\n",
    "- convert all rating_denominator to 10\n",
    "- concatenate"
   ]
  },
  {
   "cell_type": "markdown",
   "id": "e4fecd1e",
   "metadata": {},
   "source": [
    "#### Code"
   ]
  },
  {
   "cell_type": "code",
   "execution_count": 157,
   "id": "65ce733c",
   "metadata": {},
   "outputs": [],
   "source": [
    "mask=df_twitter_archive_clean.rating_denominator!=10\n",
    "invalid_denom = df_twitter_archive_clean[mask].copy()\n",
    "\n",
    "invalid_denom['rating_denominator'] = 10\n",
    "\n",
    "df_twitter_archive_clean=df_twitter_archive_clean[df_twitter_archive_clean.rating_denominator==10]\n",
    "\n",
    "df_twitter_archive_clean = pd.concat([df_twitter_archive_clean,invalid_denom], ignore_index=True)"
   ]
  },
  {
   "cell_type": "markdown",
   "id": "926280ba",
   "metadata": {},
   "source": [
    "#### Test"
   ]
  },
  {
   "cell_type": "code",
   "execution_count": 158,
   "id": "08d47900",
   "metadata": {},
   "outputs": [
    {
     "data": {
      "text/html": [
       "<div>\n",
       "<style scoped>\n",
       "    .dataframe tbody tr th:only-of-type {\n",
       "        vertical-align: middle;\n",
       "    }\n",
       "\n",
       "    .dataframe tbody tr th {\n",
       "        vertical-align: top;\n",
       "    }\n",
       "\n",
       "    .dataframe thead th {\n",
       "        text-align: right;\n",
       "    }\n",
       "</style>\n",
       "<table border=\"1\" class=\"dataframe\">\n",
       "  <thead>\n",
       "    <tr style=\"text-align: right;\">\n",
       "      <th></th>\n",
       "      <th>tweet_id</th>\n",
       "      <th>timestamp</th>\n",
       "      <th>source</th>\n",
       "      <th>text</th>\n",
       "      <th>expanded_urls</th>\n",
       "      <th>rating_numerator</th>\n",
       "      <th>rating_denominator</th>\n",
       "      <th>name</th>\n",
       "      <th>dog_growth_stage</th>\n",
       "    </tr>\n",
       "  </thead>\n",
       "  <tbody>\n",
       "  </tbody>\n",
       "</table>\n",
       "</div>"
      ],
      "text/plain": [
       "Empty DataFrame\n",
       "Columns: [tweet_id, timestamp, source, text, expanded_urls, rating_numerator, rating_denominator, name, dog_growth_stage]\n",
       "Index: []"
      ]
     },
     "execution_count": 158,
     "metadata": {},
     "output_type": "execute_result"
    }
   ],
   "source": [
    "# Checking that all rating_denominators are equal to 10\n",
    "df_twitter_archive_clean[df_twitter_archive_clean['rating_denominator']!= 10]"
   ]
  },
  {
   "cell_type": "code",
   "execution_count": null,
   "id": "87380d99",
   "metadata": {},
   "outputs": [],
   "source": []
  },
  {
   "cell_type": "markdown",
   "id": "831ce1e8",
   "metadata": {},
   "source": [
    " Observing some unlikely names in the `name` column\n",
    "- 55 dogs are named **a**\n",
    "- 2 dogs were named **actually**\n",
    "- 1 was named **all**\n",
    "- 7 was named **an**\n",
    "- 1 was named **by**\n",
    "- 1 was named **his**\n",
    "- 4 were named **just**\n",
    "- 1 was named **life**\n",
    "- 2 were named **not**\n",
    "- 1 was named **O**\n",
    "- 4 were named **one**\n",
    "- 1 was named **this**\n",
    "- 1 was named **unacceptable**\n",
    "- 1 was named **old**\n",
    "- 1 was named **space**\n",
    "- 8 was named **the**\n",
    "- 1 was named **officially**"
   ]
  },
  {
   "cell_type": "markdown",
   "id": "e52a614e",
   "metadata": {},
   "source": [
    "#### Define \n",
    "\n",
    "Extract the correct name from the text column. \n",
    "\n",
    "- This will not totally correct the issues all round as there are still some issues with the name column.\n",
    "- The most common issue and easier to solve is the one with this two patterns.\n",
    "- ``named ___ `` and ``name is ___``"
   ]
  },
  {
   "cell_type": "markdown",
   "id": "cc55b565",
   "metadata": {},
   "source": [
    "#### Code"
   ]
  },
  {
   "cell_type": "code",
   "execution_count": 159,
   "id": "59a0b084",
   "metadata": {},
   "outputs": [],
   "source": [
    "# seperating the dataframe into two based on the list of wrong_name\n",
    "wrong_name = ['None','a','actually','all','an','by',\n",
    "              'his','just','life','not','O','one','this',\n",
    "              'unacceptable','old','such','space','the','officially']\n",
    "\n",
    "df_wrong_names = df_twitter_archive_clean[df_twitter_archive_clean.name.isin(wrong_name)].copy()\n",
    "df_right_names = df_twitter_archive_clean[~df_twitter_archive_clean.name.isin(wrong_name)].copy()"
   ]
  },
  {
   "cell_type": "code",
   "execution_count": 160,
   "id": "117cef6d",
   "metadata": {},
   "outputs": [
    {
     "name": "stdout",
     "output_type": "stream",
     "text": [
      "<class 'pandas.core.frame.DataFrame'>\n",
      "Int64Index: 771 entries, 5 to 2173\n",
      "Data columns (total 9 columns):\n",
      " #   Column              Non-Null Count  Dtype \n",
      "---  ------              --------------  ----- \n",
      " 0   tweet_id            771 non-null    int64 \n",
      " 1   timestamp           771 non-null    object\n",
      " 2   source              771 non-null    object\n",
      " 3   text                771 non-null    object\n",
      " 4   expanded_urls       713 non-null    object\n",
      " 5   rating_numerator    771 non-null    int64 \n",
      " 6   rating_denominator  771 non-null    int64 \n",
      " 7   name                771 non-null    object\n",
      " 8   dog_growth_stage    771 non-null    object\n",
      "dtypes: int64(3), object(6)\n",
      "memory usage: 60.2+ KB\n"
     ]
    }
   ],
   "source": [
    "df_wrong_names.info()"
   ]
  },
  {
   "cell_type": "code",
   "execution_count": 161,
   "id": "88f7debb",
   "metadata": {},
   "outputs": [
    {
     "name": "stdout",
     "output_type": "stream",
     "text": [
      "<class 'pandas.core.frame.DataFrame'>\n",
      "Int64Index: 748 entries, 5 to 2173\n",
      "Data columns (total 9 columns):\n",
      " #   Column              Non-Null Count  Dtype \n",
      "---  ------              --------------  ----- \n",
      " 0   tweet_id            748 non-null    int64 \n",
      " 1   timestamp           748 non-null    object\n",
      " 2   source              748 non-null    object\n",
      " 3   text                748 non-null    object\n",
      " 4   expanded_urls       690 non-null    object\n",
      " 5   rating_numerator    748 non-null    int64 \n",
      " 6   rating_denominator  748 non-null    int64 \n",
      " 7   name                0 non-null      object\n",
      " 8   dog_growth_stage    748 non-null    object\n",
      "dtypes: int64(3), object(6)\n",
      "memory usage: 58.4+ KB\n"
     ]
    }
   ],
   "source": [
    "# extracting the names from the text column for patterns 'named x'\n",
    "df_wrong_names['name']=df_wrong_names.text.str.extract(r'(?<=named\\s)(\\w+)')\n",
    "df_wrong_names_named=df_wrong_names[df_wrong_names['name'].notnull()]\n",
    "df_wrong_names_2=df_wrong_names[df_wrong_names['name'].isnull()].copy()\n",
    "df_wrong_names_2.info()"
   ]
  },
  {
   "cell_type": "code",
   "execution_count": 162,
   "id": "31e0993b",
   "metadata": {},
   "outputs": [],
   "source": [
    "# extracting the names from the text column for patterns 'name is x'\n",
    "df_wrong_names_2['name']=df_wrong_names_2.text.str.extract(r'(?<=name\\sis\\s)(\\w+)')\n",
    "df_wrong_names_nameis=df_wrong_names_2[df_wrong_names_2['name'].notnull()]\n",
    "df_wrong_names_none=df_wrong_names_2[df_wrong_names_2['name'].isnull()]"
   ]
  },
  {
   "cell_type": "code",
   "execution_count": 163,
   "id": "42d1822f",
   "metadata": {},
   "outputs": [],
   "source": [
    "# Replace nans with 'none'\n",
    "df_wrong_names_none = df_wrong_names_none.replace(to_replace=np.nan, value='none')"
   ]
  },
  {
   "cell_type": "code",
   "execution_count": 164,
   "id": "3425ebbc",
   "metadata": {},
   "outputs": [],
   "source": [
    "# concatenate the result for the two pattern search\n",
    "df_wrong_name_solved = pd.concat([df_wrong_names_none,df_wrong_names_nameis,df_wrong_names_named],ignore_index=True) "
   ]
  },
  {
   "cell_type": "code",
   "execution_count": 165,
   "id": "c1beea9b",
   "metadata": {},
   "outputs": [
    {
     "name": "stdout",
     "output_type": "stream",
     "text": [
      "<class 'pandas.core.frame.DataFrame'>\n",
      "RangeIndex: 771 entries, 0 to 770\n",
      "Data columns (total 9 columns):\n",
      " #   Column              Non-Null Count  Dtype \n",
      "---  ------              --------------  ----- \n",
      " 0   tweet_id            771 non-null    int64 \n",
      " 1   timestamp           771 non-null    object\n",
      " 2   source              771 non-null    object\n",
      " 3   text                771 non-null    object\n",
      " 4   expanded_urls       770 non-null    object\n",
      " 5   rating_numerator    771 non-null    int64 \n",
      " 6   rating_denominator  771 non-null    int64 \n",
      " 7   name                771 non-null    object\n",
      " 8   dog_growth_stage    771 non-null    object\n",
      "dtypes: int64(3), object(6)\n",
      "memory usage: 54.3+ KB\n"
     ]
    }
   ],
   "source": [
    "df_wrong_name_solved.info()"
   ]
  },
  {
   "cell_type": "code",
   "execution_count": 166,
   "id": "d5eb2129",
   "metadata": {},
   "outputs": [],
   "source": [
    "# contatenate the result of the names resolution with the rest of the dataframe. \n",
    "df_twitter_archive_clean = pd.concat([df_right_names,df_wrong_name_solved],ignore_index = True)"
   ]
  },
  {
   "cell_type": "markdown",
   "id": "3bb6a81a",
   "metadata": {},
   "source": [
    "#### Test"
   ]
  },
  {
   "cell_type": "code",
   "execution_count": 167,
   "id": "5e2b2e2b",
   "metadata": {},
   "outputs": [
    {
     "name": "stdout",
     "output_type": "stream",
     "text": [
      "<class 'pandas.core.frame.DataFrame'>\n",
      "RangeIndex: 2175 entries, 0 to 2174\n",
      "Data columns (total 9 columns):\n",
      " #   Column              Non-Null Count  Dtype \n",
      "---  ------              --------------  ----- \n",
      " 0   tweet_id            2175 non-null   int64 \n",
      " 1   timestamp           2175 non-null   object\n",
      " 2   source              2175 non-null   object\n",
      " 3   text                2175 non-null   object\n",
      " 4   expanded_urls       2174 non-null   object\n",
      " 5   rating_numerator    2175 non-null   int64 \n",
      " 6   rating_denominator  2175 non-null   int64 \n",
      " 7   name                2175 non-null   object\n",
      " 8   dog_growth_stage    2175 non-null   object\n",
      "dtypes: int64(3), object(6)\n",
      "memory usage: 153.1+ KB\n"
     ]
    }
   ],
   "source": [
    "# Test to ensure that we have the same number of observations after the whole process\n",
    "df_twitter_archive_clean.info()"
   ]
  },
  {
   "cell_type": "code",
   "execution_count": 168,
   "id": "cc3aca9e",
   "metadata": {},
   "outputs": [
    {
     "data": {
      "text/html": [
       "<div>\n",
       "<style scoped>\n",
       "    .dataframe tbody tr th:only-of-type {\n",
       "        vertical-align: middle;\n",
       "    }\n",
       "\n",
       "    .dataframe tbody tr th {\n",
       "        vertical-align: top;\n",
       "    }\n",
       "\n",
       "    .dataframe thead th {\n",
       "        text-align: right;\n",
       "    }\n",
       "</style>\n",
       "<table border=\"1\" class=\"dataframe\">\n",
       "  <thead>\n",
       "    <tr style=\"text-align: right;\">\n",
       "      <th></th>\n",
       "      <th>tweet_id</th>\n",
       "      <th>timestamp</th>\n",
       "      <th>source</th>\n",
       "      <th>text</th>\n",
       "      <th>expanded_urls</th>\n",
       "      <th>rating_numerator</th>\n",
       "      <th>rating_denominator</th>\n",
       "      <th>name</th>\n",
       "      <th>dog_growth_stage</th>\n",
       "    </tr>\n",
       "  </thead>\n",
       "  <tbody>\n",
       "  </tbody>\n",
       "</table>\n",
       "</div>"
      ],
      "text/plain": [
       "Empty DataFrame\n",
       "Columns: [tweet_id, timestamp, source, text, expanded_urls, rating_numerator, rating_denominator, name, dog_growth_stage]\n",
       "Index: []"
      ]
     },
     "execution_count": 168,
     "metadata": {},
     "output_type": "execute_result"
    }
   ],
   "source": [
    "# Test to check that all wrong_names have been removed.\n",
    "df_twitter_archive_clean[df_twitter_archive_clean.name.isin(wrong_name)]"
   ]
  },
  {
   "cell_type": "markdown",
   "id": "710ed03a",
   "metadata": {},
   "source": [
    "### One more tidyness issue\n",
    "- There are two observational units in these dataset. The dog details and the tweets details.\n",
    "- we however have three dataframes."
   ]
  },
  {
   "cell_type": "markdown",
   "id": "6733a891",
   "metadata": {},
   "source": [
    "#### Define\n",
    "- convert the three dataframes into two dataframes each with thier observational unit\n",
    "- the two observational units are:\n",
    "> tweet data\n",
    "\n",
    "> Dog image data"
   ]
  },
  {
   "cell_type": "markdown",
   "id": "b24e4abe",
   "metadata": {},
   "source": [
    "#### Code"
   ]
  },
  {
   "cell_type": "code",
   "execution_count": 169,
   "id": "949928ee",
   "metadata": {},
   "outputs": [],
   "source": [
    "# First we will merge the three data sets together\n",
    "combined_data=df_twitter_archive_clean.merge(df_twitter_response_clean, \n",
    "                                             how = 'inner', left_on = 'tweet_id', right_on='id')\n",
    "\n",
    "master_cleaned =  combined_data.merge(df_image_prediction_clean, how= 'inner', on='tweet_id')"
   ]
  },
  {
   "cell_type": "code",
   "execution_count": 170,
   "id": "4ac4ff45",
   "metadata": {},
   "outputs": [],
   "source": [
    "# Separate the combination data based on the two observational unit.\n",
    "tweet_data_clean=master_cleaned[['tweet_id','timestamp','source',\n",
    "                                 'text','expanded_urls','rating_numerator',\n",
    "                                 'rating_denominator','retweet_count','favorite_count','lang']].copy()\n",
    "\n",
    "image_data_clean=master_cleaned[['tweet_id','img_num','name',\n",
    "                                 'dog_growth_stage','img_resolution_MP',\n",
    "                                 'jpg_url','breed']]"
   ]
  },
  {
   "cell_type": "markdown",
   "id": "872377f4",
   "metadata": {},
   "source": [
    "#### Test"
   ]
  },
  {
   "cell_type": "code",
   "execution_count": 171,
   "id": "911f850d",
   "metadata": {},
   "outputs": [
    {
     "name": "stdout",
     "output_type": "stream",
     "text": [
      "<class 'pandas.core.frame.DataFrame'>\n",
      "Int64Index: 1096 entries, 0 to 1095\n",
      "Data columns (total 7 columns):\n",
      " #   Column             Non-Null Count  Dtype  \n",
      "---  ------             --------------  -----  \n",
      " 0   tweet_id           1096 non-null   int64  \n",
      " 1   img_num            1096 non-null   int64  \n",
      " 2   name               1096 non-null   object \n",
      " 3   dog_growth_stage   1096 non-null   object \n",
      " 4   img_resolution_MP  1096 non-null   float64\n",
      " 5   jpg_url            1096 non-null   object \n",
      " 6   breed              1096 non-null   object \n",
      "dtypes: float64(1), int64(2), object(4)\n",
      "memory usage: 68.5+ KB\n"
     ]
    }
   ],
   "source": [
    "image_data_clean.info()"
   ]
  },
  {
   "cell_type": "code",
   "execution_count": 172,
   "id": "d530b002",
   "metadata": {},
   "outputs": [
    {
     "name": "stdout",
     "output_type": "stream",
     "text": [
      "<class 'pandas.core.frame.DataFrame'>\n",
      "Int64Index: 1096 entries, 0 to 1095\n",
      "Data columns (total 10 columns):\n",
      " #   Column              Non-Null Count  Dtype \n",
      "---  ------              --------------  ----- \n",
      " 0   tweet_id            1096 non-null   int64 \n",
      " 1   timestamp           1096 non-null   object\n",
      " 2   source              1096 non-null   object\n",
      " 3   text                1096 non-null   object\n",
      " 4   expanded_urls       1096 non-null   object\n",
      " 5   rating_numerator    1096 non-null   int64 \n",
      " 6   rating_denominator  1096 non-null   int64 \n",
      " 7   retweet_count       1096 non-null   int64 \n",
      " 8   favorite_count      1096 non-null   int64 \n",
      " 9   lang                1096 non-null   object\n",
      "dtypes: int64(5), object(5)\n",
      "memory usage: 94.2+ KB\n"
     ]
    }
   ],
   "source": [
    "tweet_data_clean.info()"
   ]
  },
  {
   "cell_type": "markdown",
   "id": "4ef5320f",
   "metadata": {},
   "source": [
    "### One more Quality issue\n",
    "Timestamp column is a string type object instead of a datetime object"
   ]
  },
  {
   "cell_type": "markdown",
   "id": "d1e30523",
   "metadata": {},
   "source": [
    "#### Define\n",
    "convert the timestamp column to a datetime object"
   ]
  },
  {
   "cell_type": "markdown",
   "id": "6d87af7c",
   "metadata": {},
   "source": [
    "#### Code"
   ]
  },
  {
   "cell_type": "code",
   "execution_count": 173,
   "id": "662f74a7",
   "metadata": {},
   "outputs": [],
   "source": [
    "# convert to datetime object\n",
    "tweet_data_clean['timestamp'] = pd.to_datetime(tweet_data_clean['timestamp'])"
   ]
  },
  {
   "cell_type": "code",
   "execution_count": 174,
   "id": "9c90b345",
   "metadata": {},
   "outputs": [],
   "source": [
    "master_cleaned['timestamp'] = pd.to_datetime(master_cleaned['timestamp'])"
   ]
  },
  {
   "cell_type": "code",
   "execution_count": 175,
   "id": "1038dc2d",
   "metadata": {},
   "outputs": [
    {
     "data": {
      "text/plain": [
       "tweet_id                                             891815181378084864\n",
       "timestamp                                     2017-07-31 00:18:03+00:00\n",
       "source                                               Twitter for iPhone\n",
       "text                  This is Archie. He is a rare Norwegian Pouncin...\n",
       "expanded_urls         https://twitter.com/dog_rates/status/891815181...\n",
       "rating_numerator                                                     12\n",
       "rating_denominator                                                   10\n",
       "name                                                             Archie\n",
       "dog_growth_stage                                                   none\n",
       "id                                                   891815181378084864\n",
       "retweet_count                                                      3478\n",
       "favorite_count                                                    22045\n",
       "lang                                                                 en\n",
       "img_resolution_MP                                                  1.92\n",
       "jpg_url                 https://pbs.twimg.com/media/DGBdLU1WsAANxJ9.jpg\n",
       "img_num                                                               1\n",
       "breed                                                         Chihuahua\n",
       "dtype: object"
      ]
     },
     "execution_count": 175,
     "metadata": {},
     "output_type": "execute_result"
    }
   ],
   "source": [
    "master_cleaned.apply(lambda x: x.iloc[0])"
   ]
  },
  {
   "cell_type": "markdown",
   "id": "a6f69532",
   "metadata": {},
   "source": [
    "#### Test"
   ]
  },
  {
   "cell_type": "code",
   "execution_count": 176,
   "id": "5e71f7ec",
   "metadata": {},
   "outputs": [
    {
     "name": "stdout",
     "output_type": "stream",
     "text": [
      "<class 'pandas.core.frame.DataFrame'>\n",
      "Int64Index: 1096 entries, 0 to 1095\n",
      "Data columns (total 10 columns):\n",
      " #   Column              Non-Null Count  Dtype              \n",
      "---  ------              --------------  -----              \n",
      " 0   tweet_id            1096 non-null   int64              \n",
      " 1   timestamp           1096 non-null   datetime64[ns, UTC]\n",
      " 2   source              1096 non-null   object             \n",
      " 3   text                1096 non-null   object             \n",
      " 4   expanded_urls       1096 non-null   object             \n",
      " 5   rating_numerator    1096 non-null   int64              \n",
      " 6   rating_denominator  1096 non-null   int64              \n",
      " 7   retweet_count       1096 non-null   int64              \n",
      " 8   favorite_count      1096 non-null   int64              \n",
      " 9   lang                1096 non-null   object             \n",
      "dtypes: datetime64[ns, UTC](1), int64(5), object(4)\n",
      "memory usage: 94.2+ KB\n"
     ]
    }
   ],
   "source": [
    "# check to confirm that timestamp is now a datetime object.\n",
    "tweet_data_clean.info()"
   ]
  },
  {
   "cell_type": "code",
   "execution_count": 177,
   "id": "6df32c1b",
   "metadata": {},
   "outputs": [
    {
     "name": "stdout",
     "output_type": "stream",
     "text": [
      "<class 'pandas.core.frame.DataFrame'>\n",
      "Int64Index: 1096 entries, 0 to 1095\n",
      "Data columns (total 17 columns):\n",
      " #   Column              Non-Null Count  Dtype              \n",
      "---  ------              --------------  -----              \n",
      " 0   tweet_id            1096 non-null   int64              \n",
      " 1   timestamp           1096 non-null   datetime64[ns, UTC]\n",
      " 2   source              1096 non-null   object             \n",
      " 3   text                1096 non-null   object             \n",
      " 4   expanded_urls       1096 non-null   object             \n",
      " 5   rating_numerator    1096 non-null   int64              \n",
      " 6   rating_denominator  1096 non-null   int64              \n",
      " 7   name                1096 non-null   object             \n",
      " 8   dog_growth_stage    1096 non-null   object             \n",
      " 9   id                  1096 non-null   int64              \n",
      " 10  retweet_count       1096 non-null   int64              \n",
      " 11  favorite_count      1096 non-null   int64              \n",
      " 12  lang                1096 non-null   object             \n",
      " 13  img_resolution_MP   1096 non-null   float64            \n",
      " 14  jpg_url             1096 non-null   object             \n",
      " 15  img_num             1096 non-null   int64              \n",
      " 16  breed               1096 non-null   object             \n",
      "dtypes: datetime64[ns, UTC](1), float64(1), int64(7), object(8)\n",
      "memory usage: 154.1+ KB\n"
     ]
    }
   ],
   "source": [
    "master_cleaned.info()"
   ]
  },
  {
   "cell_type": "markdown",
   "id": "1606d593",
   "metadata": {},
   "source": [
    "### Storing\n",
    "We will save the cleaned dataset in  csv file for  analysis"
   ]
  },
  {
   "cell_type": "code",
   "execution_count": 178,
   "id": "8a57e62b",
   "metadata": {},
   "outputs": [],
   "source": [
    "tweet_data_clean.to_csv('tweet_data_clean.csv', index=False)"
   ]
  },
  {
   "cell_type": "code",
   "execution_count": 179,
   "id": "c231b09c",
   "metadata": {},
   "outputs": [],
   "source": [
    "image_data_clean.to_csv('image_data_clean.csv', index=False)"
   ]
  },
  {
   "cell_type": "code",
   "execution_count": 180,
   "id": "ff8d86e6",
   "metadata": {},
   "outputs": [],
   "source": [
    "master_cleaned.to_csv('twitter_archive_master.csv',index= False)"
   ]
  },
  {
   "cell_type": "code",
   "execution_count": null,
   "id": "12bdeee4",
   "metadata": {},
   "outputs": [],
   "source": []
  },
  {
   "cell_type": "markdown",
   "id": "36687fc3",
   "metadata": {},
   "source": [
    "Having cleaned our dataset we will now generate insights and visualization based on the information available in the cleaned dataset."
   ]
  },
  {
   "cell_type": "markdown",
   "id": "551f4a50",
   "metadata": {},
   "source": [
    "### continued in the notebook (wrangle_act3(Analyze and Visualization))"
   ]
  }
 ],
 "metadata": {
  "kernelspec": {
   "display_name": "Python 3 (ipykernel)",
   "language": "python",
   "name": "python3"
  },
  "language_info": {
   "codemirror_mode": {
    "name": "ipython",
    "version": 3
   },
   "file_extension": ".py",
   "mimetype": "text/x-python",
   "name": "python",
   "nbconvert_exporter": "python",
   "pygments_lexer": "ipython3",
   "version": "3.8.13"
  }
 },
 "nbformat": 4,
 "nbformat_minor": 5
}
