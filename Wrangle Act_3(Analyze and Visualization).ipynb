{
 "cells": [
  {
   "cell_type": "markdown",
   "id": "54461625",
   "metadata": {},
   "source": [
    "# Analysing and Visualizing Data"
   ]
  },
  {
   "cell_type": "markdown",
   "id": "78720bfb",
   "metadata": {},
   "source": [
    "#### Analysis and Visualization brief\n",
    "We have cleaned our data and obtained two separate dataset, one contains general information about the tweet, `tweet_data_clean.csv` while the other contains information about the dog in the picture ``image_data_clean.csv``. With this two data set available to us, we will be generating insights that will give answer to some interesting question.\n",
    "\n",
    "The most pertinent question is, **'What are the chracteristics of tweet status that attracts the most response in terms of retweets and likes.'**\n",
    "\n",
    "To answer this question, we will answer some more question like\n",
    "- What is the most liked tweets\n",
    "- what is the most retweeted tweet\n",
    "- The most common breed of dog\n",
    "- The most liked breed of Dog \n",
    "- How the image resolution affect the response.\n",
    "- The most popular dog growth stage\n",
    "- sentiment Analysis on the Text, to know how the Tone of the Text influence response.\n"
   ]
  },
  {
   "cell_type": "markdown",
   "id": "5a3c272a",
   "metadata": {},
   "source": [
    "#### Data_Set Documentation\n",
    "As stated earlier we have two dataset containing several fields for different observational units.\n",
    "The ``tweet_data_clean.csv``  which has been loaded into the `df_tweet_data` DataFrame and the ``image_data_clean.csv`` which has been loaded into the df_image_data.\n",
    "\n",
    "`df_tweet_data` DataFrame contains the following fields.\n",
    "\n",
    "- **tweet_id (int64):** The tweet_id column contains a unique number that identifies each tweets.\n",
    "- **timestamp (string):** Time stamp shows the date and time the tweet was posted. This column will converted t datetime object\n",
    "- **source (string):** The source column shows the device from which the tweets was posted.\n",
    "- **text (string):** The text column contains the tweet text posted alongside the picture of the dog. we will be performing a sentiment analysis on the text_column.\n",
    "- **expanded_urls (text):** The expanded url column contains a link to the actual post on twitter platform.\n",
    "- **rating_numerator(int64):** The rating numerator column contains the numerator value of the dog rating posted by the author of the post. The numerator is the top part of the fractional rating pattern employed on the `weratedog` twitter page.\n",
    "- **rating_denominator(int64):** The rating denominator is the lower part of the ratings posted by the tweet's author. The rating deominator is usually '10' and mostly lower than the numerator.\n",
    "- **retweet_count(int64):**: This is one of our target field. it contain one of the two audience engagement metrics.\n",
    "- **favorite_count(int64):** This is the second target field. It shows how many audience like the tweet.\n",
    "- **lang:** This column contains the language in which the tweet was posted. its mostly English but there are some other languages.\n",
    "\n",
    "\n",
    "`df_image_data` DataFrame contains the following fields.\n",
    "- **tweet_id(int64):** The tweet_id column column is the primary key field on which the two tables can be join\n",
    "- **img_num(int64):** The img_num is contains the number of pictures provided per tweets.\n",
    "- **name(string):** contains the name of the Dog as extracted from the Text column.\n",
    "- **dog_growth_stage(string):** The growth stage the dog is in according to the information available in the  text column.\n",
    "- **img_resolution_MP(float):** The picture resolution of the image in the twitter post.\n",
    "- **jpg_url(string):** A link to downlaod the picture from the twitter website.\n",
    "- **breed(string):** This contains the breed of the dog as extracted from the image prediction algorithms."
   ]
  },
  {
   "cell_type": "code",
   "execution_count": 2,
   "id": "540340b4",
   "metadata": {},
   "outputs": [],
   "source": [
    "# importing required packages\n",
    "import pandas as pd\n",
    "import numpy as np\n",
    "import matplotlib.pyplot as plt\n",
    "from datetime import datetime\n",
    "from scipy.stats import linregress\n",
    "import seaborn as sns\n",
    "import re\n",
    "\n",
    "%matplotlib inline\n"
   ]
  },
  {
   "cell_type": "code",
   "execution_count": 3,
   "id": "f2b7102b",
   "metadata": {},
   "outputs": [],
   "source": [
    "# loading in the data\n",
    "df_tweet_data = pd.read_csv('tweet_data_clean.csv')\n",
    "df_image_data = pd.read_csv('image_data_clean.csv')"
   ]
  },
  {
   "cell_type": "markdown",
   "id": "029a3509",
   "metadata": {},
   "source": [
    "### Quick glance through"
   ]
  },
  {
   "cell_type": "markdown",
   "id": "ca179191",
   "metadata": {},
   "source": [
    "Taking a brief look at our dataset, we can observe the following issues,\n",
    "- 1, The timestamp column is still a string, we will need to conert it to a datetime object.\n",
    "- 2, The name column in the df_image_data column will adjusted  so that they the letters are all lower case.\n",
    "- 3, Also the breed column will also be adjusted so that they are all in lower case\n"
   ]
  },
  {
   "cell_type": "code",
   "execution_count": 4,
   "id": "c159c201",
   "metadata": {},
   "outputs": [
    {
     "data": {
      "text/html": [
       "<div>\n",
       "<style scoped>\n",
       "    .dataframe tbody tr th:only-of-type {\n",
       "        vertical-align: middle;\n",
       "    }\n",
       "\n",
       "    .dataframe tbody tr th {\n",
       "        vertical-align: top;\n",
       "    }\n",
       "\n",
       "    .dataframe thead th {\n",
       "        text-align: right;\n",
       "    }\n",
       "</style>\n",
       "<table border=\"1\" class=\"dataframe\">\n",
       "  <thead>\n",
       "    <tr style=\"text-align: right;\">\n",
       "      <th></th>\n",
       "      <th>tweet_id</th>\n",
       "      <th>timestamp</th>\n",
       "      <th>source</th>\n",
       "      <th>text</th>\n",
       "      <th>expanded_urls</th>\n",
       "      <th>rating_numerator</th>\n",
       "      <th>rating_denominator</th>\n",
       "      <th>retweet_count</th>\n",
       "      <th>favorite_count</th>\n",
       "      <th>lang</th>\n",
       "    </tr>\n",
       "  </thead>\n",
       "  <tbody>\n",
       "    <tr>\n",
       "      <th>0</th>\n",
       "      <td>891815181378084864</td>\n",
       "      <td>2017-07-31 00:18:03+00:00</td>\n",
       "      <td>Twitter for iPhone</td>\n",
       "      <td>This is Archie. He is a rare Norwegian Pouncin...</td>\n",
       "      <td>https://twitter.com/dog_rates/status/891815181...</td>\n",
       "      <td>12</td>\n",
       "      <td>10</td>\n",
       "      <td>3478</td>\n",
       "      <td>22045</td>\n",
       "      <td>en</td>\n",
       "    </tr>\n",
       "    <tr>\n",
       "      <th>1</th>\n",
       "      <td>891689557279858688</td>\n",
       "      <td>2017-07-30 15:58:51+00:00</td>\n",
       "      <td>Twitter for iPhone</td>\n",
       "      <td>This is Darla. She commenced a snooze mid meal...</td>\n",
       "      <td>https://twitter.com/dog_rates/status/891689557...</td>\n",
       "      <td>13</td>\n",
       "      <td>10</td>\n",
       "      <td>7224</td>\n",
       "      <td>36929</td>\n",
       "      <td>en</td>\n",
       "    </tr>\n",
       "    <tr>\n",
       "      <th>2</th>\n",
       "      <td>891327558926688256</td>\n",
       "      <td>2017-07-29 16:00:24+00:00</td>\n",
       "      <td>Twitter for iPhone</td>\n",
       "      <td>This is Franklin. He would like you to stop ca...</td>\n",
       "      <td>https://twitter.com/dog_rates/status/891327558...</td>\n",
       "      <td>12</td>\n",
       "      <td>10</td>\n",
       "      <td>7757</td>\n",
       "      <td>35308</td>\n",
       "      <td>en</td>\n",
       "    </tr>\n",
       "    <tr>\n",
       "      <th>3</th>\n",
       "      <td>890609185150312448</td>\n",
       "      <td>2017-07-27 16:25:51+00:00</td>\n",
       "      <td>Twitter for iPhone</td>\n",
       "      <td>This is Zoey. She doesn't want to be one of th...</td>\n",
       "      <td>https://twitter.com/dog_rates/status/890609185...</td>\n",
       "      <td>13</td>\n",
       "      <td>10</td>\n",
       "      <td>3619</td>\n",
       "      <td>24520</td>\n",
       "      <td>en</td>\n",
       "    </tr>\n",
       "    <tr>\n",
       "      <th>4</th>\n",
       "      <td>890006608113172480</td>\n",
       "      <td>2017-07-26 00:31:25+00:00</td>\n",
       "      <td>Twitter for iPhone</td>\n",
       "      <td>This is Koda. He is a South Australian decksha...</td>\n",
       "      <td>https://twitter.com/dog_rates/status/890006608...</td>\n",
       "      <td>13</td>\n",
       "      <td>10</td>\n",
       "      <td>6151</td>\n",
       "      <td>27033</td>\n",
       "      <td>en</td>\n",
       "    </tr>\n",
       "  </tbody>\n",
       "</table>\n",
       "</div>"
      ],
      "text/plain": [
       "             tweet_id                  timestamp              source  \\\n",
       "0  891815181378084864  2017-07-31 00:18:03+00:00  Twitter for iPhone   \n",
       "1  891689557279858688  2017-07-30 15:58:51+00:00  Twitter for iPhone   \n",
       "2  891327558926688256  2017-07-29 16:00:24+00:00  Twitter for iPhone   \n",
       "3  890609185150312448  2017-07-27 16:25:51+00:00  Twitter for iPhone   \n",
       "4  890006608113172480  2017-07-26 00:31:25+00:00  Twitter for iPhone   \n",
       "\n",
       "                                                text  \\\n",
       "0  This is Archie. He is a rare Norwegian Pouncin...   \n",
       "1  This is Darla. She commenced a snooze mid meal...   \n",
       "2  This is Franklin. He would like you to stop ca...   \n",
       "3  This is Zoey. She doesn't want to be one of th...   \n",
       "4  This is Koda. He is a South Australian decksha...   \n",
       "\n",
       "                                       expanded_urls  rating_numerator  \\\n",
       "0  https://twitter.com/dog_rates/status/891815181...                12   \n",
       "1  https://twitter.com/dog_rates/status/891689557...                13   \n",
       "2  https://twitter.com/dog_rates/status/891327558...                12   \n",
       "3  https://twitter.com/dog_rates/status/890609185...                13   \n",
       "4  https://twitter.com/dog_rates/status/890006608...                13   \n",
       "\n",
       "   rating_denominator  retweet_count  favorite_count lang  \n",
       "0                  10           3478           22045   en  \n",
       "1                  10           7224           36929   en  \n",
       "2                  10           7757           35308   en  \n",
       "3                  10           3619           24520   en  \n",
       "4                  10           6151           27033   en  "
      ]
     },
     "execution_count": 4,
     "metadata": {},
     "output_type": "execute_result"
    }
   ],
   "source": [
    "# an overview of the dataset\n",
    "df_tweet_data.head()\n"
   ]
  },
  {
   "cell_type": "code",
   "execution_count": 21,
   "id": "eb72a626",
   "metadata": {},
   "outputs": [
    {
     "data": {
      "text/html": [
       "<div>\n",
       "<style scoped>\n",
       "    .dataframe tbody tr th:only-of-type {\n",
       "        vertical-align: middle;\n",
       "    }\n",
       "\n",
       "    .dataframe tbody tr th {\n",
       "        vertical-align: top;\n",
       "    }\n",
       "\n",
       "    .dataframe thead th {\n",
       "        text-align: right;\n",
       "    }\n",
       "</style>\n",
       "<table border=\"1\" class=\"dataframe\">\n",
       "  <thead>\n",
       "    <tr style=\"text-align: right;\">\n",
       "      <th></th>\n",
       "      <th>tweet_id</th>\n",
       "      <th>rating_numerator</th>\n",
       "      <th>rating_denominator</th>\n",
       "      <th>retweet_count</th>\n",
       "      <th>favorite_count</th>\n",
       "    </tr>\n",
       "  </thead>\n",
       "  <tbody>\n",
       "    <tr>\n",
       "      <th>count</th>\n",
       "      <td>1.096000e+03</td>\n",
       "      <td>1096.000000</td>\n",
       "      <td>1096.0</td>\n",
       "      <td>1096.000000</td>\n",
       "      <td>1096.000000</td>\n",
       "    </tr>\n",
       "    <tr>\n",
       "      <th>mean</th>\n",
       "      <td>7.362894e+17</td>\n",
       "      <td>10.670620</td>\n",
       "      <td>10.0</td>\n",
       "      <td>2129.552007</td>\n",
       "      <td>7551.432482</td>\n",
       "    </tr>\n",
       "    <tr>\n",
       "      <th>std</th>\n",
       "      <td>6.720513e+16</td>\n",
       "      <td>2.029934</td>\n",
       "      <td>0.0</td>\n",
       "      <td>3454.215906</td>\n",
       "      <td>10530.418482</td>\n",
       "    </tr>\n",
       "    <tr>\n",
       "      <th>min</th>\n",
       "      <td>6.660293e+17</td>\n",
       "      <td>0.000000</td>\n",
       "      <td>10.0</td>\n",
       "      <td>11.000000</td>\n",
       "      <td>66.000000</td>\n",
       "    </tr>\n",
       "    <tr>\n",
       "      <th>25%</th>\n",
       "      <td>6.758663e+17</td>\n",
       "      <td>10.000000</td>\n",
       "      <td>10.0</td>\n",
       "      <td>480.250000</td>\n",
       "      <td>1659.000000</td>\n",
       "    </tr>\n",
       "    <tr>\n",
       "      <th>50%</th>\n",
       "      <td>7.095427e+17</td>\n",
       "      <td>11.000000</td>\n",
       "      <td>10.0</td>\n",
       "      <td>1094.500000</td>\n",
       "      <td>3526.000000</td>\n",
       "    </tr>\n",
       "    <tr>\n",
       "      <th>75%</th>\n",
       "      <td>7.866760e+17</td>\n",
       "      <td>12.000000</td>\n",
       "      <td>10.0</td>\n",
       "      <td>2530.250000</td>\n",
       "      <td>9310.750000</td>\n",
       "    </tr>\n",
       "    <tr>\n",
       "      <th>max</th>\n",
       "      <td>8.918152e+17</td>\n",
       "      <td>14.000000</td>\n",
       "      <td>10.0</td>\n",
       "      <td>51663.000000</td>\n",
       "      <td>111681.000000</td>\n",
       "    </tr>\n",
       "  </tbody>\n",
       "</table>\n",
       "</div>"
      ],
      "text/plain": [
       "           tweet_id  rating_numerator  rating_denominator  retweet_count  \\\n",
       "count  1.096000e+03       1096.000000              1096.0    1096.000000   \n",
       "mean   7.362894e+17         10.670620                10.0    2129.552007   \n",
       "std    6.720513e+16          2.029934                 0.0    3454.215906   \n",
       "min    6.660293e+17          0.000000                10.0      11.000000   \n",
       "25%    6.758663e+17         10.000000                10.0     480.250000   \n",
       "50%    7.095427e+17         11.000000                10.0    1094.500000   \n",
       "75%    7.866760e+17         12.000000                10.0    2530.250000   \n",
       "max    8.918152e+17         14.000000                10.0   51663.000000   \n",
       "\n",
       "       favorite_count  \n",
       "count     1096.000000  \n",
       "mean      7551.432482  \n",
       "std      10530.418482  \n",
       "min         66.000000  \n",
       "25%       1659.000000  \n",
       "50%       3526.000000  \n",
       "75%       9310.750000  \n",
       "max     111681.000000  "
      ]
     },
     "execution_count": 21,
     "metadata": {},
     "output_type": "execute_result"
    }
   ],
   "source": [
    "df_tweet_data.describe()"
   ]
  },
  {
   "cell_type": "code",
   "execution_count": 22,
   "id": "aedc0ee7",
   "metadata": {},
   "outputs": [
    {
     "name": "stdout",
     "output_type": "stream",
     "text": [
      "<class 'pandas.core.frame.DataFrame'>\n",
      "RangeIndex: 1096 entries, 0 to 1095\n",
      "Data columns (total 10 columns):\n",
      " #   Column              Non-Null Count  Dtype \n",
      "---  ------              --------------  ----- \n",
      " 0   tweet_id            1096 non-null   int64 \n",
      " 1   timestamp           1096 non-null   object\n",
      " 2   source              1096 non-null   object\n",
      " 3   text                1096 non-null   object\n",
      " 4   expanded_urls       1096 non-null   object\n",
      " 5   rating_numerator    1096 non-null   int64 \n",
      " 6   rating_denominator  1096 non-null   int64 \n",
      " 7   retweet_count       1096 non-null   int64 \n",
      " 8   favorite_count      1096 non-null   int64 \n",
      " 9   lang                1096 non-null   object\n",
      "dtypes: int64(5), object(5)\n",
      "memory usage: 85.8+ KB\n"
     ]
    }
   ],
   "source": [
    "df_tweet_data.info()"
   ]
  },
  {
   "cell_type": "code",
   "execution_count": 23,
   "id": "f96a5b55",
   "metadata": {},
   "outputs": [
    {
     "data": {
      "text/html": [
       "<div>\n",
       "<style scoped>\n",
       "    .dataframe tbody tr th:only-of-type {\n",
       "        vertical-align: middle;\n",
       "    }\n",
       "\n",
       "    .dataframe tbody tr th {\n",
       "        vertical-align: top;\n",
       "    }\n",
       "\n",
       "    .dataframe thead th {\n",
       "        text-align: right;\n",
       "    }\n",
       "</style>\n",
       "<table border=\"1\" class=\"dataframe\">\n",
       "  <thead>\n",
       "    <tr style=\"text-align: right;\">\n",
       "      <th></th>\n",
       "      <th>tweet_id</th>\n",
       "      <th>img_num</th>\n",
       "      <th>name</th>\n",
       "      <th>dog_growth_stage</th>\n",
       "      <th>img_resolution_MP</th>\n",
       "      <th>jpg_url</th>\n",
       "      <th>breed</th>\n",
       "    </tr>\n",
       "  </thead>\n",
       "  <tbody>\n",
       "    <tr>\n",
       "      <th>0</th>\n",
       "      <td>891815181378084864</td>\n",
       "      <td>1</td>\n",
       "      <td>Archie</td>\n",
       "      <td>none</td>\n",
       "      <td>1.92</td>\n",
       "      <td>https://pbs.twimg.com/media/DGBdLU1WsAANxJ9.jpg</td>\n",
       "      <td>Chihuahua</td>\n",
       "    </tr>\n",
       "    <tr>\n",
       "      <th>1</th>\n",
       "      <td>891689557279858688</td>\n",
       "      <td>1</td>\n",
       "      <td>Darla</td>\n",
       "      <td>none</td>\n",
       "      <td>1.92</td>\n",
       "      <td>https://pbs.twimg.com/media/DF_q7IAWsAEuuN8.jpg</td>\n",
       "      <td>Labrador_retriever</td>\n",
       "    </tr>\n",
       "    <tr>\n",
       "      <th>2</th>\n",
       "      <td>891327558926688256</td>\n",
       "      <td>2</td>\n",
       "      <td>Franklin</td>\n",
       "      <td>none</td>\n",
       "      <td>0.39</td>\n",
       "      <td>https://pbs.twimg.com/media/DF6hr6BUMAAzZgT.jpg</td>\n",
       "      <td>basset</td>\n",
       "    </tr>\n",
       "    <tr>\n",
       "      <th>3</th>\n",
       "      <td>890609185150312448</td>\n",
       "      <td>1</td>\n",
       "      <td>Zoey</td>\n",
       "      <td>none</td>\n",
       "      <td>1.92</td>\n",
       "      <td>https://pbs.twimg.com/media/DFwUU__XcAEpyXI.jpg</td>\n",
       "      <td>Irish_terrier</td>\n",
       "    </tr>\n",
       "    <tr>\n",
       "      <th>4</th>\n",
       "      <td>890006608113172480</td>\n",
       "      <td>1</td>\n",
       "      <td>Koda</td>\n",
       "      <td>none</td>\n",
       "      <td>2.56</td>\n",
       "      <td>https://pbs.twimg.com/media/DFnwSY4WAAAMliS.jpg</td>\n",
       "      <td>Samoyed</td>\n",
       "    </tr>\n",
       "  </tbody>\n",
       "</table>\n",
       "</div>"
      ],
      "text/plain": [
       "             tweet_id  img_num      name dog_growth_stage  img_resolution_MP  \\\n",
       "0  891815181378084864        1    Archie             none               1.92   \n",
       "1  891689557279858688        1     Darla             none               1.92   \n",
       "2  891327558926688256        2  Franklin             none               0.39   \n",
       "3  890609185150312448        1      Zoey             none               1.92   \n",
       "4  890006608113172480        1      Koda             none               2.56   \n",
       "\n",
       "                                           jpg_url               breed  \n",
       "0  https://pbs.twimg.com/media/DGBdLU1WsAANxJ9.jpg           Chihuahua  \n",
       "1  https://pbs.twimg.com/media/DF_q7IAWsAEuuN8.jpg  Labrador_retriever  \n",
       "2  https://pbs.twimg.com/media/DF6hr6BUMAAzZgT.jpg              basset  \n",
       "3  https://pbs.twimg.com/media/DFwUU__XcAEpyXI.jpg       Irish_terrier  \n",
       "4  https://pbs.twimg.com/media/DFnwSY4WAAAMliS.jpg             Samoyed  "
      ]
     },
     "execution_count": 23,
     "metadata": {},
     "output_type": "execute_result"
    }
   ],
   "source": [
    "df_image_data.head()"
   ]
  },
  {
   "cell_type": "code",
   "execution_count": 24,
   "id": "b3e64fdb",
   "metadata": {},
   "outputs": [
    {
     "name": "stdout",
     "output_type": "stream",
     "text": [
      "<class 'pandas.core.frame.DataFrame'>\n",
      "RangeIndex: 1096 entries, 0 to 1095\n",
      "Data columns (total 7 columns):\n",
      " #   Column             Non-Null Count  Dtype  \n",
      "---  ------             --------------  -----  \n",
      " 0   tweet_id           1096 non-null   int64  \n",
      " 1   img_num            1096 non-null   int64  \n",
      " 2   name               1096 non-null   object \n",
      " 3   dog_growth_stage   1096 non-null   object \n",
      " 4   img_resolution_MP  1096 non-null   float64\n",
      " 5   jpg_url            1096 non-null   object \n",
      " 6   breed              1096 non-null   object \n",
      "dtypes: float64(1), int64(2), object(4)\n",
      "memory usage: 60.1+ KB\n"
     ]
    }
   ],
   "source": [
    "df_image_data.info()"
   ]
  },
  {
   "cell_type": "code",
   "execution_count": 25,
   "id": "0965d0ac",
   "metadata": {},
   "outputs": [
    {
     "data": {
      "text/html": [
       "<div>\n",
       "<style scoped>\n",
       "    .dataframe tbody tr th:only-of-type {\n",
       "        vertical-align: middle;\n",
       "    }\n",
       "\n",
       "    .dataframe tbody tr th {\n",
       "        vertical-align: top;\n",
       "    }\n",
       "\n",
       "    .dataframe thead th {\n",
       "        text-align: right;\n",
       "    }\n",
       "</style>\n",
       "<table border=\"1\" class=\"dataframe\">\n",
       "  <thead>\n",
       "    <tr style=\"text-align: right;\">\n",
       "      <th></th>\n",
       "      <th>tweet_id</th>\n",
       "      <th>img_num</th>\n",
       "      <th>img_resolution_MP</th>\n",
       "    </tr>\n",
       "  </thead>\n",
       "  <tbody>\n",
       "    <tr>\n",
       "      <th>count</th>\n",
       "      <td>1.096000e+03</td>\n",
       "      <td>1096.000000</td>\n",
       "      <td>1096.000000</td>\n",
       "    </tr>\n",
       "    <tr>\n",
       "      <th>mean</th>\n",
       "      <td>7.362894e+17</td>\n",
       "      <td>1.203467</td>\n",
       "      <td>1.060502</td>\n",
       "    </tr>\n",
       "    <tr>\n",
       "      <th>std</th>\n",
       "      <td>6.720513e+16</td>\n",
       "      <td>0.566675</td>\n",
       "      <td>0.903637</td>\n",
       "    </tr>\n",
       "    <tr>\n",
       "      <th>min</th>\n",
       "      <td>6.660293e+17</td>\n",
       "      <td>1.000000</td>\n",
       "      <td>0.010000</td>\n",
       "    </tr>\n",
       "    <tr>\n",
       "      <th>25%</th>\n",
       "      <td>6.758663e+17</td>\n",
       "      <td>1.000000</td>\n",
       "      <td>0.590000</td>\n",
       "    </tr>\n",
       "    <tr>\n",
       "      <th>50%</th>\n",
       "      <td>7.095427e+17</td>\n",
       "      <td>1.000000</td>\n",
       "      <td>0.790000</td>\n",
       "    </tr>\n",
       "    <tr>\n",
       "      <th>75%</th>\n",
       "      <td>7.866760e+17</td>\n",
       "      <td>1.000000</td>\n",
       "      <td>1.050000</td>\n",
       "    </tr>\n",
       "    <tr>\n",
       "      <th>max</th>\n",
       "      <td>8.918152e+17</td>\n",
       "      <td>4.000000</td>\n",
       "      <td>4.190000</td>\n",
       "    </tr>\n",
       "  </tbody>\n",
       "</table>\n",
       "</div>"
      ],
      "text/plain": [
       "           tweet_id      img_num  img_resolution_MP\n",
       "count  1.096000e+03  1096.000000        1096.000000\n",
       "mean   7.362894e+17     1.203467           1.060502\n",
       "std    6.720513e+16     0.566675           0.903637\n",
       "min    6.660293e+17     1.000000           0.010000\n",
       "25%    6.758663e+17     1.000000           0.590000\n",
       "50%    7.095427e+17     1.000000           0.790000\n",
       "75%    7.866760e+17     1.000000           1.050000\n",
       "max    8.918152e+17     4.000000           4.190000"
      ]
     },
     "execution_count": 25,
     "metadata": {},
     "output_type": "execute_result"
    }
   ],
   "source": [
    "df_image_data.describe()"
   ]
  },
  {
   "cell_type": "markdown",
   "id": "14c026e6",
   "metadata": {},
   "source": [
    "###  A little more cleaning"
   ]
  },
  {
   "cell_type": "markdown",
   "id": "962415e6",
   "metadata": {},
   "source": [
    "- 1, The timestamp column is still a string, we will need to convert it to a datetime object."
   ]
  },
  {
   "cell_type": "markdown",
   "id": "0ed6116a",
   "metadata": {},
   "source": [
    "#### Define\n",
    "convert to a datatimeobject"
   ]
  },
  {
   "cell_type": "markdown",
   "id": "5a44a811",
   "metadata": {},
   "source": [
    "#### code"
   ]
  },
  {
   "cell_type": "code",
   "execution_count": 26,
   "id": "f9450dd0",
   "metadata": {},
   "outputs": [],
   "source": [
    "df_tweet_data['timestamp'] = pd.to_datetime(df_tweet_data['timestamp'])"
   ]
  },
  {
   "cell_type": "markdown",
   "id": "be2e4fab",
   "metadata": {},
   "source": [
    "#### Test"
   ]
  },
  {
   "cell_type": "code",
   "execution_count": 27,
   "id": "859dda04",
   "metadata": {},
   "outputs": [
    {
     "name": "stdout",
     "output_type": "stream",
     "text": [
      "<class 'pandas.core.frame.DataFrame'>\n",
      "RangeIndex: 1096 entries, 0 to 1095\n",
      "Data columns (total 10 columns):\n",
      " #   Column              Non-Null Count  Dtype              \n",
      "---  ------              --------------  -----              \n",
      " 0   tweet_id            1096 non-null   int64              \n",
      " 1   timestamp           1096 non-null   datetime64[ns, UTC]\n",
      " 2   source              1096 non-null   object             \n",
      " 3   text                1096 non-null   object             \n",
      " 4   expanded_urls       1096 non-null   object             \n",
      " 5   rating_numerator    1096 non-null   int64              \n",
      " 6   rating_denominator  1096 non-null   int64              \n",
      " 7   retweet_count       1096 non-null   int64              \n",
      " 8   favorite_count      1096 non-null   int64              \n",
      " 9   lang                1096 non-null   object             \n",
      "dtypes: datetime64[ns, UTC](1), int64(5), object(4)\n",
      "memory usage: 85.8+ KB\n"
     ]
    }
   ],
   "source": [
    "df_tweet_data.info()"
   ]
  },
  {
   "cell_type": "markdown",
   "id": "773662ef",
   "metadata": {},
   "source": [
    "- 2, The ``name`` column in the df_image_data column will be adjusted  so that they the letters are all lower case."
   ]
  },
  {
   "cell_type": "markdown",
   "id": "f85ddd5d",
   "metadata": {},
   "source": [
    "#### Define\n",
    "Convert text in name column to lower case"
   ]
  },
  {
   "cell_type": "markdown",
   "id": "165840ce",
   "metadata": {},
   "source": [
    "#### Code"
   ]
  },
  {
   "cell_type": "code",
   "execution_count": 28,
   "id": "08f3ebd5",
   "metadata": {},
   "outputs": [],
   "source": [
    "df_image_data['name']=df_image_data['name'].apply(lambda x: x.lower())"
   ]
  },
  {
   "cell_type": "markdown",
   "id": "dc15f4ad",
   "metadata": {},
   "source": [
    "#### Test"
   ]
  },
  {
   "cell_type": "code",
   "execution_count": 29,
   "id": "62fecf75",
   "metadata": {},
   "outputs": [
    {
     "data": {
      "text/plain": [
       "0          archie\n",
       "1           darla\n",
       "2        franklin\n",
       "3            zoey\n",
       "4            koda\n",
       "          ...    \n",
       "1091        klint\n",
       "1092      tickles\n",
       "1093         kohl\n",
       "1094    octaviath\n",
       "1095         johm\n",
       "Name: name, Length: 1096, dtype: object"
      ]
     },
     "execution_count": 29,
     "metadata": {},
     "output_type": "execute_result"
    }
   ],
   "source": [
    "df_image_data['name']"
   ]
  },
  {
   "cell_type": "markdown",
   "id": "37b555de",
   "metadata": {},
   "source": [
    "- 3, Also the breed column will also be adjusted so that they are all in lower case"
   ]
  },
  {
   "cell_type": "markdown",
   "id": "78bfb129",
   "metadata": {},
   "source": [
    "#### Define\n",
    "convert the breed column to lower case"
   ]
  },
  {
   "cell_type": "markdown",
   "id": "f2ed2330",
   "metadata": {},
   "source": [
    "#### Code"
   ]
  },
  {
   "cell_type": "code",
   "execution_count": 30,
   "id": "3bf04b95",
   "metadata": {},
   "outputs": [],
   "source": [
    "df_image_data['breed']=df_image_data['breed'].apply(lambda x: x.lower())"
   ]
  },
  {
   "cell_type": "markdown",
   "id": "7e4895f5",
   "metadata": {},
   "source": [
    "#### Test"
   ]
  },
  {
   "cell_type": "code",
   "execution_count": 31,
   "id": "d7ba694b",
   "metadata": {},
   "outputs": [
    {
     "data": {
      "text/plain": [
       "0                chihuahua\n",
       "1       labrador_retriever\n",
       "2                   basset\n",
       "3            irish_terrier\n",
       "4                  samoyed\n",
       "               ...        \n",
       "1091     yorkshire_terrier\n",
       "1092                beagle\n",
       "1093            toy_poodle\n",
       "1094     italian_greyhound\n",
       "1095    labrador_retriever\n",
       "Name: breed, Length: 1096, dtype: object"
      ]
     },
     "execution_count": 31,
     "metadata": {},
     "output_type": "execute_result"
    }
   ],
   "source": [
    "df_image_data['breed']"
   ]
  },
  {
   "cell_type": "markdown",
   "id": "154847a6",
   "metadata": {},
   "source": [
    "## Exploratory analysis and Visualization.\n",
    "The most pertinent question is, **'What are the chracteristics of tweet status that attracts the most response in terms of retweets and likes.'**\n",
    "\n",
    "To answer this question, we will answer some more question like\n",
    "- What is relationship between favorite_count and retweet_count.\n",
    "- what is the most liked/retweeted tweet.\n",
    "- How does time affect the value of retweet_count  and favorite count.\n",
    "- The most common breed of dog\n",
    "- The most liked breed of Dog \n",
    "- The most popular dog growth stage\n",
    "- sentiment Analysis on the Text, to know how the Tone of the Text influence response.\n",
    "- Best in Class by retweet_count for different dog_growth_stage and for different dog breeds\n"
   ]
  },
  {
   "cell_type": "markdown",
   "id": "45eb59ae",
   "metadata": {},
   "source": [
    "#### Analysis Question 1\n",
    "- What is the relationship between favorite count and retweet count"
   ]
  },
  {
   "cell_type": "markdown",
   "id": "3f168e62",
   "metadata": {},
   "source": [
    "#### Relationship between favorite_count and retweet_count\n",
    "It seem that there is a relationship between favorite_count and retweet_count.\n"
   ]
  },
  {
   "cell_type": "markdown",
   "id": "73bef642",
   "metadata": {},
   "source": [
    "#### simple regression analysis of the retweet_count and favorite_count"
   ]
  },
  {
   "cell_type": "code",
   "execution_count": 32,
   "id": "523dc2d6",
   "metadata": {},
   "outputs": [
    {
     "data": {
      "text/plain": [
       "LinregressResult(slope=0.3046319166348288, intercept=-170.85534295529033, rvalue=0.928691677827512, pvalue=0.0, stderr=0.0036778727610052757, intercept_stderr=47.644094020992526)"
      ]
     },
     "execution_count": 32,
     "metadata": {},
     "output_type": "execute_result"
    }
   ],
   "source": [
    "# calculating statistical values showing relationships between  favorite_count, retweet_count\n",
    "sim_reg=linregress(df_tweet_data.favorite_count,df_tweet_data.retweet_count)\n",
    "\n",
    "# max x value \n",
    "x1=df_tweet_data.favorite_count.max()\n",
    "\n",
    "# min x value\n",
    "x2=df_tweet_data.favorite_count.min()\n",
    "\n",
    "# make an array \n",
    "x=np.array([x1,x2])\n",
    "\n",
    "# calculate the value of y for each x values\n",
    "y=x*sim_reg[0]+sim_reg[1]\n",
    "sim_reg"
   ]
  },
  {
   "cell_type": "code",
   "execution_count": 33,
   "id": "7d3e27d3",
   "metadata": {},
   "outputs": [
    {
     "data": {
      "image/png": "[encoded data removed]",
      "text/plain": [
       "<Figure size 576x576 with 1 Axes>"
      ]
     },
     "metadata": {},
     "output_type": "display_data"
    }
   ],
   "source": [
    "#setting the plot style\n",
    "sns.set_style('white')\n",
    "\n",
    "# Plotting a scatterplot to see the relationship between the favorite_count and retweet_count\n",
    "plt.figure(figsize=(8,8))\n",
    "plt.plot(df_tweet_data['favorite_count'],df_tweet_data['retweet_count'], 'o',markersize=3, alpha= 0.20, color='#ff7f0e')\n",
    "plt.plot(x,y)\n",
    "plt.xlabel('favorite_count')\n",
    "plt.ylabel('retweet_count')\n",
    "plt.title(\"retweet_count vs favorite_count\");"
   ]
  },
  {
   "cell_type": "markdown",
   "id": "2c59f490",
   "metadata": {},
   "source": [
    "##### Observations \n",
    "- It can be observed that:\n",
    "- The retweet_count and favorite_count has a strong positive correlation of 0.9287.\n",
    "- The point with the highest favorite_count and retweet_count i.e tweet with ``tweet_id`` 807106840509214720, is an outlier. and very far from other data point.\n",
    "- Most of the datapoint are within the retweet count value of 0 to 10000 and favorite_count value of 0 to 20,000."
   ]
  },
  {
   "cell_type": "markdown",
   "id": "06104e49",
   "metadata": {},
   "source": [
    "#### Analysis Question 2\n",
    "- What is the most liked tweets"
   ]
  },
  {
   "cell_type": "markdown",
   "id": "53d3d23c",
   "metadata": {},
   "source": [
    "It can be observed that the most liked tweets is the tweet with id number ``807106840509214720``. It has a favorite_count of 111,712 and italso is the most retweeted with a retweet_count of 51,740"
   ]
  },
  {
   "cell_type": "code",
   "execution_count": 34,
   "id": "c5aed57f",
   "metadata": {},
   "outputs": [
    {
     "data": {
      "text/html": [
       "<div>\n",
       "<style scoped>\n",
       "    .dataframe tbody tr th:only-of-type {\n",
       "        vertical-align: middle;\n",
       "    }\n",
       "\n",
       "    .dataframe tbody tr th {\n",
       "        vertical-align: top;\n",
       "    }\n",
       "\n",
       "    .dataframe thead th {\n",
       "        text-align: right;\n",
       "    }\n",
       "</style>\n",
       "<table border=\"1\" class=\"dataframe\">\n",
       "  <thead>\n",
       "    <tr style=\"text-align: right;\">\n",
       "      <th></th>\n",
       "      <th>tweet_id</th>\n",
       "      <th>timestamp</th>\n",
       "      <th>source</th>\n",
       "      <th>text</th>\n",
       "      <th>expanded_urls</th>\n",
       "      <th>rating_numerator</th>\n",
       "      <th>rating_denominator</th>\n",
       "      <th>retweet_count</th>\n",
       "      <th>favorite_count</th>\n",
       "      <th>lang</th>\n",
       "    </tr>\n",
       "  </thead>\n",
       "  <tbody>\n",
       "    <tr>\n",
       "      <th>166</th>\n",
       "      <td>807106840509214720</td>\n",
       "      <td>2016-12-09 06:17:20+00:00</td>\n",
       "      <td>Twitter for iPhone</td>\n",
       "      <td>This is Stephan. He just wants to help. 13/10 ...</td>\n",
       "      <td>https://twitter.com/dog_rates/status/807106840...</td>\n",
       "      <td>13</td>\n",
       "      <td>10</td>\n",
       "      <td>51663</td>\n",
       "      <td>111681</td>\n",
       "      <td>en</td>\n",
       "    </tr>\n",
       "    <tr>\n",
       "      <th>134</th>\n",
       "      <td>819004803107983360</td>\n",
       "      <td>2017-01-11 02:15:36+00:00</td>\n",
       "      <td>Twitter for iPhone</td>\n",
       "      <td>This is Bo. He was a very good First Doggo. 14...</td>\n",
       "      <td>https://twitter.com/dog_rates/status/819004803...</td>\n",
       "      <td>14</td>\n",
       "      <td>10</td>\n",
       "      <td>34539</td>\n",
       "      <td>82711</td>\n",
       "      <td>en</td>\n",
       "    </tr>\n",
       "    <tr>\n",
       "      <th>58</th>\n",
       "      <td>859196978902773760</td>\n",
       "      <td>2017-05-02 00:04:57+00:00</td>\n",
       "      <td>Twitter for iPhone</td>\n",
       "      <td>We only rate dogs. This is quite clearly a smo...</td>\n",
       "      <td>https://twitter.com/dog_rates/status/859196978...</td>\n",
       "      <td>12</td>\n",
       "      <td>10</td>\n",
       "      <td>26278</td>\n",
       "      <td>80585</td>\n",
       "      <td>en</td>\n",
       "    </tr>\n",
       "    <tr>\n",
       "      <th>43</th>\n",
       "      <td>870374049280663552</td>\n",
       "      <td>2017-06-01 20:18:38+00:00</td>\n",
       "      <td>Twitter for iPhone</td>\n",
       "      <td>This is Zoey. She really likes the planet. Wou...</td>\n",
       "      <td>https://twitter.com/dog_rates/status/870374049...</td>\n",
       "      <td>13</td>\n",
       "      <td>10</td>\n",
       "      <td>22750</td>\n",
       "      <td>73956</td>\n",
       "      <td>en</td>\n",
       "    </tr>\n",
       "    <tr>\n",
       "      <th>959</th>\n",
       "      <td>678399652199309312</td>\n",
       "      <td>2015-12-20 02:20:55+00:00</td>\n",
       "      <td>Twitter for iPhone</td>\n",
       "      <td>This made my day. 12/10 please enjoy https://t...</td>\n",
       "      <td>https://twitter.com/dog_rates/status/678399652...</td>\n",
       "      <td>12</td>\n",
       "      <td>10</td>\n",
       "      <td>28586</td>\n",
       "      <td>73527</td>\n",
       "      <td>en</td>\n",
       "    </tr>\n",
       "  </tbody>\n",
       "</table>\n",
       "</div>"
      ],
      "text/plain": [
       "               tweet_id                 timestamp              source  \\\n",
       "166  807106840509214720 2016-12-09 06:17:20+00:00  Twitter for iPhone   \n",
       "134  819004803107983360 2017-01-11 02:15:36+00:00  Twitter for iPhone   \n",
       "58   859196978902773760 2017-05-02 00:04:57+00:00  Twitter for iPhone   \n",
       "43   870374049280663552 2017-06-01 20:18:38+00:00  Twitter for iPhone   \n",
       "959  678399652199309312 2015-12-20 02:20:55+00:00  Twitter for iPhone   \n",
       "\n",
       "                                                  text  \\\n",
       "166  This is Stephan. He just wants to help. 13/10 ...   \n",
       "134  This is Bo. He was a very good First Doggo. 14...   \n",
       "58   We only rate dogs. This is quite clearly a smo...   \n",
       "43   This is Zoey. She really likes the planet. Wou...   \n",
       "959  This made my day. 12/10 please enjoy https://t...   \n",
       "\n",
       "                                         expanded_urls  rating_numerator  \\\n",
       "166  https://twitter.com/dog_rates/status/807106840...                13   \n",
       "134  https://twitter.com/dog_rates/status/819004803...                14   \n",
       "58   https://twitter.com/dog_rates/status/859196978...                12   \n",
       "43   https://twitter.com/dog_rates/status/870374049...                13   \n",
       "959  https://twitter.com/dog_rates/status/678399652...                12   \n",
       "\n",
       "     rating_denominator  retweet_count  favorite_count lang  \n",
       "166                  10          51663          111681   en  \n",
       "134                  10          34539           82711   en  \n",
       "58                   10          26278           80585   en  \n",
       "43                   10          22750           73956   en  \n",
       "959                  10          28586           73527   en  "
      ]
     },
     "execution_count": 34,
     "metadata": {},
     "output_type": "execute_result"
    }
   ],
   "source": [
    "df_tweet_data.sort_values(by=['favorite_count'], ascending=False).head(5)"
   ]
  },
  {
   "cell_type": "markdown",
   "id": "89aa4796",
   "metadata": {},
   "source": [
    "- **We can also view the image properties of this tweet.**"
   ]
  },
  {
   "cell_type": "code",
   "execution_count": 35,
   "id": "238596e8",
   "metadata": {},
   "outputs": [
    {
     "data": {
      "text/html": [
       "<div>\n",
       "<style scoped>\n",
       "    .dataframe tbody tr th:only-of-type {\n",
       "        vertical-align: middle;\n",
       "    }\n",
       "\n",
       "    .dataframe tbody tr th {\n",
       "        vertical-align: top;\n",
       "    }\n",
       "\n",
       "    .dataframe thead th {\n",
       "        text-align: right;\n",
       "    }\n",
       "</style>\n",
       "<table border=\"1\" class=\"dataframe\">\n",
       "  <thead>\n",
       "    <tr style=\"text-align: right;\">\n",
       "      <th></th>\n",
       "      <th>tweet_id</th>\n",
       "      <th>img_num</th>\n",
       "      <th>name</th>\n",
       "      <th>dog_growth_stage</th>\n",
       "      <th>img_resolution_MP</th>\n",
       "      <th>jpg_url</th>\n",
       "      <th>breed</th>\n",
       "    </tr>\n",
       "  </thead>\n",
       "  <tbody>\n",
       "    <tr>\n",
       "      <th>166</th>\n",
       "      <td>807106840509214720</td>\n",
       "      <td>1</td>\n",
       "      <td>stephan</td>\n",
       "      <td>none</td>\n",
       "      <td>0.51</td>\n",
       "      <td>https://pbs.twimg.com/ext_tw_video_thumb/80710...</td>\n",
       "      <td>chihuahua</td>\n",
       "    </tr>\n",
       "  </tbody>\n",
       "</table>\n",
       "</div>"
      ],
      "text/plain": [
       "               tweet_id  img_num     name dog_growth_stage  img_resolution_MP  \\\n",
       "166  807106840509214720        1  stephan             none               0.51   \n",
       "\n",
       "                                               jpg_url      breed  \n",
       "166  https://pbs.twimg.com/ext_tw_video_thumb/80710...  chihuahua  "
      ]
     },
     "execution_count": 35,
     "metadata": {},
     "output_type": "execute_result"
    }
   ],
   "source": [
    "# viewing the image propertyof this tweet\n",
    "df_image_data[df_image_data.tweet_id.isin([807106840509214720])]"
   ]
  },
  {
   "cell_type": "markdown",
   "id": "3f0ef66f",
   "metadata": {},
   "source": [
    "- **similarly we can look for the least liked tweet**\n",
    "We can see that the tweet with the least amount of likes and retweet is the tweet with tweet_id ``666102155909144576``. It has a favorite count of 66 and a retweet_count of 11"
   ]
  },
  {
   "cell_type": "code",
   "execution_count": 36,
   "id": "b61eb2f4",
   "metadata": {},
   "outputs": [
    {
     "data": {
      "text/html": [
       "<div>\n",
       "<style scoped>\n",
       "    .dataframe tbody tr th:only-of-type {\n",
       "        vertical-align: middle;\n",
       "    }\n",
       "\n",
       "    .dataframe tbody tr th {\n",
       "        vertical-align: top;\n",
       "    }\n",
       "\n",
       "    .dataframe thead th {\n",
       "        text-align: right;\n",
       "    }\n",
       "</style>\n",
       "<table border=\"1\" class=\"dataframe\">\n",
       "  <thead>\n",
       "    <tr style=\"text-align: right;\">\n",
       "      <th></th>\n",
       "      <th>tweet_id</th>\n",
       "      <th>timestamp</th>\n",
       "      <th>source</th>\n",
       "      <th>text</th>\n",
       "      <th>expanded_urls</th>\n",
       "      <th>rating_numerator</th>\n",
       "      <th>rating_denominator</th>\n",
       "      <th>retweet_count</th>\n",
       "      <th>favorite_count</th>\n",
       "      <th>lang</th>\n",
       "    </tr>\n",
       "  </thead>\n",
       "  <tbody>\n",
       "    <tr>\n",
       "      <th>1061</th>\n",
       "      <td>666102155909144576</td>\n",
       "      <td>2015-11-16 03:55:04+00:00</td>\n",
       "      <td>Twitter for iPhone</td>\n",
       "      <td>Oh my. Here you are seeing an Adobe Setter giv...</td>\n",
       "      <td>https://twitter.com/dog_rates/status/666102155...</td>\n",
       "      <td>11</td>\n",
       "      <td>10</td>\n",
       "      <td>11</td>\n",
       "      <td>66</td>\n",
       "      <td>en</td>\n",
       "    </tr>\n",
       "    <tr>\n",
       "      <th>1055</th>\n",
       "      <td>666407126856765440</td>\n",
       "      <td>2015-11-17 00:06:54+00:00</td>\n",
       "      <td>Twitter for iPhone</td>\n",
       "      <td>This is a southern Vesuvius bumblegruff. Can d...</td>\n",
       "      <td>https://twitter.com/dog_rates/status/666407126...</td>\n",
       "      <td>7</td>\n",
       "      <td>10</td>\n",
       "      <td>30</td>\n",
       "      <td>93</td>\n",
       "      <td>en</td>\n",
       "    </tr>\n",
       "    <tr>\n",
       "      <th>1065</th>\n",
       "      <td>666058600524156928</td>\n",
       "      <td>2015-11-16 01:01:59+00:00</td>\n",
       "      <td>Twitter for iPhone</td>\n",
       "      <td>Here is the Rand Paul of retrievers folks! He'...</td>\n",
       "      <td>https://twitter.com/dog_rates/status/666058600...</td>\n",
       "      <td>8</td>\n",
       "      <td>10</td>\n",
       "      <td>47</td>\n",
       "      <td>99</td>\n",
       "      <td>en</td>\n",
       "    </tr>\n",
       "  </tbody>\n",
       "</table>\n",
       "</div>"
      ],
      "text/plain": [
       "                tweet_id                 timestamp              source  \\\n",
       "1061  666102155909144576 2015-11-16 03:55:04+00:00  Twitter for iPhone   \n",
       "1055  666407126856765440 2015-11-17 00:06:54+00:00  Twitter for iPhone   \n",
       "1065  666058600524156928 2015-11-16 01:01:59+00:00  Twitter for iPhone   \n",
       "\n",
       "                                                   text  \\\n",
       "1061  Oh my. Here you are seeing an Adobe Setter giv...   \n",
       "1055  This is a southern Vesuvius bumblegruff. Can d...   \n",
       "1065  Here is the Rand Paul of retrievers folks! He'...   \n",
       "\n",
       "                                          expanded_urls  rating_numerator  \\\n",
       "1061  https://twitter.com/dog_rates/status/666102155...                11   \n",
       "1055  https://twitter.com/dog_rates/status/666407126...                 7   \n",
       "1065  https://twitter.com/dog_rates/status/666058600...                 8   \n",
       "\n",
       "      rating_denominator  retweet_count  favorite_count lang  \n",
       "1061                  10             11              66   en  \n",
       "1055                  10             30              93   en  \n",
       "1065                  10             47              99   en  "
      ]
     },
     "execution_count": 36,
     "metadata": {},
     "output_type": "execute_result"
    }
   ],
   "source": [
    "df_tweet_data.sort_values(by=['favorite_count']).head(3)"
   ]
  },
  {
   "cell_type": "markdown",
   "id": "fbbd2904",
   "metadata": {},
   "source": [
    "- **We can also view the image properties of this tweet.**"
   ]
  },
  {
   "cell_type": "code",
   "execution_count": 37,
   "id": "ec9677ea",
   "metadata": {},
   "outputs": [
    {
     "data": {
      "text/html": [
       "<div>\n",
       "<style scoped>\n",
       "    .dataframe tbody tr th:only-of-type {\n",
       "        vertical-align: middle;\n",
       "    }\n",
       "\n",
       "    .dataframe tbody tr th {\n",
       "        vertical-align: top;\n",
       "    }\n",
       "\n",
       "    .dataframe thead th {\n",
       "        text-align: right;\n",
       "    }\n",
       "</style>\n",
       "<table border=\"1\" class=\"dataframe\">\n",
       "  <thead>\n",
       "    <tr style=\"text-align: right;\">\n",
       "      <th></th>\n",
       "      <th>tweet_id</th>\n",
       "      <th>img_num</th>\n",
       "      <th>name</th>\n",
       "      <th>dog_growth_stage</th>\n",
       "      <th>img_resolution_MP</th>\n",
       "      <th>jpg_url</th>\n",
       "      <th>breed</th>\n",
       "    </tr>\n",
       "  </thead>\n",
       "  <tbody>\n",
       "    <tr>\n",
       "      <th>1061</th>\n",
       "      <td>666102155909144576</td>\n",
       "      <td>1</td>\n",
       "      <td>none</td>\n",
       "      <td>none</td>\n",
       "      <td>0.59</td>\n",
       "      <td>https://pbs.twimg.com/media/CT54YGiWUAEZnoK.jpg</td>\n",
       "      <td>english_setter</td>\n",
       "    </tr>\n",
       "  </tbody>\n",
       "</table>\n",
       "</div>"
      ],
      "text/plain": [
       "                tweet_id  img_num  name dog_growth_stage  img_resolution_MP  \\\n",
       "1061  666102155909144576        1  none             none               0.59   \n",
       "\n",
       "                                              jpg_url           breed  \n",
       "1061  https://pbs.twimg.com/media/CT54YGiWUAEZnoK.jpg  english_setter  "
      ]
     },
     "execution_count": 37,
     "metadata": {},
     "output_type": "execute_result"
    }
   ],
   "source": [
    "df_image_data[df_image_data.tweet_id.isin([666102155909144576])]"
   ]
  },
  {
   "cell_type": "markdown",
   "id": "6ee3a70c",
   "metadata": {},
   "source": [
    "#### Analysis Question 3\n",
    "- How does time affect the value of retweet_count  and favorite count."
   ]
  },
  {
   "cell_type": "markdown",
   "id": "55922534",
   "metadata": {},
   "source": [
    "#### TimeFactor\n",
    "Another interesting point to see is how the time in which the tweets was posted relate with the retweet count and favorite count\n",
    "\n",
    "##### By year\n",
    "- We will get the year value from the timestamp column and use it to group the tweets."
   ]
  },
  {
   "cell_type": "code",
   "execution_count": 38,
   "id": "00989108",
   "metadata": {},
   "outputs": [],
   "source": [
    "#Extracting the year information\n",
    "df_tweet_data['year']= df_tweet_data['timestamp'].apply(lambda x: x.year)"
   ]
  },
  {
   "cell_type": "code",
   "execution_count": 39,
   "id": "716ffba9",
   "metadata": {},
   "outputs": [
    {
     "data": {
      "text/plain": [
       "year\n",
       "2015     911.597734\n",
       "2016    2030.795332\n",
       "2017    4736.784946\n",
       "Name: retweet_count, dtype: float64"
      ]
     },
     "execution_count": 39,
     "metadata": {},
     "output_type": "execute_result"
    }
   ],
   "source": [
    "# find the mean of the retweet_count groped by year\n",
    "mean_retweetcount_per_year=df_tweet_data.groupby('year')['retweet_count'].mean()\n",
    "mean_retweetcount_per_year"
   ]
  },
  {
   "cell_type": "markdown",
   "id": "56e9b92b",
   "metadata": {},
   "source": [
    "This is a very reasonable value since the platform is growing in recognition and adding on more memebers year on year\n",
    "we can see that the mean retweet_count doubles every year."
   ]
  },
  {
   "cell_type": "code",
   "execution_count": 40,
   "id": "d252050c",
   "metadata": {},
   "outputs": [
    {
     "data": {
      "image/png": "[encoded data removed]",
      "text/plain": [
       "<Figure size 432x288 with 1 Axes>"
      ]
     },
     "metadata": {},
     "output_type": "display_data"
    }
   ],
   "source": [
    "# plot the mean_retweetcount_per_year value against year information.\n",
    "mean_retweetcount_per_year.plot(kind='bar', ylabel='mean retweet count')\n",
    "plt.title('Mean retweet count per year');"
   ]
  },
  {
   "cell_type": "markdown",
   "id": "e86ce51b",
   "metadata": {},
   "source": [
    "#### Analysis Question 4\n",
    "- What is the most common dog breed in our dataset"
   ]
  },
  {
   "cell_type": "markdown",
   "id": "cb5e2ae6",
   "metadata": {},
   "source": [
    "#### The Most common breed of Dog"
   ]
  },
  {
   "cell_type": "code",
   "execution_count": 41,
   "id": "dc4926e8",
   "metadata": {},
   "outputs": [
    {
     "data": {
      "text/plain": [
       "pug                    44\n",
       "chihuahua              53\n",
       "labrador_retriever     68\n",
       "pembroke               71\n",
       "golden_retriever      105\n",
       "Name: breed, dtype: int64"
      ]
     },
     "execution_count": 41,
     "metadata": {},
     "output_type": "execute_result"
    }
   ],
   "source": [
    "# count each breed in the dataset\n",
    "breed_count=df_image_data['breed'].value_counts(ascending=True).tail()\n",
    "breed_count"
   ]
  },
  {
   "cell_type": "code",
   "execution_count": 42,
   "id": "347b718d",
   "metadata": {},
   "outputs": [
    {
     "data": {
      "image/png": "[encoded data removed]",
      "text/plain": [
       "<Figure size 432x288 with 1 Axes>"
      ]
     },
     "metadata": {},
     "output_type": "display_data"
    }
   ],
   "source": [
    "# plot the count vs breed \n",
    "breed_count.plot(kind='barh')\n",
    "plt.title('count vs breed')\n",
    "plt.xlabel('count')\n",
    "plt.ylabel('breed')\n",
    "plt.savefig('common_breed.png',dpi=200, bbox_inches='tight');"
   ]
  },
  {
   "cell_type": "markdown",
   "id": "e9c62e4c",
   "metadata": {},
   "source": [
    "- We can see that the most popular dog breed is the **golden retriever**."
   ]
  },
  {
   "cell_type": "markdown",
   "id": "a2d1f8ba",
   "metadata": {},
   "source": [
    "##### Golden golden retriever\n",
    "We can also find the name of the most retweeted golden retriever"
   ]
  },
  {
   "cell_type": "code",
   "execution_count": 43,
   "id": "1e96dc37",
   "metadata": {},
   "outputs": [],
   "source": [
    "# selecting the tweet_id of all golden retrievers\n",
    "golden_retriever_tweet_id = df_image_data[df_image_data.breed=='golden_retriever']['tweet_id']"
   ]
  },
  {
   "cell_type": "code",
   "execution_count": 44,
   "id": "635a0ef7",
   "metadata": {},
   "outputs": [],
   "source": [
    "# get the retweet count of all golden retrievers from the df_tweet_data DataFrame\n",
    "retweet_count_golden_retriever = df_tweet_data[df_tweet_data['tweet_id'].isin(golden_retriever_tweet_id)][['tweet_id','retweet_count']]"
   ]
  },
  {
   "cell_type": "code",
   "execution_count": 45,
   "id": "71c84137",
   "metadata": {},
   "outputs": [],
   "source": [
    "# get the names of each golden retriever from the df_image_data\n",
    "names_golden_retriever = df_image_data[df_image_data['tweet_id'].isin(golden_retriever_tweet_id)][['tweet_id','name']]"
   ]
  },
  {
   "cell_type": "code",
   "execution_count": 46,
   "id": "61335939",
   "metadata": {},
   "outputs": [],
   "source": [
    "# merge to form a single DataFrame containing the name of each golden retrievers and the retweet_count\n",
    "df_golden_retriever = names_golden_retriever.merge(retweet_count_golden_retriever, how= 'inner', on= 'tweet_id' )"
   ]
  },
  {
   "cell_type": "code",
   "execution_count": 47,
   "id": "8e60997b",
   "metadata": {},
   "outputs": [
    {
     "data": {
      "text/html": [
       "<div>\n",
       "<style scoped>\n",
       "    .dataframe tbody tr th:only-of-type {\n",
       "        vertical-align: middle;\n",
       "    }\n",
       "\n",
       "    .dataframe tbody tr th {\n",
       "        vertical-align: top;\n",
       "    }\n",
       "\n",
       "    .dataframe thead th {\n",
       "        text-align: right;\n",
       "    }\n",
       "</style>\n",
       "<table border=\"1\" class=\"dataframe\">\n",
       "  <thead>\n",
       "    <tr style=\"text-align: right;\">\n",
       "      <th></th>\n",
       "      <th>tweet_id</th>\n",
       "      <th>name</th>\n",
       "      <th>retweet_count</th>\n",
       "    </tr>\n",
       "  </thead>\n",
       "  <tbody>\n",
       "    <tr>\n",
       "      <th>5</th>\n",
       "      <td>870374049280663552</td>\n",
       "      <td>zoey</td>\n",
       "      <td>22750</td>\n",
       "    </tr>\n",
       "    <tr>\n",
       "      <th>72</th>\n",
       "      <td>795464331001561088</td>\n",
       "      <td>none</td>\n",
       "      <td>21980</td>\n",
       "    </tr>\n",
       "    <tr>\n",
       "      <th>80</th>\n",
       "      <td>733109485275860992</td>\n",
       "      <td>none</td>\n",
       "      <td>15535</td>\n",
       "    </tr>\n",
       "    <tr>\n",
       "      <th>26</th>\n",
       "      <td>788908386943430656</td>\n",
       "      <td>lucy</td>\n",
       "      <td>11715</td>\n",
       "    </tr>\n",
       "    <tr>\n",
       "      <th>2</th>\n",
       "      <td>882268110199369728</td>\n",
       "      <td>alfy</td>\n",
       "      <td>9630</td>\n",
       "    </tr>\n",
       "    <tr>\n",
       "      <th>...</th>\n",
       "      <td>...</td>\n",
       "      <td>...</td>\n",
       "      <td>...</td>\n",
       "    </tr>\n",
       "    <tr>\n",
       "      <th>101</th>\n",
       "      <td>666345417576210432</td>\n",
       "      <td>none</td>\n",
       "      <td>124</td>\n",
       "    </tr>\n",
       "    <tr>\n",
       "      <th>63</th>\n",
       "      <td>668286279830867968</td>\n",
       "      <td>rusty</td>\n",
       "      <td>118</td>\n",
       "    </tr>\n",
       "    <tr>\n",
       "      <th>102</th>\n",
       "      <td>666057090499244032</td>\n",
       "      <td>none</td>\n",
       "      <td>112</td>\n",
       "    </tr>\n",
       "    <tr>\n",
       "      <th>99</th>\n",
       "      <td>669327207240699904</td>\n",
       "      <td>none</td>\n",
       "      <td>102</td>\n",
       "    </tr>\n",
       "    <tr>\n",
       "      <th>100</th>\n",
       "      <td>667044094246576128</td>\n",
       "      <td>none</td>\n",
       "      <td>43</td>\n",
       "    </tr>\n",
       "  </tbody>\n",
       "</table>\n",
       "<p>105 rows × 3 columns</p>\n",
       "</div>"
      ],
      "text/plain": [
       "               tweet_id   name  retweet_count\n",
       "5    870374049280663552   zoey          22750\n",
       "72   795464331001561088   none          21980\n",
       "80   733109485275860992   none          15535\n",
       "26   788908386943430656   lucy          11715\n",
       "2    882268110199369728   alfy           9630\n",
       "..                  ...    ...            ...\n",
       "101  666345417576210432   none            124\n",
       "63   668286279830867968  rusty            118\n",
       "102  666057090499244032   none            112\n",
       "99   669327207240699904   none            102\n",
       "100  667044094246576128   none             43\n",
       "\n",
       "[105 rows x 3 columns]"
      ]
     },
     "execution_count": 47,
     "metadata": {},
     "output_type": "execute_result"
    }
   ],
   "source": [
    "#\n",
    "df_golden_retriever.sort_values(by='retweet_count', ascending= False)"
   ]
  },
  {
   "cell_type": "code",
   "execution_count": 48,
   "id": "f732b19e",
   "metadata": {},
   "outputs": [
    {
     "data": {
      "image/png": "[encoded data removed]",
      "text/plain": [
       "<Figure size 504x1080 with 1 Axes>"
      ]
     },
     "metadata": {},
     "output_type": "display_data"
    }
   ],
   "source": [
    "# plotthe retweet_count against the name\n",
    "plt.figure(figsize=(7,15))\n",
    "plt.barh(df_golden_retriever['name'], df_golden_retriever['retweet_count'])\n",
    "plt.title('retweet_count vs name')\n",
    "plt.xlabel('Count')\n",
    "plt.ylabel('Name');\n"
   ]
  },
  {
   "cell_type": "markdown",
   "id": "2f9ba6ca",
   "metadata": {},
   "source": [
    "- **zoey** is the most retweeted golden retriever"
   ]
  },
  {
   "cell_type": "code",
   "execution_count": 49,
   "id": "fb1c9b74",
   "metadata": {},
   "outputs": [
    {
     "data": {
      "text/html": [
       "<div>\n",
       "<style scoped>\n",
       "    .dataframe tbody tr th:only-of-type {\n",
       "        vertical-align: middle;\n",
       "    }\n",
       "\n",
       "    .dataframe tbody tr th {\n",
       "        vertical-align: top;\n",
       "    }\n",
       "\n",
       "    .dataframe thead th {\n",
       "        text-align: right;\n",
       "    }\n",
       "</style>\n",
       "<table border=\"1\" class=\"dataframe\">\n",
       "  <thead>\n",
       "    <tr style=\"text-align: right;\">\n",
       "      <th></th>\n",
       "      <th>tweet_id</th>\n",
       "      <th>name</th>\n",
       "      <th>retweet_count</th>\n",
       "    </tr>\n",
       "  </thead>\n",
       "  <tbody>\n",
       "    <tr>\n",
       "      <th>5</th>\n",
       "      <td>870374049280663552</td>\n",
       "      <td>zoey</td>\n",
       "      <td>22750</td>\n",
       "    </tr>\n",
       "    <tr>\n",
       "      <th>104</th>\n",
       "      <td>859607811541651456</td>\n",
       "      <td>zoey</td>\n",
       "      <td>1365</td>\n",
       "    </tr>\n",
       "  </tbody>\n",
       "</table>\n",
       "</div>"
      ],
      "text/plain": [
       "               tweet_id  name  retweet_count\n",
       "5    870374049280663552  zoey          22750\n",
       "104  859607811541651456  zoey           1365"
      ]
     },
     "execution_count": 49,
     "metadata": {},
     "output_type": "execute_result"
    }
   ],
   "source": [
    "# getting the rows where golden retriever name is zoey in the df_golden_retriver DataFrame\n",
    "df_golden_retriever[df_golden_retriever.name=='zoey']"
   ]
  },
  {
   "cell_type": "code",
   "execution_count": 50,
   "id": "379eabb0",
   "metadata": {},
   "outputs": [
    {
     "data": {
      "text/html": [
       "<div>\n",
       "<style scoped>\n",
       "    .dataframe tbody tr th:only-of-type {\n",
       "        vertical-align: middle;\n",
       "    }\n",
       "\n",
       "    .dataframe tbody tr th {\n",
       "        vertical-align: top;\n",
       "    }\n",
       "\n",
       "    .dataframe thead th {\n",
       "        text-align: right;\n",
       "    }\n",
       "</style>\n",
       "<table border=\"1\" class=\"dataframe\">\n",
       "  <thead>\n",
       "    <tr style=\"text-align: right;\">\n",
       "      <th></th>\n",
       "      <th>tweet_id</th>\n",
       "      <th>timestamp</th>\n",
       "      <th>source</th>\n",
       "      <th>text</th>\n",
       "      <th>expanded_urls</th>\n",
       "      <th>rating_numerator</th>\n",
       "      <th>rating_denominator</th>\n",
       "      <th>retweet_count</th>\n",
       "      <th>favorite_count</th>\n",
       "      <th>lang</th>\n",
       "      <th>year</th>\n",
       "    </tr>\n",
       "  </thead>\n",
       "  <tbody>\n",
       "    <tr>\n",
       "      <th>43</th>\n",
       "      <td>870374049280663552</td>\n",
       "      <td>2017-06-01 20:18:38+00:00</td>\n",
       "      <td>Twitter for iPhone</td>\n",
       "      <td>This is Zoey. She really likes the planet. Wou...</td>\n",
       "      <td>https://twitter.com/dog_rates/status/870374049...</td>\n",
       "      <td>13</td>\n",
       "      <td>10</td>\n",
       "      <td>22750</td>\n",
       "      <td>73956</td>\n",
       "      <td>en</td>\n",
       "      <td>2017</td>\n",
       "    </tr>\n",
       "    <tr>\n",
       "      <th>1078</th>\n",
       "      <td>859607811541651456</td>\n",
       "      <td>2017-05-03 03:17:27+00:00</td>\n",
       "      <td>Twitter for iPhone</td>\n",
       "      <td>Sorry for the lack of posts today. I came home...</td>\n",
       "      <td>https://twitter.com/dog_rates/status/859607811...</td>\n",
       "      <td>13</td>\n",
       "      <td>10</td>\n",
       "      <td>1365</td>\n",
       "      <td>16842</td>\n",
       "      <td>en</td>\n",
       "      <td>2017</td>\n",
       "    </tr>\n",
       "  </tbody>\n",
       "</table>\n",
       "</div>"
      ],
      "text/plain": [
       "                tweet_id                 timestamp              source  \\\n",
       "43    870374049280663552 2017-06-01 20:18:38+00:00  Twitter for iPhone   \n",
       "1078  859607811541651456 2017-05-03 03:17:27+00:00  Twitter for iPhone   \n",
       "\n",
       "                                                   text  \\\n",
       "43    This is Zoey. She really likes the planet. Wou...   \n",
       "1078  Sorry for the lack of posts today. I came home...   \n",
       "\n",
       "                                          expanded_urls  rating_numerator  \\\n",
       "43    https://twitter.com/dog_rates/status/870374049...                13   \n",
       "1078  https://twitter.com/dog_rates/status/859607811...                13   \n",
       "\n",
       "      rating_denominator  retweet_count  favorite_count lang  year  \n",
       "43                    10          22750           73956   en  2017  \n",
       "1078                  10           1365           16842   en  2017  "
      ]
     },
     "execution_count": 50,
     "metadata": {},
     "output_type": "execute_result"
    }
   ],
   "source": [
    "# fetching the rows for 'zoey' from the df_tweet_data DataFrame using their tweet_id \n",
    "tweet_id_list=[870374049280663552,859607811541651456]\n",
    "df_tweet_data[df_tweet_data.tweet_id.isin(tweet_id_list)]"
   ]
  },
  {
   "cell_type": "code",
   "execution_count": 51,
   "id": "165f06fd",
   "metadata": {},
   "outputs": [
    {
     "data": {
      "text/html": [
       "<div>\n",
       "<style scoped>\n",
       "    .dataframe tbody tr th:only-of-type {\n",
       "        vertical-align: middle;\n",
       "    }\n",
       "\n",
       "    .dataframe tbody tr th {\n",
       "        vertical-align: top;\n",
       "    }\n",
       "\n",
       "    .dataframe thead th {\n",
       "        text-align: right;\n",
       "    }\n",
       "</style>\n",
       "<table border=\"1\" class=\"dataframe\">\n",
       "  <thead>\n",
       "    <tr style=\"text-align: right;\">\n",
       "      <th></th>\n",
       "      <th>tweet_id</th>\n",
       "      <th>img_num</th>\n",
       "      <th>name</th>\n",
       "      <th>dog_growth_stage</th>\n",
       "      <th>img_resolution_MP</th>\n",
       "      <th>jpg_url</th>\n",
       "      <th>breed</th>\n",
       "    </tr>\n",
       "  </thead>\n",
       "  <tbody>\n",
       "    <tr>\n",
       "      <th>43</th>\n",
       "      <td>870374049280663552</td>\n",
       "      <td>1</td>\n",
       "      <td>zoey</td>\n",
       "      <td>none</td>\n",
       "      <td>2.43</td>\n",
       "      <td>https://pbs.twimg.com/media/DBQwlFCXkAACSkI.jpg</td>\n",
       "      <td>golden_retriever</td>\n",
       "    </tr>\n",
       "    <tr>\n",
       "      <th>1078</th>\n",
       "      <td>859607811541651456</td>\n",
       "      <td>1</td>\n",
       "      <td>zoey</td>\n",
       "      <td>puppo</td>\n",
       "      <td>1.00</td>\n",
       "      <td>https://pbs.twimg.com/media/C-3wvtxXcAUTuBE.jpg</td>\n",
       "      <td>golden_retriever</td>\n",
       "    </tr>\n",
       "  </tbody>\n",
       "</table>\n",
       "</div>"
      ],
      "text/plain": [
       "                tweet_id  img_num  name dog_growth_stage  img_resolution_MP  \\\n",
       "43    870374049280663552        1  zoey             none               2.43   \n",
       "1078  859607811541651456        1  zoey            puppo               1.00   \n",
       "\n",
       "                                              jpg_url             breed  \n",
       "43    https://pbs.twimg.com/media/DBQwlFCXkAACSkI.jpg  golden_retriever  \n",
       "1078  https://pbs.twimg.com/media/C-3wvtxXcAUTuBE.jpg  golden_retriever  "
      ]
     },
     "execution_count": 51,
     "metadata": {},
     "output_type": "execute_result"
    }
   ],
   "source": [
    "# fetching the rows for 'zoey' from the df_image_data DataFrame using their tweet_id \n",
    "df_image_data[df_image_data.tweet_id.isin(tweet_id_list)]"
   ]
  },
  {
   "cell_type": "markdown",
   "id": "561fa7cf",
   "metadata": {},
   "source": [
    "- It is interesting to note that we have two zoeys in our data set that are both golden retriever\n",
    "\n",
    "##### The Golden golden retriever: \n",
    "is **Zoey** the puppo"
   ]
  },
  {
   "cell_type": "markdown",
   "id": "5578ff08",
   "metadata": {},
   "source": [
    "#### Analysis Question 5\n",
    "- What is the most popular dog_growth_stage in our dataset\n",
    " - 1) The most common dog_growth_stage in our dataset\n",
    " - 2) The most retweeted dog_growth_stage by median of the retweet count"
   ]
  },
  {
   "cell_type": "markdown",
   "id": "4164c06c",
   "metadata": {},
   "source": [
    "#### The most popular dog growth stage"
   ]
  },
  {
   "cell_type": "code",
   "execution_count": 52,
   "id": "98125169",
   "metadata": {},
   "outputs": [],
   "source": [
    "df_retweet_count = df_tweet_data[['tweet_id','retweet_count']]"
   ]
  },
  {
   "cell_type": "code",
   "execution_count": 53,
   "id": "c31cdbb7",
   "metadata": {},
   "outputs": [],
   "source": [
    "df_dog_growth_stage = df_image_data[df_image_data['dog_growth_stage']!='none'][['tweet_id','dog_growth_stage']]"
   ]
  },
  {
   "cell_type": "code",
   "execution_count": 54,
   "id": "5aa4c16c",
   "metadata": {},
   "outputs": [
    {
     "data": {
      "text/html": [
       "<div>\n",
       "<style scoped>\n",
       "    .dataframe tbody tr th:only-of-type {\n",
       "        vertical-align: middle;\n",
       "    }\n",
       "\n",
       "    .dataframe tbody tr th {\n",
       "        vertical-align: top;\n",
       "    }\n",
       "\n",
       "    .dataframe thead th {\n",
       "        text-align: right;\n",
       "    }\n",
       "</style>\n",
       "<table border=\"1\" class=\"dataframe\">\n",
       "  <thead>\n",
       "    <tr style=\"text-align: right;\">\n",
       "      <th></th>\n",
       "      <th>tweet_id</th>\n",
       "      <th>dog_growth_stage</th>\n",
       "      <th>retweet_count</th>\n",
       "    </tr>\n",
       "  </thead>\n",
       "  <tbody>\n",
       "    <tr>\n",
       "      <th>0</th>\n",
       "      <td>886366144734445568</td>\n",
       "      <td>pupper</td>\n",
       "      <td>2629</td>\n",
       "    </tr>\n",
       "    <tr>\n",
       "      <th>1</th>\n",
       "      <td>882762694511734784</td>\n",
       "      <td>pupper</td>\n",
       "      <td>4094</td>\n",
       "    </tr>\n",
       "    <tr>\n",
       "      <th>2</th>\n",
       "      <td>881666595344535552</td>\n",
       "      <td>pupper</td>\n",
       "      <td>8956</td>\n",
       "    </tr>\n",
       "    <tr>\n",
       "      <th>3</th>\n",
       "      <td>876838120628539392</td>\n",
       "      <td>pupper</td>\n",
       "      <td>2803</td>\n",
       "    </tr>\n",
       "    <tr>\n",
       "      <th>4</th>\n",
       "      <td>876120275196170240</td>\n",
       "      <td>puppo</td>\n",
       "      <td>3902</td>\n",
       "    </tr>\n",
       "    <tr>\n",
       "      <th>...</th>\n",
       "      <td>...</td>\n",
       "      <td>...</td>\n",
       "      <td>...</td>\n",
       "    </tr>\n",
       "    <tr>\n",
       "      <th>179</th>\n",
       "      <td>704054845121142784</td>\n",
       "      <td>pupper</td>\n",
       "      <td>844</td>\n",
       "    </tr>\n",
       "    <tr>\n",
       "      <th>180</th>\n",
       "      <td>684225744407494656</td>\n",
       "      <td>pupper</td>\n",
       "      <td>184</td>\n",
       "    </tr>\n",
       "    <tr>\n",
       "      <th>181</th>\n",
       "      <td>677716515794329600</td>\n",
       "      <td>pupper</td>\n",
       "      <td>877</td>\n",
       "    </tr>\n",
       "    <tr>\n",
       "      <th>182</th>\n",
       "      <td>675853064436391936</td>\n",
       "      <td>pupper</td>\n",
       "      <td>1136</td>\n",
       "    </tr>\n",
       "    <tr>\n",
       "      <th>183</th>\n",
       "      <td>859607811541651456</td>\n",
       "      <td>puppo</td>\n",
       "      <td>1365</td>\n",
       "    </tr>\n",
       "  </tbody>\n",
       "</table>\n",
       "<p>184 rows × 3 columns</p>\n",
       "</div>"
      ],
      "text/plain": [
       "               tweet_id dog_growth_stage  retweet_count\n",
       "0    886366144734445568           pupper           2629\n",
       "1    882762694511734784           pupper           4094\n",
       "2    881666595344535552           pupper           8956\n",
       "3    876838120628539392           pupper           2803\n",
       "4    876120275196170240            puppo           3902\n",
       "..                  ...              ...            ...\n",
       "179  704054845121142784           pupper            844\n",
       "180  684225744407494656           pupper            184\n",
       "181  677716515794329600           pupper            877\n",
       "182  675853064436391936           pupper           1136\n",
       "183  859607811541651456            puppo           1365\n",
       "\n",
       "[184 rows x 3 columns]"
      ]
     },
     "execution_count": 54,
     "metadata": {},
     "output_type": "execute_result"
    }
   ],
   "source": [
    "df_retweet_count_growth_stage =df_dog_growth_stage.merge(df_retweet_count, how='inner', on='tweet_id')\n",
    "df_retweet_count_growth_stage"
   ]
  },
  {
   "cell_type": "code",
   "execution_count": 55,
   "id": "bd98f4e7",
   "metadata": {},
   "outputs": [
    {
     "data": {
      "image/png": "[encoded data removed]",
      "text/plain": [
       "<Figure size 1080x576 with 1 Axes>"
      ]
     },
     "metadata": {},
     "output_type": "display_data"
    }
   ],
   "source": [
    "# visualization of the dog_growth stage with respect to their retweet count\n",
    "plt.figure(figsize=(15,8))\n",
    "sns.swarmplot(x='dog_growth_stage',y='retweet_count',data=df_retweet_count_growth_stage, size=5)\n",
    "plt.title('Swarm plot of retweet_count vs dog_growth_stage' );\n",
    "plt.savefig('dog_growth_stage.png',dpi=200, bbox_inches='tight');"
   ]
  },
  {
   "cell_type": "markdown",
   "id": "1e41d317",
   "metadata": {},
   "source": [
    "**It can be observed that**\n",
    "- The **pupper** stage has the most data point in the plot. Therefore, they are the most common in our dataset.\n",
    "- the **doggo** stage will have a higher mean value for the retweet_count due to the outlier retweet_count value at 35000 retweets."
   ]
  },
  {
   "cell_type": "markdown",
   "id": "dccba3b6",
   "metadata": {},
   "source": [
    "##### The most common Dog_growth_stage  "
   ]
  },
  {
   "cell_type": "code",
   "execution_count": 56,
   "id": "0025bdfc",
   "metadata": {},
   "outputs": [],
   "source": [
    "common_growth_stage = df_retweet_count_growth_stage['dog_growth_stage'].value_counts()"
   ]
  },
  {
   "cell_type": "code",
   "execution_count": 57,
   "id": "899ad918",
   "metadata": {},
   "outputs": [],
   "source": [
    "def plotter(series,k,x,y,t ):\n",
    "\n",
    "    '''\n",
    "    plots a graph inserting necessary annotations like xlabel, ylabel and title\n",
    "    \n",
    "    Args: \n",
    "    series(series) Contains the data point tobe plotted\n",
    "    k(string) The type of plot\n",
    "    x(string) The x label value\n",
    "    y(string) The y label value\n",
    "    t(string) The title of the plot\n",
    "    \n",
    "    \n",
    "    returns:\n",
    "    plot The plot object for further customization.\n",
    "    '''\n",
    "    plot= series.plot(kind=k)\n",
    "    plt.ylabel(y)\n",
    "    plt.xlabel(x)\n",
    "    plt.title(t);\n",
    "    \n",
    "    return plot"
   ]
  },
  {
   "cell_type": "code",
   "execution_count": 58,
   "id": "545c4fc1",
   "metadata": {},
   "outputs": [
    {
     "data": {
      "image/png": "[encoded data removed]",
      "text/plain": [
       "<Figure size 432x288 with 1 Axes>"
      ]
     },
     "metadata": {},
     "output_type": "display_data"
    }
   ],
   "source": [
    "# plotting count of observations vs dog_growth_stage\n",
    "plotter(common_growth_stage,'bar','dog_growth_stage','count','count of observations vs dog_growth_stage');"
   ]
  },
  {
   "cell_type": "markdown",
   "id": "ef82d288",
   "metadata": {},
   "source": [
    " as stated earlier, Pupper is the most common dog_growth_stage in our dataset."
   ]
  },
  {
   "cell_type": "markdown",
   "id": "8c515e00",
   "metadata": {},
   "source": [
    "##### The most retweeted dog_growth_stage by median of retweet count"
   ]
  },
  {
   "cell_type": "code",
   "execution_count": 59,
   "id": "e3074d1f",
   "metadata": {},
   "outputs": [],
   "source": [
    "# grouping the retweet count by dog_growth_stage\n",
    "retweet_count_Per_growth_stage = df_retweet_count_growth_stage.groupby('dog_growth_stage')['retweet_count'].median()"
   ]
  },
  {
   "cell_type": "code",
   "execution_count": 60,
   "id": "2a1ed002",
   "metadata": {},
   "outputs": [
    {
     "data": {
      "image/png": "[encoded data removed]",
      "text/plain": [
       "<Figure size 432x288 with 1 Axes>"
      ]
     },
     "metadata": {},
     "output_type": "display_data"
    }
   ],
   "source": [
    "# plotting median of retweet_count vs dog_growth_stage\n",
    "plotter(retweet_count_Per_growth_stage,'bar','dog_growth_stage','median of retweet_count','median of retweet_count vs dog_growth_stage')\n",
    "plt.savefig('median_retweet_count_dog_growth_stage.png',dpi=150, bbox_inches='tight');"
   ]
  },
  {
   "cell_type": "markdown",
   "id": "dbeb8c68",
   "metadata": {},
   "source": [
    "It can be observed that the puppo stage has the highest median retweet_count of over 2500"
   ]
  },
  {
   "cell_type": "markdown",
   "id": "96837e81",
   "metadata": {},
   "source": [
    "#### Analysis Question 6\n",
    "- How does the tone of the text (negative, neutral or positive), affect the retweet_count and favorite_count."
   ]
  },
  {
   "cell_type": "markdown",
   "id": "f129421a",
   "metadata": {},
   "source": [
    "#### Sentiment Analysis on the text column of the df_tweet_data\n",
    "We are going to do a sentiment analysis on the tweet_text column to define the emotion behind each text. Then we will group our tweets based on these sentiment scoresand see how the audience responds to different sentiments. \n",
    "\n",
    "we will be using roberta pretrained model for this sentiment analysis. "
   ]
  },
  {
   "cell_type": "code",
   "execution_count": 61,
   "id": "e4e4f790",
   "metadata": {},
   "outputs": [],
   "source": [
    "#importing required libraries\n",
    "from transformers import AutoTokenizer\n",
    "from transformers import AutoModelForSequenceClassification\n",
    "from scipy.special import softmax"
   ]
  },
  {
   "cell_type": "markdown",
   "id": "6b77addb",
   "metadata": {},
   "source": [
    "#### Note, this cell takes time to load the first time and requires internet connectivity to download the required resources"
   ]
  },
  {
   "cell_type": "code",
   "execution_count": 72,
   "id": "c51db49e",
   "metadata": {},
   "outputs": [],
   "source": [
    "# Load the roberta pretrained model\n",
    "MODEL = f\"cardiffnlp/twitter-roberta-base-sentiment\"\n",
    "tokenizer = AutoTokenizer.from_pretrained(MODEL)\n",
    "model = AutoModelForSequenceClassification.from_pretrained(MODEL)"
   ]
  },
  {
   "cell_type": "code",
   "execution_count": 74,
   "id": "4a8b4c28",
   "metadata": {},
   "outputs": [],
   "source": [
    "def tweet_polarity_scores(example):\n",
    "    '''\n",
    "    Takes a string of text, perform sentiment and analysis and returns its score dictionary\n",
    "    \n",
    "    Args:\n",
    "    example(string) the text on which the sentiment analysis is performed on\n",
    "    \n",
    "    returns:\n",
    "    score_dict(dictionary) The dictionary showing the rating of the text by the model as either negative, neutral or positive \n",
    "    \n",
    "    '''\n",
    "    \n",
    "    # use our tokenizer to encode the text\n",
    "    encoded_text = tokenizer(example, return_tensors = 'pt')\n",
    "\n",
    "    # run our model on the text\n",
    "    output = model(**encoded_text)\n",
    "\n",
    "    # convert the tensor to numpy\n",
    "    scores = output[0][0].detach().numpy()\n",
    "\n",
    "    # apply softmax to the score\n",
    "    scores = softmax(scores)\n",
    "\n",
    "    # create our score dictionary\n",
    "    negative = scores[0]\n",
    "    neutral =  scores[1]\n",
    "    positive = scores[2]\n",
    "    \n",
    "    return negative, neutral, positive\n",
    "    "
   ]
  },
  {
   "cell_type": "markdown",
   "id": "822573c7",
   "metadata": {},
   "source": [
    "#### Sentiment Analysis\n",
    "performing the sentiment analysis on the text column using the tweet_polarity_scores function.\n",
    "- **Note** This next three cells takes a some time to load."
   ]
  },
  {
   "cell_type": "code",
   "execution_count": 75,
   "id": "3a709bd0",
   "metadata": {},
   "outputs": [],
   "source": [
    "#applying the tweet_polarity_score function to the text column of the df_tweet_data DataFrame for negative score\n",
    "df_tweet_data['negative']=df_tweet_data['text'].apply(lambda x: tweet_polarity_scores(x)[0])"
   ]
  },
  {
   "cell_type": "code",
   "execution_count": 76,
   "id": "29ce5efa",
   "metadata": {},
   "outputs": [],
   "source": [
    "#applying the tweet_polarity_score function to the text column of the df_tweet_data DataFrame for neutral score\n",
    "df_tweet_data['neutral']=df_tweet_data['text'].apply(lambda x: tweet_polarity_scores(x)[1])"
   ]
  },
  {
   "cell_type": "code",
   "execution_count": 77,
   "id": "01ee2010",
   "metadata": {},
   "outputs": [],
   "source": [
    "#applying the tweet_polarity_score function to the text column of the df_tweet_data DataFrame for positive score\n",
    "df_tweet_data['positive'] = df_tweet_data['text'].apply(lambda x: tweet_polarity_scores(x)[2])"
   ]
  },
  {
   "cell_type": "markdown",
   "id": "7aa5ca98",
   "metadata": {},
   "source": [
    "- Based on the ratings from the model, we will categories each text into negative, neutral or positive sentiments."
   ]
  },
  {
   "cell_type": "code",
   "execution_count": 78,
   "id": "53f92021",
   "metadata": {},
   "outputs": [],
   "source": [
    "def sentiment_categorizer(df) :\n",
    "    '''\n",
    "    defines the sentiment of the text as the sentiment with the highest rating by the model.\n",
    "    \n",
    "    Args:\n",
    "    df(DataFrame) the dataframe containing the three sentiment ratings per text, i.e negative, neutral or positive\n",
    "    \n",
    "    Return:\n",
    "    df(DataFrame) the data fram ewith an extra column 'sentiment' containing the defintion of the sentiment of the text. i.e negative, neutral, or positive.\n",
    "    \n",
    "    '''\n",
    "    \n",
    "    # returns the sentiment and the model rating for that sentiment \n",
    "    df['sentiment_int'] = df.apply(lambda x: ['negative',x.loc['negative']] if x.loc['negative'] > x.loc['neutral'] else ['neutral', x.loc['neutral']], axis =1)\n",
    "\n",
    "    # extract the sentiment and the model rating into separate columns\n",
    "    df['sentiment_int_sent'] = df['sentiment_int'].apply(lambda x: x[0])\n",
    "    df['sentiment_rating']= df['sentiment_int'].apply(lambda x: x[1])\n",
    "\n",
    "    # compare the values in the previous two columns against the positive column.\n",
    "    df['sentiment'] = df.apply(lambda x: x.loc['sentiment_int_sent'] if x.loc['sentiment_rating'] > x.loc['positive'] else 'positive', axis=1 )\n",
    "    \n",
    "    # dropping the intermediate column\n",
    "    df= df.drop(['sentiment_int','sentiment_int_sent','sentiment_rating'], axis=1)\n",
    "    \n",
    "    # convert the sentiment column to categorical variable\n",
    "    df.sentiment.astype('category')\n",
    "    \n",
    "    return df"
   ]
  },
  {
   "cell_type": "code",
   "execution_count": 79,
   "id": "32d571f9",
   "metadata": {},
   "outputs": [],
   "source": [
    "# running the sentiment categorizer function on the df_tweet_data\n",
    "df_tweet_data = sentiment_categorizer(df_tweet_data)"
   ]
  },
  {
   "cell_type": "code",
   "execution_count": 80,
   "id": "027edcad",
   "metadata": {},
   "outputs": [
    {
     "data": {
      "text/html": [
       "<div>\n",
       "<style scoped>\n",
       "    .dataframe tbody tr th:only-of-type {\n",
       "        vertical-align: middle;\n",
       "    }\n",
       "\n",
       "    .dataframe tbody tr th {\n",
       "        vertical-align: top;\n",
       "    }\n",
       "\n",
       "    .dataframe thead th {\n",
       "        text-align: right;\n",
       "    }\n",
       "</style>\n",
       "<table border=\"1\" class=\"dataframe\">\n",
       "  <thead>\n",
       "    <tr style=\"text-align: right;\">\n",
       "      <th></th>\n",
       "      <th>tweet_id</th>\n",
       "      <th>timestamp</th>\n",
       "      <th>source</th>\n",
       "      <th>text</th>\n",
       "      <th>expanded_urls</th>\n",
       "      <th>rating_numerator</th>\n",
       "      <th>rating_denominator</th>\n",
       "      <th>retweet_count</th>\n",
       "      <th>favorite_count</th>\n",
       "      <th>lang</th>\n",
       "      <th>year</th>\n",
       "      <th>negative</th>\n",
       "      <th>neutral</th>\n",
       "      <th>positive</th>\n",
       "      <th>sentiment</th>\n",
       "    </tr>\n",
       "  </thead>\n",
       "  <tbody>\n",
       "    <tr>\n",
       "      <th>0</th>\n",
       "      <td>891815181378084864</td>\n",
       "      <td>2017-07-31 00:18:03+00:00</td>\n",
       "      <td>Twitter for iPhone</td>\n",
       "      <td>This is Archie. He is a rare Norwegian Pouncin...</td>\n",
       "      <td>https://twitter.com/dog_rates/status/891815181...</td>\n",
       "      <td>12</td>\n",
       "      <td>10</td>\n",
       "      <td>3478</td>\n",
       "      <td>22045</td>\n",
       "      <td>en</td>\n",
       "      <td>2017</td>\n",
       "      <td>0.095379</td>\n",
       "      <td>0.668821</td>\n",
       "      <td>0.235800</td>\n",
       "      <td>neutral</td>\n",
       "    </tr>\n",
       "    <tr>\n",
       "      <th>1</th>\n",
       "      <td>891689557279858688</td>\n",
       "      <td>2017-07-30 15:58:51+00:00</td>\n",
       "      <td>Twitter for iPhone</td>\n",
       "      <td>This is Darla. She commenced a snooze mid meal...</td>\n",
       "      <td>https://twitter.com/dog_rates/status/891689557...</td>\n",
       "      <td>13</td>\n",
       "      <td>10</td>\n",
       "      <td>7224</td>\n",
       "      <td>36929</td>\n",
       "      <td>en</td>\n",
       "      <td>2017</td>\n",
       "      <td>0.032698</td>\n",
       "      <td>0.371503</td>\n",
       "      <td>0.595800</td>\n",
       "      <td>positive</td>\n",
       "    </tr>\n",
       "    <tr>\n",
       "      <th>2</th>\n",
       "      <td>891327558926688256</td>\n",
       "      <td>2017-07-29 16:00:24+00:00</td>\n",
       "      <td>Twitter for iPhone</td>\n",
       "      <td>This is Franklin. He would like you to stop ca...</td>\n",
       "      <td>https://twitter.com/dog_rates/status/891327558...</td>\n",
       "      <td>12</td>\n",
       "      <td>10</td>\n",
       "      <td>7757</td>\n",
       "      <td>35308</td>\n",
       "      <td>en</td>\n",
       "      <td>2017</td>\n",
       "      <td>0.068925</td>\n",
       "      <td>0.437913</td>\n",
       "      <td>0.493162</td>\n",
       "      <td>positive</td>\n",
       "    </tr>\n",
       "    <tr>\n",
       "      <th>3</th>\n",
       "      <td>890609185150312448</td>\n",
       "      <td>2017-07-27 16:25:51+00:00</td>\n",
       "      <td>Twitter for iPhone</td>\n",
       "      <td>This is Zoey. She doesn't want to be one of th...</td>\n",
       "      <td>https://twitter.com/dog_rates/status/890609185...</td>\n",
       "      <td>13</td>\n",
       "      <td>10</td>\n",
       "      <td>3619</td>\n",
       "      <td>24520</td>\n",
       "      <td>en</td>\n",
       "      <td>2017</td>\n",
       "      <td>0.364550</td>\n",
       "      <td>0.502714</td>\n",
       "      <td>0.132736</td>\n",
       "      <td>neutral</td>\n",
       "    </tr>\n",
       "    <tr>\n",
       "      <th>4</th>\n",
       "      <td>890006608113172480</td>\n",
       "      <td>2017-07-26 00:31:25+00:00</td>\n",
       "      <td>Twitter for iPhone</td>\n",
       "      <td>This is Koda. He is a South Australian decksha...</td>\n",
       "      <td>https://twitter.com/dog_rates/status/890006608...</td>\n",
       "      <td>13</td>\n",
       "      <td>10</td>\n",
       "      <td>6151</td>\n",
       "      <td>27033</td>\n",
       "      <td>en</td>\n",
       "      <td>2017</td>\n",
       "      <td>0.410193</td>\n",
       "      <td>0.395136</td>\n",
       "      <td>0.194671</td>\n",
       "      <td>negative</td>\n",
       "    </tr>\n",
       "  </tbody>\n",
       "</table>\n",
       "</div>"
      ],
      "text/plain": [
       "             tweet_id                 timestamp              source  \\\n",
       "0  891815181378084864 2017-07-31 00:18:03+00:00  Twitter for iPhone   \n",
       "1  891689557279858688 2017-07-30 15:58:51+00:00  Twitter for iPhone   \n",
       "2  891327558926688256 2017-07-29 16:00:24+00:00  Twitter for iPhone   \n",
       "3  890609185150312448 2017-07-27 16:25:51+00:00  Twitter for iPhone   \n",
       "4  890006608113172480 2017-07-26 00:31:25+00:00  Twitter for iPhone   \n",
       "\n",
       "                                                text  \\\n",
       "0  This is Archie. He is a rare Norwegian Pouncin...   \n",
       "1  This is Darla. She commenced a snooze mid meal...   \n",
       "2  This is Franklin. He would like you to stop ca...   \n",
       "3  This is Zoey. She doesn't want to be one of th...   \n",
       "4  This is Koda. He is a South Australian decksha...   \n",
       "\n",
       "                                       expanded_urls  rating_numerator  \\\n",
       "0  https://twitter.com/dog_rates/status/891815181...                12   \n",
       "1  https://twitter.com/dog_rates/status/891689557...                13   \n",
       "2  https://twitter.com/dog_rates/status/891327558...                12   \n",
       "3  https://twitter.com/dog_rates/status/890609185...                13   \n",
       "4  https://twitter.com/dog_rates/status/890006608...                13   \n",
       "\n",
       "   rating_denominator  retweet_count  favorite_count lang  year  negative  \\\n",
       "0                  10           3478           22045   en  2017  0.095379   \n",
       "1                  10           7224           36929   en  2017  0.032698   \n",
       "2                  10           7757           35308   en  2017  0.068925   \n",
       "3                  10           3619           24520   en  2017  0.364550   \n",
       "4                  10           6151           27033   en  2017  0.410193   \n",
       "\n",
       "    neutral  positive sentiment  \n",
       "0  0.668821  0.235800   neutral  \n",
       "1  0.371503  0.595800  positive  \n",
       "2  0.437913  0.493162  positive  \n",
       "3  0.502714  0.132736   neutral  \n",
       "4  0.395136  0.194671  negative  "
      ]
     },
     "execution_count": 80,
     "metadata": {},
     "output_type": "execute_result"
    }
   ],
   "source": [
    "df_tweet_data.head()"
   ]
  },
  {
   "cell_type": "code",
   "execution_count": 81,
   "id": "e6e88eae",
   "metadata": {},
   "outputs": [],
   "source": [
    "# Storing the sentiment analysed dataset \n",
    "df_tweet_data.to_csv('tweet_data_with_sentiments_Analysed.csv', index=False)"
   ]
  },
  {
   "cell_type": "markdown",
   "id": "5e963622",
   "metadata": {},
   "source": [
    "##### The most prevalent sentiment from our dataset."
   ]
  },
  {
   "cell_type": "code",
   "execution_count": 82,
   "id": "19048831",
   "metadata": {},
   "outputs": [
    {
     "data": {
      "text/plain": [
       "positive    515\n",
       "negative    297\n",
       "neutral     284\n",
       "Name: sentiment, dtype: int64"
      ]
     },
     "execution_count": 82,
     "metadata": {},
     "output_type": "execute_result"
    }
   ],
   "source": [
    "# value count of the sentiment column.\n",
    "prevalent_sentiment=df_tweet_data.sentiment.value_counts()\n",
    "prevalent_sentiment"
   ]
  },
  {
   "cell_type": "code",
   "execution_count": 83,
   "id": "c56fc515",
   "metadata": {},
   "outputs": [
    {
     "data": {
      "text/plain": [
       "positive    0.469891\n",
       "negative    0.270985\n",
       "neutral     0.259124\n",
       "Name: sentiment, dtype: float64"
      ]
     },
     "execution_count": 83,
     "metadata": {},
     "output_type": "execute_result"
    }
   ],
   "source": [
    "df_tweet_data.sentiment.value_counts(normalize = True)"
   ]
  },
  {
   "cell_type": "code",
   "execution_count": 84,
   "id": "4161107f",
   "metadata": {},
   "outputs": [
    {
     "data": {
      "image/png": "[encoded data removed]",
      "text/plain": [
       "<Figure size 432x288 with 1 Axes>"
      ]
     },
     "metadata": {},
     "output_type": "display_data"
    }
   ],
   "source": [
    "#plot a graph of count against the sentiment type.\n",
    "plotter(prevalent_sentiment,'bar','sentiment','count','count vs sentiment');"
   ]
  },
  {
   "cell_type": "markdown",
   "id": "5d1cfbeb",
   "metadata": {},
   "source": [
    "- It can be observed that 515 out of the 1096 tweets are on a positive note. that is, 46.9% of the total tweets analysed."
   ]
  },
  {
   "cell_type": "markdown",
   "id": "97f7548d",
   "metadata": {},
   "source": [
    "- Mean retweet_count per sentiment category.  "
   ]
  },
  {
   "cell_type": "code",
   "execution_count": 85,
   "id": "6369a528",
   "metadata": {},
   "outputs": [
    {
     "data": {
      "text/plain": [
       "sentiment\n",
       "negative    1955.104377\n",
       "neutral     1940.260563\n",
       "positive    2334.541748\n",
       "Name: retweet_count, dtype: float64"
      ]
     },
     "execution_count": 85,
     "metadata": {},
     "output_type": "execute_result"
    }
   ],
   "source": [
    "# mean of retweet count grouped by sentiment\n",
    "mean_retweet_count_by_sentiment = df_tweet_data.groupby('sentiment')['retweet_count'].mean()\n",
    "mean_retweet_count_by_sentiment "
   ]
  },
  {
   "cell_type": "code",
   "execution_count": 86,
   "id": "b197e222",
   "metadata": {},
   "outputs": [
    {
     "data": {
      "image/png": "[encoded data removed]",
      "text/plain": [
       "<Figure size 432x288 with 1 Axes>"
      ]
     },
     "metadata": {},
     "output_type": "display_data"
    }
   ],
   "source": [
    "# plot the mean of retweet count vs sentiment\n",
    "plotter(mean_retweet_count_by_sentiment,'bar','Sentiment','Mean of retweet_count','Mean of retweet_count vs sentiment');"
   ]
  },
  {
   "cell_type": "markdown",
   "id": "5d349c4d",
   "metadata": {},
   "source": [
    "- generally, tweets with positive sentiments tends to get more retweets and likes than tweets with neutral or negative sentiment\n",
    "- Tweets with neutral sentiment tends to get the least retweets and likes."
   ]
  },
  {
   "cell_type": "code",
   "execution_count": 87,
   "id": "ab5246f1",
   "metadata": {},
   "outputs": [
    {
     "data": {
      "text/html": [
       "<div>\n",
       "<style scoped>\n",
       "    .dataframe tbody tr th:only-of-type {\n",
       "        vertical-align: middle;\n",
       "    }\n",
       "\n",
       "    .dataframe tbody tr th {\n",
       "        vertical-align: top;\n",
       "    }\n",
       "\n",
       "    .dataframe thead th {\n",
       "        text-align: right;\n",
       "    }\n",
       "</style>\n",
       "<table border=\"1\" class=\"dataframe\">\n",
       "  <thead>\n",
       "    <tr style=\"text-align: right;\">\n",
       "      <th></th>\n",
       "      <th>tweet_id</th>\n",
       "      <th>rating_numerator</th>\n",
       "      <th>rating_denominator</th>\n",
       "      <th>retweet_count</th>\n",
       "      <th>favorite_count</th>\n",
       "      <th>year</th>\n",
       "      <th>negative</th>\n",
       "      <th>neutral</th>\n",
       "      <th>positive</th>\n",
       "    </tr>\n",
       "  </thead>\n",
       "  <tbody>\n",
       "    <tr>\n",
       "      <th>count</th>\n",
       "      <td>1.096000e+03</td>\n",
       "      <td>1096.000000</td>\n",
       "      <td>1096.0</td>\n",
       "      <td>1096.000000</td>\n",
       "      <td>1096.000000</td>\n",
       "      <td>1096.000000</td>\n",
       "      <td>1096.000000</td>\n",
       "      <td>1096.000000</td>\n",
       "      <td>1096.000000</td>\n",
       "    </tr>\n",
       "    <tr>\n",
       "      <th>mean</th>\n",
       "      <td>7.362894e+17</td>\n",
       "      <td>10.670620</td>\n",
       "      <td>10.0</td>\n",
       "      <td>2129.552007</td>\n",
       "      <td>7551.432482</td>\n",
       "      <td>2015.847628</td>\n",
       "      <td>0.261360</td>\n",
       "      <td>0.289408</td>\n",
       "      <td>0.449232</td>\n",
       "    </tr>\n",
       "    <tr>\n",
       "      <th>std</th>\n",
       "      <td>6.720513e+16</td>\n",
       "      <td>2.029934</td>\n",
       "      <td>0.0</td>\n",
       "      <td>3454.215906</td>\n",
       "      <td>10530.418482</td>\n",
       "      <td>0.684835</td>\n",
       "      <td>0.317869</td>\n",
       "      <td>0.213850</td>\n",
       "      <td>0.369335</td>\n",
       "    </tr>\n",
       "    <tr>\n",
       "      <th>min</th>\n",
       "      <td>6.660293e+17</td>\n",
       "      <td>0.000000</td>\n",
       "      <td>10.0</td>\n",
       "      <td>11.000000</td>\n",
       "      <td>66.000000</td>\n",
       "      <td>2015.000000</td>\n",
       "      <td>0.000664</td>\n",
       "      <td>0.006090</td>\n",
       "      <td>0.002459</td>\n",
       "    </tr>\n",
       "    <tr>\n",
       "      <th>25%</th>\n",
       "      <td>6.758663e+17</td>\n",
       "      <td>10.000000</td>\n",
       "      <td>10.0</td>\n",
       "      <td>480.250000</td>\n",
       "      <td>1659.000000</td>\n",
       "      <td>2015.000000</td>\n",
       "      <td>0.005400</td>\n",
       "      <td>0.089217</td>\n",
       "      <td>0.081997</td>\n",
       "    </tr>\n",
       "    <tr>\n",
       "      <th>50%</th>\n",
       "      <td>7.095427e+17</td>\n",
       "      <td>11.000000</td>\n",
       "      <td>10.0</td>\n",
       "      <td>1094.500000</td>\n",
       "      <td>3526.000000</td>\n",
       "      <td>2016.000000</td>\n",
       "      <td>0.080149</td>\n",
       "      <td>0.265689</td>\n",
       "      <td>0.392334</td>\n",
       "    </tr>\n",
       "    <tr>\n",
       "      <th>75%</th>\n",
       "      <td>7.866760e+17</td>\n",
       "      <td>12.000000</td>\n",
       "      <td>10.0</td>\n",
       "      <td>2530.250000</td>\n",
       "      <td>9310.750000</td>\n",
       "      <td>2016.000000</td>\n",
       "      <td>0.491033</td>\n",
       "      <td>0.451155</td>\n",
       "      <td>0.843200</td>\n",
       "    </tr>\n",
       "    <tr>\n",
       "      <th>max</th>\n",
       "      <td>8.918152e+17</td>\n",
       "      <td>14.000000</td>\n",
       "      <td>10.0</td>\n",
       "      <td>51663.000000</td>\n",
       "      <td>111681.000000</td>\n",
       "      <td>2017.000000</td>\n",
       "      <td>0.978529</td>\n",
       "      <td>0.876490</td>\n",
       "      <td>0.992235</td>\n",
       "    </tr>\n",
       "  </tbody>\n",
       "</table>\n",
       "</div>"
      ],
      "text/plain": [
       "           tweet_id  rating_numerator  rating_denominator  retweet_count  \\\n",
       "count  1.096000e+03       1096.000000              1096.0    1096.000000   \n",
       "mean   7.362894e+17         10.670620                10.0    2129.552007   \n",
       "std    6.720513e+16          2.029934                 0.0    3454.215906   \n",
       "min    6.660293e+17          0.000000                10.0      11.000000   \n",
       "25%    6.758663e+17         10.000000                10.0     480.250000   \n",
       "50%    7.095427e+17         11.000000                10.0    1094.500000   \n",
       "75%    7.866760e+17         12.000000                10.0    2530.250000   \n",
       "max    8.918152e+17         14.000000                10.0   51663.000000   \n",
       "\n",
       "       favorite_count         year     negative      neutral     positive  \n",
       "count     1096.000000  1096.000000  1096.000000  1096.000000  1096.000000  \n",
       "mean      7551.432482  2015.847628     0.261360     0.289408     0.449232  \n",
       "std      10530.418482     0.684835     0.317869     0.213850     0.369335  \n",
       "min         66.000000  2015.000000     0.000664     0.006090     0.002459  \n",
       "25%       1659.000000  2015.000000     0.005400     0.089217     0.081997  \n",
       "50%       3526.000000  2016.000000     0.080149     0.265689     0.392334  \n",
       "75%       9310.750000  2016.000000     0.491033     0.451155     0.843200  \n",
       "max     111681.000000  2017.000000     0.978529     0.876490     0.992235  "
      ]
     },
     "execution_count": 87,
     "metadata": {},
     "output_type": "execute_result"
    }
   ],
   "source": [
    "df_tweet_data.describe()"
   ]
  },
  {
   "cell_type": "markdown",
   "id": "9157c018",
   "metadata": {},
   "source": [
    "- **here is the max value for each of the sentiment ratings**\n",
    "-  Max negative rating= 0.978529\n",
    "-  Max neutral rating= 0.876490\n",
    "-  Max positive rating= 0.992235"
   ]
  },
  {
   "cell_type": "markdown",
   "id": "c86c8e49",
   "metadata": {},
   "source": [
    "#### The most positive tweets\n"
   ]
  },
  {
   "cell_type": "code",
   "execution_count": 88,
   "id": "54f989ee",
   "metadata": {},
   "outputs": [
    {
     "data": {
      "text/html": [
       "<div>\n",
       "<style scoped>\n",
       "    .dataframe tbody tr th:only-of-type {\n",
       "        vertical-align: middle;\n",
       "    }\n",
       "\n",
       "    .dataframe tbody tr th {\n",
       "        vertical-align: top;\n",
       "    }\n",
       "\n",
       "    .dataframe thead th {\n",
       "        text-align: right;\n",
       "    }\n",
       "</style>\n",
       "<table border=\"1\" class=\"dataframe\">\n",
       "  <thead>\n",
       "    <tr style=\"text-align: right;\">\n",
       "      <th></th>\n",
       "      <th>tweet_id</th>\n",
       "      <th>timestamp</th>\n",
       "      <th>source</th>\n",
       "      <th>text</th>\n",
       "      <th>expanded_urls</th>\n",
       "      <th>rating_numerator</th>\n",
       "      <th>rating_denominator</th>\n",
       "      <th>retweet_count</th>\n",
       "      <th>favorite_count</th>\n",
       "      <th>lang</th>\n",
       "      <th>year</th>\n",
       "      <th>negative</th>\n",
       "      <th>neutral</th>\n",
       "      <th>positive</th>\n",
       "      <th>sentiment</th>\n",
       "    </tr>\n",
       "  </thead>\n",
       "  <tbody>\n",
       "    <tr>\n",
       "      <th>935</th>\n",
       "      <td>686730991906516992</td>\n",
       "      <td>2016-01-12 02:06:41+00:00</td>\n",
       "      <td>Twitter for iPhone</td>\n",
       "      <td>I just love this picture. 12/10 lovely af http...</td>\n",
       "      <td>https://twitter.com/dog_rates/status/686730991...</td>\n",
       "      <td>12</td>\n",
       "      <td>10</td>\n",
       "      <td>1093</td>\n",
       "      <td>3814</td>\n",
       "      <td>en</td>\n",
       "      <td>2016</td>\n",
       "      <td>0.001675</td>\n",
       "      <td>0.006090</td>\n",
       "      <td>0.992235</td>\n",
       "      <td>positive</td>\n",
       "    </tr>\n",
       "    <tr>\n",
       "      <th>950</th>\n",
       "      <td>681231109724700672</td>\n",
       "      <td>2015-12-27 21:52:07+00:00</td>\n",
       "      <td>Twitter for iPhone</td>\n",
       "      <td>I just love this pic. 11/10 this pupper is goi...</td>\n",
       "      <td>https://twitter.com/dog_rates/status/681231109...</td>\n",
       "      <td>11</td>\n",
       "      <td>10</td>\n",
       "      <td>441</td>\n",
       "      <td>2243</td>\n",
       "      <td>en</td>\n",
       "      <td>2015</td>\n",
       "      <td>0.001142</td>\n",
       "      <td>0.007505</td>\n",
       "      <td>0.991353</td>\n",
       "      <td>positive</td>\n",
       "    </tr>\n",
       "    <tr>\n",
       "      <th>959</th>\n",
       "      <td>678399652199309312</td>\n",
       "      <td>2015-12-20 02:20:55+00:00</td>\n",
       "      <td>Twitter for iPhone</td>\n",
       "      <td>This made my day. 12/10 please enjoy https://t...</td>\n",
       "      <td>https://twitter.com/dog_rates/status/678399652...</td>\n",
       "      <td>12</td>\n",
       "      <td>10</td>\n",
       "      <td>28586</td>\n",
       "      <td>73527</td>\n",
       "      <td>en</td>\n",
       "      <td>2015</td>\n",
       "      <td>0.001166</td>\n",
       "      <td>0.007840</td>\n",
       "      <td>0.990994</td>\n",
       "      <td>positive</td>\n",
       "    </tr>\n",
       "    <tr>\n",
       "      <th>1017</th>\n",
       "      <td>671561002136281088</td>\n",
       "      <td>2015-12-01 05:26:34+00:00</td>\n",
       "      <td>Twitter for iPhone</td>\n",
       "      <td>This is the best thing I've ever seen so sprea...</td>\n",
       "      <td>https://twitter.com/dog_rates/status/671561002...</td>\n",
       "      <td>13</td>\n",
       "      <td>10</td>\n",
       "      <td>6324</td>\n",
       "      <td>11395</td>\n",
       "      <td>en</td>\n",
       "      <td>2015</td>\n",
       "      <td>0.001328</td>\n",
       "      <td>0.008596</td>\n",
       "      <td>0.990077</td>\n",
       "      <td>positive</td>\n",
       "    </tr>\n",
       "    <tr>\n",
       "      <th>1061</th>\n",
       "      <td>666102155909144576</td>\n",
       "      <td>2015-11-16 03:55:04+00:00</td>\n",
       "      <td>Twitter for iPhone</td>\n",
       "      <td>Oh my. Here you are seeing an Adobe Setter giv...</td>\n",
       "      <td>https://twitter.com/dog_rates/status/666102155...</td>\n",
       "      <td>11</td>\n",
       "      <td>10</td>\n",
       "      <td>11</td>\n",
       "      <td>66</td>\n",
       "      <td>en</td>\n",
       "      <td>2015</td>\n",
       "      <td>0.001254</td>\n",
       "      <td>0.008944</td>\n",
       "      <td>0.989801</td>\n",
       "      <td>positive</td>\n",
       "    </tr>\n",
       "  </tbody>\n",
       "</table>\n",
       "</div>"
      ],
      "text/plain": [
       "                tweet_id                 timestamp              source  \\\n",
       "935   686730991906516992 2016-01-12 02:06:41+00:00  Twitter for iPhone   \n",
       "950   681231109724700672 2015-12-27 21:52:07+00:00  Twitter for iPhone   \n",
       "959   678399652199309312 2015-12-20 02:20:55+00:00  Twitter for iPhone   \n",
       "1017  671561002136281088 2015-12-01 05:26:34+00:00  Twitter for iPhone   \n",
       "1061  666102155909144576 2015-11-16 03:55:04+00:00  Twitter for iPhone   \n",
       "\n",
       "                                                   text  \\\n",
       "935   I just love this picture. 12/10 lovely af http...   \n",
       "950   I just love this pic. 11/10 this pupper is goi...   \n",
       "959   This made my day. 12/10 please enjoy https://t...   \n",
       "1017  This is the best thing I've ever seen so sprea...   \n",
       "1061  Oh my. Here you are seeing an Adobe Setter giv...   \n",
       "\n",
       "                                          expanded_urls  rating_numerator  \\\n",
       "935   https://twitter.com/dog_rates/status/686730991...                12   \n",
       "950   https://twitter.com/dog_rates/status/681231109...                11   \n",
       "959   https://twitter.com/dog_rates/status/678399652...                12   \n",
       "1017  https://twitter.com/dog_rates/status/671561002...                13   \n",
       "1061  https://twitter.com/dog_rates/status/666102155...                11   \n",
       "\n",
       "      rating_denominator  retweet_count  favorite_count lang  year  negative  \\\n",
       "935                   10           1093            3814   en  2016  0.001675   \n",
       "950                   10            441            2243   en  2015  0.001142   \n",
       "959                   10          28586           73527   en  2015  0.001166   \n",
       "1017                  10           6324           11395   en  2015  0.001328   \n",
       "1061                  10             11              66   en  2015  0.001254   \n",
       "\n",
       "       neutral  positive sentiment  \n",
       "935   0.006090  0.992235  positive  \n",
       "950   0.007505  0.991353  positive  \n",
       "959   0.007840  0.990994  positive  \n",
       "1017  0.008596  0.990077  positive  \n",
       "1061  0.008944  0.989801  positive  "
      ]
     },
     "execution_count": 88,
     "metadata": {},
     "output_type": "execute_result"
    }
   ],
   "source": [
    "# The 5 best rated positive tweets by the roberta model\n",
    "most_positive = df_tweet_data.sort_values(by='positive',ascending=False).head()\n",
    "\n",
    "most_positive"
   ]
  },
  {
   "cell_type": "markdown",
   "id": "43daf957",
   "metadata": {},
   "source": [
    "#### The most negative tweets\n"
   ]
  },
  {
   "cell_type": "code",
   "execution_count": 89,
   "id": "0f55889b",
   "metadata": {},
   "outputs": [
    {
     "data": {
      "text/html": [
       "<div>\n",
       "<style scoped>\n",
       "    .dataframe tbody tr th:only-of-type {\n",
       "        vertical-align: middle;\n",
       "    }\n",
       "\n",
       "    .dataframe tbody tr th {\n",
       "        vertical-align: top;\n",
       "    }\n",
       "\n",
       "    .dataframe thead th {\n",
       "        text-align: right;\n",
       "    }\n",
       "</style>\n",
       "<table border=\"1\" class=\"dataframe\">\n",
       "  <thead>\n",
       "    <tr style=\"text-align: right;\">\n",
       "      <th></th>\n",
       "      <th>tweet_id</th>\n",
       "      <th>timestamp</th>\n",
       "      <th>source</th>\n",
       "      <th>text</th>\n",
       "      <th>expanded_urls</th>\n",
       "      <th>rating_numerator</th>\n",
       "      <th>rating_denominator</th>\n",
       "      <th>retweet_count</th>\n",
       "      <th>favorite_count</th>\n",
       "      <th>lang</th>\n",
       "      <th>year</th>\n",
       "      <th>negative</th>\n",
       "      <th>neutral</th>\n",
       "      <th>positive</th>\n",
       "      <th>sentiment</th>\n",
       "    </tr>\n",
       "  </thead>\n",
       "  <tbody>\n",
       "    <tr>\n",
       "      <th>574</th>\n",
       "      <td>678798276842360832</td>\n",
       "      <td>2015-12-21 04:44:55+00:00</td>\n",
       "      <td>Twitter for iPhone</td>\n",
       "      <td>This is Linda. She fucking hates trees. 7/10 h...</td>\n",
       "      <td>https://twitter.com/dog_rates/status/678798276...</td>\n",
       "      <td>7</td>\n",
       "      <td>10</td>\n",
       "      <td>1030</td>\n",
       "      <td>3166</td>\n",
       "      <td>en</td>\n",
       "      <td>2015</td>\n",
       "      <td>0.978529</td>\n",
       "      <td>0.018430</td>\n",
       "      <td>0.003042</td>\n",
       "      <td>negative</td>\n",
       "    </tr>\n",
       "    <tr>\n",
       "      <th>169</th>\n",
       "      <td>806219024703037440</td>\n",
       "      <td>2016-12-06 19:29:28+00:00</td>\n",
       "      <td>Twitter for iPhone</td>\n",
       "      <td>We only rate dogs. Please stop sending in non-...</td>\n",
       "      <td>https://twitter.com/dog_rates/status/806219024...</td>\n",
       "      <td>11</td>\n",
       "      <td>10</td>\n",
       "      <td>1134</td>\n",
       "      <td>6133</td>\n",
       "      <td>en</td>\n",
       "      <td>2016</td>\n",
       "      <td>0.974866</td>\n",
       "      <td>0.022647</td>\n",
       "      <td>0.002487</td>\n",
       "      <td>negative</td>\n",
       "    </tr>\n",
       "    <tr>\n",
       "      <th>293</th>\n",
       "      <td>758854675097526272</td>\n",
       "      <td>2016-07-29 02:40:28+00:00</td>\n",
       "      <td>Twitter for iPhone</td>\n",
       "      <td>This is Lilli Bee &amp;amp; Honey Bear. Unfortunat...</td>\n",
       "      <td>https://twitter.com/dog_rates/status/758854675...</td>\n",
       "      <td>11</td>\n",
       "      <td>10</td>\n",
       "      <td>842</td>\n",
       "      <td>3327</td>\n",
       "      <td>en</td>\n",
       "      <td>2016</td>\n",
       "      <td>0.973334</td>\n",
       "      <td>0.023941</td>\n",
       "      <td>0.002726</td>\n",
       "      <td>negative</td>\n",
       "    </tr>\n",
       "    <tr>\n",
       "      <th>6</th>\n",
       "      <td>889278841981685760</td>\n",
       "      <td>2017-07-24 00:19:32+00:00</td>\n",
       "      <td>Twitter for iPhone</td>\n",
       "      <td>This is Oliver. You're witnessing one of his m...</td>\n",
       "      <td>https://twitter.com/dog_rates/status/889278841...</td>\n",
       "      <td>13</td>\n",
       "      <td>10</td>\n",
       "      <td>4443</td>\n",
       "      <td>22113</td>\n",
       "      <td>en</td>\n",
       "      <td>2017</td>\n",
       "      <td>0.973250</td>\n",
       "      <td>0.024291</td>\n",
       "      <td>0.002459</td>\n",
       "      <td>negative</td>\n",
       "    </tr>\n",
       "    <tr>\n",
       "      <th>238</th>\n",
       "      <td>779834332596887552</td>\n",
       "      <td>2016-09-25 00:06:08+00:00</td>\n",
       "      <td>Twitter for iPhone</td>\n",
       "      <td>This is Scout. He really wants to kiss himself...</td>\n",
       "      <td>https://twitter.com/dog_rates/status/779834332...</td>\n",
       "      <td>11</td>\n",
       "      <td>10</td>\n",
       "      <td>6504</td>\n",
       "      <td>17772</td>\n",
       "      <td>en</td>\n",
       "      <td>2016</td>\n",
       "      <td>0.972829</td>\n",
       "      <td>0.024387</td>\n",
       "      <td>0.002785</td>\n",
       "      <td>negative</td>\n",
       "    </tr>\n",
       "  </tbody>\n",
       "</table>\n",
       "</div>"
      ],
      "text/plain": [
       "               tweet_id                 timestamp              source  \\\n",
       "574  678798276842360832 2015-12-21 04:44:55+00:00  Twitter for iPhone   \n",
       "169  806219024703037440 2016-12-06 19:29:28+00:00  Twitter for iPhone   \n",
       "293  758854675097526272 2016-07-29 02:40:28+00:00  Twitter for iPhone   \n",
       "6    889278841981685760 2017-07-24 00:19:32+00:00  Twitter for iPhone   \n",
       "238  779834332596887552 2016-09-25 00:06:08+00:00  Twitter for iPhone   \n",
       "\n",
       "                                                  text  \\\n",
       "574  This is Linda. She fucking hates trees. 7/10 h...   \n",
       "169  We only rate dogs. Please stop sending in non-...   \n",
       "293  This is Lilli Bee &amp; Honey Bear. Unfortunat...   \n",
       "6    This is Oliver. You're witnessing one of his m...   \n",
       "238  This is Scout. He really wants to kiss himself...   \n",
       "\n",
       "                                         expanded_urls  rating_numerator  \\\n",
       "574  https://twitter.com/dog_rates/status/678798276...                 7   \n",
       "169  https://twitter.com/dog_rates/status/806219024...                11   \n",
       "293  https://twitter.com/dog_rates/status/758854675...                11   \n",
       "6    https://twitter.com/dog_rates/status/889278841...                13   \n",
       "238  https://twitter.com/dog_rates/status/779834332...                11   \n",
       "\n",
       "     rating_denominator  retweet_count  favorite_count lang  year  negative  \\\n",
       "574                  10           1030            3166   en  2015  0.978529   \n",
       "169                  10           1134            6133   en  2016  0.974866   \n",
       "293                  10            842            3327   en  2016  0.973334   \n",
       "6                    10           4443           22113   en  2017  0.973250   \n",
       "238                  10           6504           17772   en  2016  0.972829   \n",
       "\n",
       "      neutral  positive sentiment  \n",
       "574  0.018430  0.003042  negative  \n",
       "169  0.022647  0.002487  negative  \n",
       "293  0.023941  0.002726  negative  \n",
       "6    0.024291  0.002459  negative  \n",
       "238  0.024387  0.002785  negative  "
      ]
     },
     "execution_count": 89,
     "metadata": {},
     "output_type": "execute_result"
    }
   ],
   "source": [
    "# The 5 best rated negative tweets by the roberta model\n",
    "most_negative = df_tweet_data.sort_values(by='negative', ascending=False).head()\n",
    "most_negative\n"
   ]
  },
  {
   "cell_type": "markdown",
   "id": "3eeb0e5c",
   "metadata": {},
   "source": [
    "#### The most neutral tweets"
   ]
  },
  {
   "cell_type": "code",
   "execution_count": 90,
   "id": "7a27c48d",
   "metadata": {},
   "outputs": [
    {
     "data": {
      "text/html": [
       "<div>\n",
       "<style scoped>\n",
       "    .dataframe tbody tr th:only-of-type {\n",
       "        vertical-align: middle;\n",
       "    }\n",
       "\n",
       "    .dataframe tbody tr th {\n",
       "        vertical-align: top;\n",
       "    }\n",
       "\n",
       "    .dataframe thead th {\n",
       "        text-align: right;\n",
       "    }\n",
       "</style>\n",
       "<table border=\"1\" class=\"dataframe\">\n",
       "  <thead>\n",
       "    <tr style=\"text-align: right;\">\n",
       "      <th></th>\n",
       "      <th>tweet_id</th>\n",
       "      <th>timestamp</th>\n",
       "      <th>source</th>\n",
       "      <th>text</th>\n",
       "      <th>expanded_urls</th>\n",
       "      <th>rating_numerator</th>\n",
       "      <th>rating_denominator</th>\n",
       "      <th>retweet_count</th>\n",
       "      <th>favorite_count</th>\n",
       "      <th>lang</th>\n",
       "      <th>year</th>\n",
       "      <th>negative</th>\n",
       "      <th>neutral</th>\n",
       "      <th>positive</th>\n",
       "      <th>sentiment</th>\n",
       "    </tr>\n",
       "  </thead>\n",
       "  <tbody>\n",
       "    <tr>\n",
       "      <th>686</th>\n",
       "      <td>670421925039075328</td>\n",
       "      <td>2015-11-28 02:00:17+00:00</td>\n",
       "      <td>Twitter for iPhone</td>\n",
       "      <td>Meet Herb. 12/10 https://t.co/tLRyYvCci3</td>\n",
       "      <td>https://twitter.com/dog_rates/status/670421925...</td>\n",
       "      <td>12</td>\n",
       "      <td>10</td>\n",
       "      <td>552</td>\n",
       "      <td>1148</td>\n",
       "      <td>en</td>\n",
       "      <td>2015</td>\n",
       "      <td>0.012504</td>\n",
       "      <td>0.876490</td>\n",
       "      <td>0.111006</td>\n",
       "      <td>neutral</td>\n",
       "    </tr>\n",
       "    <tr>\n",
       "      <th>1050</th>\n",
       "      <td>667044094246576128</td>\n",
       "      <td>2015-11-18 18:17:59+00:00</td>\n",
       "      <td>Twitter for iPhone</td>\n",
       "      <td>12/10 gimme now https://t.co/QZAnwgnOMB</td>\n",
       "      <td>https://twitter.com/dog_rates/status/667044094...</td>\n",
       "      <td>12</td>\n",
       "      <td>10</td>\n",
       "      <td>43</td>\n",
       "      <td>163</td>\n",
       "      <td>en</td>\n",
       "      <td>2015</td>\n",
       "      <td>0.070635</td>\n",
       "      <td>0.862236</td>\n",
       "      <td>0.067130</td>\n",
       "      <td>neutral</td>\n",
       "    </tr>\n",
       "    <tr>\n",
       "      <th>1031</th>\n",
       "      <td>670319130621435904</td>\n",
       "      <td>2015-11-27 19:11:49+00:00</td>\n",
       "      <td>Twitter for iPhone</td>\n",
       "      <td>AT DAWN...\\nWE RIDE\\n\\n11/10 https://t.co/QnfO...</td>\n",
       "      <td>https://twitter.com/dog_rates/status/670319130...</td>\n",
       "      <td>11</td>\n",
       "      <td>10</td>\n",
       "      <td>1067</td>\n",
       "      <td>3470</td>\n",
       "      <td>en</td>\n",
       "      <td>2015</td>\n",
       "      <td>0.057551</td>\n",
       "      <td>0.861079</td>\n",
       "      <td>0.081370</td>\n",
       "      <td>neutral</td>\n",
       "    </tr>\n",
       "    <tr>\n",
       "      <th>994</th>\n",
       "      <td>674790488185167872</td>\n",
       "      <td>2015-12-10 03:19:24+00:00</td>\n",
       "      <td>Twitter for iPhone</td>\n",
       "      <td>ER... MER... GERD 13/10 https://t.co/L1puJISV1a</td>\n",
       "      <td>https://twitter.com/dog_rates/status/674790488...</td>\n",
       "      <td>13</td>\n",
       "      <td>10</td>\n",
       "      <td>219</td>\n",
       "      <td>986</td>\n",
       "      <td>nl</td>\n",
       "      <td>2015</td>\n",
       "      <td>0.060725</td>\n",
       "      <td>0.859460</td>\n",
       "      <td>0.079816</td>\n",
       "      <td>neutral</td>\n",
       "    </tr>\n",
       "    <tr>\n",
       "      <th>1076</th>\n",
       "      <td>677716515794329600</td>\n",
       "      <td>2015-12-18 05:06:23+00:00</td>\n",
       "      <td>Twitter for iPhone</td>\n",
       "      <td>IT'S PUPPERGEDDON. Total of 144/120 ...I think...</td>\n",
       "      <td>https://twitter.com/dog_rates/status/677716515...</td>\n",
       "      <td>0</td>\n",
       "      <td>10</td>\n",
       "      <td>877</td>\n",
       "      <td>2785</td>\n",
       "      <td>en</td>\n",
       "      <td>2015</td>\n",
       "      <td>0.054110</td>\n",
       "      <td>0.841782</td>\n",
       "      <td>0.104108</td>\n",
       "      <td>neutral</td>\n",
       "    </tr>\n",
       "  </tbody>\n",
       "</table>\n",
       "</div>"
      ],
      "text/plain": [
       "                tweet_id                 timestamp              source  \\\n",
       "686   670421925039075328 2015-11-28 02:00:17+00:00  Twitter for iPhone   \n",
       "1050  667044094246576128 2015-11-18 18:17:59+00:00  Twitter for iPhone   \n",
       "1031  670319130621435904 2015-11-27 19:11:49+00:00  Twitter for iPhone   \n",
       "994   674790488185167872 2015-12-10 03:19:24+00:00  Twitter for iPhone   \n",
       "1076  677716515794329600 2015-12-18 05:06:23+00:00  Twitter for iPhone   \n",
       "\n",
       "                                                   text  \\\n",
       "686            Meet Herb. 12/10 https://t.co/tLRyYvCci3   \n",
       "1050            12/10 gimme now https://t.co/QZAnwgnOMB   \n",
       "1031  AT DAWN...\\nWE RIDE\\n\\n11/10 https://t.co/QnfO...   \n",
       "994     ER... MER... GERD 13/10 https://t.co/L1puJISV1a   \n",
       "1076  IT'S PUPPERGEDDON. Total of 144/120 ...I think...   \n",
       "\n",
       "                                          expanded_urls  rating_numerator  \\\n",
       "686   https://twitter.com/dog_rates/status/670421925...                12   \n",
       "1050  https://twitter.com/dog_rates/status/667044094...                12   \n",
       "1031  https://twitter.com/dog_rates/status/670319130...                11   \n",
       "994   https://twitter.com/dog_rates/status/674790488...                13   \n",
       "1076  https://twitter.com/dog_rates/status/677716515...                 0   \n",
       "\n",
       "      rating_denominator  retweet_count  favorite_count lang  year  negative  \\\n",
       "686                   10            552            1148   en  2015  0.012504   \n",
       "1050                  10             43             163   en  2015  0.070635   \n",
       "1031                  10           1067            3470   en  2015  0.057551   \n",
       "994                   10            219             986   nl  2015  0.060725   \n",
       "1076                  10            877            2785   en  2015  0.054110   \n",
       "\n",
       "       neutral  positive sentiment  \n",
       "686   0.876490  0.111006   neutral  \n",
       "1050  0.862236  0.067130   neutral  \n",
       "1031  0.861079  0.081370   neutral  \n",
       "994   0.859460  0.079816   neutral  \n",
       "1076  0.841782  0.104108   neutral  "
      ]
     },
     "execution_count": 90,
     "metadata": {},
     "output_type": "execute_result"
    }
   ],
   "source": [
    "# The 5 best rated neutral tweets by the roberta model\n",
    "most_neutral = df_tweet_data.sort_values(by='neutral', ascending=False).head()\n",
    "most_neutral"
   ]
  },
  {
   "cell_type": "markdown",
   "id": "42268e1b",
   "metadata": {},
   "source": [
    "#### The best in class tweets"
   ]
  },
  {
   "cell_type": "code",
   "execution_count": 91,
   "id": "90e1b5dc",
   "metadata": {},
   "outputs": [],
   "source": [
    "best_in_class_tweets = pd.concat([most_negative,most_neutral,most_positive], ignore_index=True)"
   ]
  },
  {
   "cell_type": "code",
   "execution_count": 92,
   "id": "a6c3a6aa",
   "metadata": {},
   "outputs": [
    {
     "data": {
      "text/html": [
       "<div>\n",
       "<style scoped>\n",
       "    .dataframe tbody tr th:only-of-type {\n",
       "        vertical-align: middle;\n",
       "    }\n",
       "\n",
       "    .dataframe tbody tr th {\n",
       "        vertical-align: top;\n",
       "    }\n",
       "\n",
       "    .dataframe thead th {\n",
       "        text-align: right;\n",
       "    }\n",
       "</style>\n",
       "<table border=\"1\" class=\"dataframe\">\n",
       "  <thead>\n",
       "    <tr style=\"text-align: right;\">\n",
       "      <th></th>\n",
       "      <th>tweet_id</th>\n",
       "      <th>timestamp</th>\n",
       "      <th>source</th>\n",
       "      <th>text</th>\n",
       "      <th>expanded_urls</th>\n",
       "      <th>rating_numerator</th>\n",
       "      <th>rating_denominator</th>\n",
       "      <th>retweet_count</th>\n",
       "      <th>favorite_count</th>\n",
       "      <th>lang</th>\n",
       "      <th>year</th>\n",
       "      <th>negative</th>\n",
       "      <th>neutral</th>\n",
       "      <th>positive</th>\n",
       "      <th>sentiment</th>\n",
       "    </tr>\n",
       "  </thead>\n",
       "  <tbody>\n",
       "    <tr>\n",
       "      <th>0</th>\n",
       "      <td>678798276842360832</td>\n",
       "      <td>2015-12-21 04:44:55+00:00</td>\n",
       "      <td>Twitter for iPhone</td>\n",
       "      <td>This is Linda. She fucking hates trees. 7/10 h...</td>\n",
       "      <td>https://twitter.com/dog_rates/status/678798276...</td>\n",
       "      <td>7</td>\n",
       "      <td>10</td>\n",
       "      <td>1030</td>\n",
       "      <td>3166</td>\n",
       "      <td>en</td>\n",
       "      <td>2015</td>\n",
       "      <td>0.978529</td>\n",
       "      <td>0.018430</td>\n",
       "      <td>0.003042</td>\n",
       "      <td>negative</td>\n",
       "    </tr>\n",
       "    <tr>\n",
       "      <th>1</th>\n",
       "      <td>806219024703037440</td>\n",
       "      <td>2016-12-06 19:29:28+00:00</td>\n",
       "      <td>Twitter for iPhone</td>\n",
       "      <td>We only rate dogs. Please stop sending in non-...</td>\n",
       "      <td>https://twitter.com/dog_rates/status/806219024...</td>\n",
       "      <td>11</td>\n",
       "      <td>10</td>\n",
       "      <td>1134</td>\n",
       "      <td>6133</td>\n",
       "      <td>en</td>\n",
       "      <td>2016</td>\n",
       "      <td>0.974866</td>\n",
       "      <td>0.022647</td>\n",
       "      <td>0.002487</td>\n",
       "      <td>negative</td>\n",
       "    </tr>\n",
       "    <tr>\n",
       "      <th>2</th>\n",
       "      <td>758854675097526272</td>\n",
       "      <td>2016-07-29 02:40:28+00:00</td>\n",
       "      <td>Twitter for iPhone</td>\n",
       "      <td>This is Lilli Bee &amp;amp; Honey Bear. Unfortunat...</td>\n",
       "      <td>https://twitter.com/dog_rates/status/758854675...</td>\n",
       "      <td>11</td>\n",
       "      <td>10</td>\n",
       "      <td>842</td>\n",
       "      <td>3327</td>\n",
       "      <td>en</td>\n",
       "      <td>2016</td>\n",
       "      <td>0.973334</td>\n",
       "      <td>0.023941</td>\n",
       "      <td>0.002726</td>\n",
       "      <td>negative</td>\n",
       "    </tr>\n",
       "    <tr>\n",
       "      <th>3</th>\n",
       "      <td>889278841981685760</td>\n",
       "      <td>2017-07-24 00:19:32+00:00</td>\n",
       "      <td>Twitter for iPhone</td>\n",
       "      <td>This is Oliver. You're witnessing one of his m...</td>\n",
       "      <td>https://twitter.com/dog_rates/status/889278841...</td>\n",
       "      <td>13</td>\n",
       "      <td>10</td>\n",
       "      <td>4443</td>\n",
       "      <td>22113</td>\n",
       "      <td>en</td>\n",
       "      <td>2017</td>\n",
       "      <td>0.973250</td>\n",
       "      <td>0.024291</td>\n",
       "      <td>0.002459</td>\n",
       "      <td>negative</td>\n",
       "    </tr>\n",
       "    <tr>\n",
       "      <th>4</th>\n",
       "      <td>779834332596887552</td>\n",
       "      <td>2016-09-25 00:06:08+00:00</td>\n",
       "      <td>Twitter for iPhone</td>\n",
       "      <td>This is Scout. He really wants to kiss himself...</td>\n",
       "      <td>https://twitter.com/dog_rates/status/779834332...</td>\n",
       "      <td>11</td>\n",
       "      <td>10</td>\n",
       "      <td>6504</td>\n",
       "      <td>17772</td>\n",
       "      <td>en</td>\n",
       "      <td>2016</td>\n",
       "      <td>0.972829</td>\n",
       "      <td>0.024387</td>\n",
       "      <td>0.002785</td>\n",
       "      <td>negative</td>\n",
       "    </tr>\n",
       "    <tr>\n",
       "      <th>5</th>\n",
       "      <td>670421925039075328</td>\n",
       "      <td>2015-11-28 02:00:17+00:00</td>\n",
       "      <td>Twitter for iPhone</td>\n",
       "      <td>Meet Herb. 12/10 https://t.co/tLRyYvCci3</td>\n",
       "      <td>https://twitter.com/dog_rates/status/670421925...</td>\n",
       "      <td>12</td>\n",
       "      <td>10</td>\n",
       "      <td>552</td>\n",
       "      <td>1148</td>\n",
       "      <td>en</td>\n",
       "      <td>2015</td>\n",
       "      <td>0.012504</td>\n",
       "      <td>0.876490</td>\n",
       "      <td>0.111006</td>\n",
       "      <td>neutral</td>\n",
       "    </tr>\n",
       "    <tr>\n",
       "      <th>6</th>\n",
       "      <td>667044094246576128</td>\n",
       "      <td>2015-11-18 18:17:59+00:00</td>\n",
       "      <td>Twitter for iPhone</td>\n",
       "      <td>12/10 gimme now https://t.co/QZAnwgnOMB</td>\n",
       "      <td>https://twitter.com/dog_rates/status/667044094...</td>\n",
       "      <td>12</td>\n",
       "      <td>10</td>\n",
       "      <td>43</td>\n",
       "      <td>163</td>\n",
       "      <td>en</td>\n",
       "      <td>2015</td>\n",
       "      <td>0.070635</td>\n",
       "      <td>0.862236</td>\n",
       "      <td>0.067130</td>\n",
       "      <td>neutral</td>\n",
       "    </tr>\n",
       "    <tr>\n",
       "      <th>7</th>\n",
       "      <td>670319130621435904</td>\n",
       "      <td>2015-11-27 19:11:49+00:00</td>\n",
       "      <td>Twitter for iPhone</td>\n",
       "      <td>AT DAWN...\\nWE RIDE\\n\\n11/10 https://t.co/QnfO...</td>\n",
       "      <td>https://twitter.com/dog_rates/status/670319130...</td>\n",
       "      <td>11</td>\n",
       "      <td>10</td>\n",
       "      <td>1067</td>\n",
       "      <td>3470</td>\n",
       "      <td>en</td>\n",
       "      <td>2015</td>\n",
       "      <td>0.057551</td>\n",
       "      <td>0.861079</td>\n",
       "      <td>0.081370</td>\n",
       "      <td>neutral</td>\n",
       "    </tr>\n",
       "    <tr>\n",
       "      <th>8</th>\n",
       "      <td>674790488185167872</td>\n",
       "      <td>2015-12-10 03:19:24+00:00</td>\n",
       "      <td>Twitter for iPhone</td>\n",
       "      <td>ER... MER... GERD 13/10 https://t.co/L1puJISV1a</td>\n",
       "      <td>https://twitter.com/dog_rates/status/674790488...</td>\n",
       "      <td>13</td>\n",
       "      <td>10</td>\n",
       "      <td>219</td>\n",
       "      <td>986</td>\n",
       "      <td>nl</td>\n",
       "      <td>2015</td>\n",
       "      <td>0.060725</td>\n",
       "      <td>0.859460</td>\n",
       "      <td>0.079816</td>\n",
       "      <td>neutral</td>\n",
       "    </tr>\n",
       "    <tr>\n",
       "      <th>9</th>\n",
       "      <td>677716515794329600</td>\n",
       "      <td>2015-12-18 05:06:23+00:00</td>\n",
       "      <td>Twitter for iPhone</td>\n",
       "      <td>IT'S PUPPERGEDDON. Total of 144/120 ...I think...</td>\n",
       "      <td>https://twitter.com/dog_rates/status/677716515...</td>\n",
       "      <td>0</td>\n",
       "      <td>10</td>\n",
       "      <td>877</td>\n",
       "      <td>2785</td>\n",
       "      <td>en</td>\n",
       "      <td>2015</td>\n",
       "      <td>0.054110</td>\n",
       "      <td>0.841782</td>\n",
       "      <td>0.104108</td>\n",
       "      <td>neutral</td>\n",
       "    </tr>\n",
       "    <tr>\n",
       "      <th>10</th>\n",
       "      <td>686730991906516992</td>\n",
       "      <td>2016-01-12 02:06:41+00:00</td>\n",
       "      <td>Twitter for iPhone</td>\n",
       "      <td>I just love this picture. 12/10 lovely af http...</td>\n",
       "      <td>https://twitter.com/dog_rates/status/686730991...</td>\n",
       "      <td>12</td>\n",
       "      <td>10</td>\n",
       "      <td>1093</td>\n",
       "      <td>3814</td>\n",
       "      <td>en</td>\n",
       "      <td>2016</td>\n",
       "      <td>0.001675</td>\n",
       "      <td>0.006090</td>\n",
       "      <td>0.992235</td>\n",
       "      <td>positive</td>\n",
       "    </tr>\n",
       "    <tr>\n",
       "      <th>11</th>\n",
       "      <td>681231109724700672</td>\n",
       "      <td>2015-12-27 21:52:07+00:00</td>\n",
       "      <td>Twitter for iPhone</td>\n",
       "      <td>I just love this pic. 11/10 this pupper is goi...</td>\n",
       "      <td>https://twitter.com/dog_rates/status/681231109...</td>\n",
       "      <td>11</td>\n",
       "      <td>10</td>\n",
       "      <td>441</td>\n",
       "      <td>2243</td>\n",
       "      <td>en</td>\n",
       "      <td>2015</td>\n",
       "      <td>0.001142</td>\n",
       "      <td>0.007505</td>\n",
       "      <td>0.991353</td>\n",
       "      <td>positive</td>\n",
       "    </tr>\n",
       "    <tr>\n",
       "      <th>12</th>\n",
       "      <td>678399652199309312</td>\n",
       "      <td>2015-12-20 02:20:55+00:00</td>\n",
       "      <td>Twitter for iPhone</td>\n",
       "      <td>This made my day. 12/10 please enjoy https://t...</td>\n",
       "      <td>https://twitter.com/dog_rates/status/678399652...</td>\n",
       "      <td>12</td>\n",
       "      <td>10</td>\n",
       "      <td>28586</td>\n",
       "      <td>73527</td>\n",
       "      <td>en</td>\n",
       "      <td>2015</td>\n",
       "      <td>0.001166</td>\n",
       "      <td>0.007840</td>\n",
       "      <td>0.990994</td>\n",
       "      <td>positive</td>\n",
       "    </tr>\n",
       "    <tr>\n",
       "      <th>13</th>\n",
       "      <td>671561002136281088</td>\n",
       "      <td>2015-12-01 05:26:34+00:00</td>\n",
       "      <td>Twitter for iPhone</td>\n",
       "      <td>This is the best thing I've ever seen so sprea...</td>\n",
       "      <td>https://twitter.com/dog_rates/status/671561002...</td>\n",
       "      <td>13</td>\n",
       "      <td>10</td>\n",
       "      <td>6324</td>\n",
       "      <td>11395</td>\n",
       "      <td>en</td>\n",
       "      <td>2015</td>\n",
       "      <td>0.001328</td>\n",
       "      <td>0.008596</td>\n",
       "      <td>0.990077</td>\n",
       "      <td>positive</td>\n",
       "    </tr>\n",
       "    <tr>\n",
       "      <th>14</th>\n",
       "      <td>666102155909144576</td>\n",
       "      <td>2015-11-16 03:55:04+00:00</td>\n",
       "      <td>Twitter for iPhone</td>\n",
       "      <td>Oh my. Here you are seeing an Adobe Setter giv...</td>\n",
       "      <td>https://twitter.com/dog_rates/status/666102155...</td>\n",
       "      <td>11</td>\n",
       "      <td>10</td>\n",
       "      <td>11</td>\n",
       "      <td>66</td>\n",
       "      <td>en</td>\n",
       "      <td>2015</td>\n",
       "      <td>0.001254</td>\n",
       "      <td>0.008944</td>\n",
       "      <td>0.989801</td>\n",
       "      <td>positive</td>\n",
       "    </tr>\n",
       "  </tbody>\n",
       "</table>\n",
       "</div>"
      ],
      "text/plain": [
       "              tweet_id                 timestamp              source  \\\n",
       "0   678798276842360832 2015-12-21 04:44:55+00:00  Twitter for iPhone   \n",
       "1   806219024703037440 2016-12-06 19:29:28+00:00  Twitter for iPhone   \n",
       "2   758854675097526272 2016-07-29 02:40:28+00:00  Twitter for iPhone   \n",
       "3   889278841981685760 2017-07-24 00:19:32+00:00  Twitter for iPhone   \n",
       "4   779834332596887552 2016-09-25 00:06:08+00:00  Twitter for iPhone   \n",
       "5   670421925039075328 2015-11-28 02:00:17+00:00  Twitter for iPhone   \n",
       "6   667044094246576128 2015-11-18 18:17:59+00:00  Twitter for iPhone   \n",
       "7   670319130621435904 2015-11-27 19:11:49+00:00  Twitter for iPhone   \n",
       "8   674790488185167872 2015-12-10 03:19:24+00:00  Twitter for iPhone   \n",
       "9   677716515794329600 2015-12-18 05:06:23+00:00  Twitter for iPhone   \n",
       "10  686730991906516992 2016-01-12 02:06:41+00:00  Twitter for iPhone   \n",
       "11  681231109724700672 2015-12-27 21:52:07+00:00  Twitter for iPhone   \n",
       "12  678399652199309312 2015-12-20 02:20:55+00:00  Twitter for iPhone   \n",
       "13  671561002136281088 2015-12-01 05:26:34+00:00  Twitter for iPhone   \n",
       "14  666102155909144576 2015-11-16 03:55:04+00:00  Twitter for iPhone   \n",
       "\n",
       "                                                 text  \\\n",
       "0   This is Linda. She fucking hates trees. 7/10 h...   \n",
       "1   We only rate dogs. Please stop sending in non-...   \n",
       "2   This is Lilli Bee &amp; Honey Bear. Unfortunat...   \n",
       "3   This is Oliver. You're witnessing one of his m...   \n",
       "4   This is Scout. He really wants to kiss himself...   \n",
       "5            Meet Herb. 12/10 https://t.co/tLRyYvCci3   \n",
       "6             12/10 gimme now https://t.co/QZAnwgnOMB   \n",
       "7   AT DAWN...\\nWE RIDE\\n\\n11/10 https://t.co/QnfO...   \n",
       "8     ER... MER... GERD 13/10 https://t.co/L1puJISV1a   \n",
       "9   IT'S PUPPERGEDDON. Total of 144/120 ...I think...   \n",
       "10  I just love this picture. 12/10 lovely af http...   \n",
       "11  I just love this pic. 11/10 this pupper is goi...   \n",
       "12  This made my day. 12/10 please enjoy https://t...   \n",
       "13  This is the best thing I've ever seen so sprea...   \n",
       "14  Oh my. Here you are seeing an Adobe Setter giv...   \n",
       "\n",
       "                                        expanded_urls  rating_numerator  \\\n",
       "0   https://twitter.com/dog_rates/status/678798276...                 7   \n",
       "1   https://twitter.com/dog_rates/status/806219024...                11   \n",
       "2   https://twitter.com/dog_rates/status/758854675...                11   \n",
       "3   https://twitter.com/dog_rates/status/889278841...                13   \n",
       "4   https://twitter.com/dog_rates/status/779834332...                11   \n",
       "5   https://twitter.com/dog_rates/status/670421925...                12   \n",
       "6   https://twitter.com/dog_rates/status/667044094...                12   \n",
       "7   https://twitter.com/dog_rates/status/670319130...                11   \n",
       "8   https://twitter.com/dog_rates/status/674790488...                13   \n",
       "9   https://twitter.com/dog_rates/status/677716515...                 0   \n",
       "10  https://twitter.com/dog_rates/status/686730991...                12   \n",
       "11  https://twitter.com/dog_rates/status/681231109...                11   \n",
       "12  https://twitter.com/dog_rates/status/678399652...                12   \n",
       "13  https://twitter.com/dog_rates/status/671561002...                13   \n",
       "14  https://twitter.com/dog_rates/status/666102155...                11   \n",
       "\n",
       "    rating_denominator  retweet_count  favorite_count lang  year  negative  \\\n",
       "0                   10           1030            3166   en  2015  0.978529   \n",
       "1                   10           1134            6133   en  2016  0.974866   \n",
       "2                   10            842            3327   en  2016  0.973334   \n",
       "3                   10           4443           22113   en  2017  0.973250   \n",
       "4                   10           6504           17772   en  2016  0.972829   \n",
       "5                   10            552            1148   en  2015  0.012504   \n",
       "6                   10             43             163   en  2015  0.070635   \n",
       "7                   10           1067            3470   en  2015  0.057551   \n",
       "8                   10            219             986   nl  2015  0.060725   \n",
       "9                   10            877            2785   en  2015  0.054110   \n",
       "10                  10           1093            3814   en  2016  0.001675   \n",
       "11                  10            441            2243   en  2015  0.001142   \n",
       "12                  10          28586           73527   en  2015  0.001166   \n",
       "13                  10           6324           11395   en  2015  0.001328   \n",
       "14                  10             11              66   en  2015  0.001254   \n",
       "\n",
       "     neutral  positive sentiment  \n",
       "0   0.018430  0.003042  negative  \n",
       "1   0.022647  0.002487  negative  \n",
       "2   0.023941  0.002726  negative  \n",
       "3   0.024291  0.002459  negative  \n",
       "4   0.024387  0.002785  negative  \n",
       "5   0.876490  0.111006   neutral  \n",
       "6   0.862236  0.067130   neutral  \n",
       "7   0.861079  0.081370   neutral  \n",
       "8   0.859460  0.079816   neutral  \n",
       "9   0.841782  0.104108   neutral  \n",
       "10  0.006090  0.992235  positive  \n",
       "11  0.007505  0.991353  positive  \n",
       "12  0.007840  0.990994  positive  \n",
       "13  0.008596  0.990077  positive  \n",
       "14  0.008944  0.989801  positive  "
      ]
     },
     "execution_count": 92,
     "metadata": {},
     "output_type": "execute_result"
    }
   ],
   "source": [
    "best_in_class_tweets"
   ]
  },
  {
   "cell_type": "code",
   "execution_count": 93,
   "id": "95c1aa5f",
   "metadata": {},
   "outputs": [],
   "source": [
    "# extracting the tweet_id from the tweet_id column of the best_in_class_tweets DataFrame.\n",
    "tweet_id=[]\n",
    "for tweet in best_in_class_tweets['tweet_id']:\n",
    "    tweet_id.append(tweet)"
   ]
  },
  {
   "cell_type": "code",
   "execution_count": 94,
   "id": "ceeb3345",
   "metadata": {},
   "outputs": [
    {
     "data": {
      "image/png": "[encoded data removed]",
      "text/plain": [
       "<Figure size 1080x576 with 1 Axes>"
      ]
     },
     "metadata": {},
     "output_type": "display_data"
    }
   ],
   "source": [
    "# plotting a barplot of the retweet_count by sentiment of the best_in_class_tweets DataFrame.\n",
    "plt.figure(figsize=(15,8))\n",
    "sns.barplot(x='retweet_count',y='tweet_id', data = best_in_class_tweets, hue='sentiment',order=tweet_id, orient='h' )\n",
    "plt.tick_params(axis='x',rotation=90)\n",
    "plt.title('retweet_count vs tweet_id for best_in_class of sentiment category ')\n",
    "plt.savefig('best_in_class_of_sentiment_category.png',dpi=200, bbox_inches='tight');"
   ]
  },
  {
   "cell_type": "markdown",
   "id": "92c59759",
   "metadata": {},
   "source": [
    "#### Some observation\n",
    "- The most retweeted positivey rated tweet was a tweet with tweet_id **678399652199309312** it has a retweet_count value of **28,631**. in the year **2015** where the mean retweet_count was **912.711048**\n",
    "- Negative tweets tend to get more retweets on average than neutral and positive tweets\n",
    "- Neutral tweets gets the least response from the audience as compared to postive and negative tweets."
   ]
  },
  {
   "cell_type": "markdown",
   "id": "c0d6d13c",
   "metadata": {},
   "source": [
    "####  Our star tweet\n",
    "- The tweet  **678399652199309312** is about "
   ]
  },
  {
   "cell_type": "code",
   "execution_count": 95,
   "id": "c8675df5",
   "metadata": {},
   "outputs": [],
   "source": [
    "df_star_tweet = df_image_data[df_image_data['tweet_id'].isin([678399652199309312])]"
   ]
  },
  {
   "cell_type": "code",
   "execution_count": 96,
   "id": "4f377f6c",
   "metadata": {},
   "outputs": [],
   "source": [
    "# the text from our star tweet.\n",
    "star_tweet=[]\n",
    "for text in best_in_class_tweets['text']:\n",
    "    star_tweet.append(text)"
   ]
  },
  {
   "cell_type": "code",
   "execution_count": 97,
   "id": "af8882e9",
   "metadata": {},
   "outputs": [
    {
     "data": {
      "text/plain": [
       "'This made my day. 12/10 please enjoy https://t.co/VRTbo3aAcm'"
      ]
     },
     "execution_count": 97,
     "metadata": {},
     "output_type": "execute_result"
    }
   ],
   "source": [
    "# the super text\n",
    "star_tweet[12]"
   ]
  },
  {
   "cell_type": "code",
   "execution_count": 98,
   "id": "80b35934",
   "metadata": {},
   "outputs": [
    {
     "data": {
      "text/plain": [
       "959    https://pbs.twimg.com/ext_tw_video_thumb/67839...\n",
       "Name: jpg_url, dtype: object"
      ]
     },
     "execution_count": 98,
     "metadata": {},
     "output_type": "execute_result"
    }
   ],
   "source": [
    "# The jpg_url for our star tweet\n",
    "df_star_tweet['jpg_url'].apply(lambda x: x) "
   ]
  },
  {
   "cell_type": "code",
   "execution_count": 99,
   "id": "80f8d0ab",
   "metadata": {},
   "outputs": [
    {
     "data": {
      "text/html": [
       "<div>\n",
       "<style scoped>\n",
       "    .dataframe tbody tr th:only-of-type {\n",
       "        vertical-align: middle;\n",
       "    }\n",
       "\n",
       "    .dataframe tbody tr th {\n",
       "        vertical-align: top;\n",
       "    }\n",
       "\n",
       "    .dataframe thead th {\n",
       "        text-align: right;\n",
       "    }\n",
       "</style>\n",
       "<table border=\"1\" class=\"dataframe\">\n",
       "  <thead>\n",
       "    <tr style=\"text-align: right;\">\n",
       "      <th></th>\n",
       "      <th>tweet_id</th>\n",
       "      <th>img_num</th>\n",
       "      <th>name</th>\n",
       "      <th>dog_growth_stage</th>\n",
       "      <th>img_resolution_MP</th>\n",
       "      <th>jpg_url</th>\n",
       "      <th>breed</th>\n",
       "    </tr>\n",
       "  </thead>\n",
       "  <tbody>\n",
       "    <tr>\n",
       "      <th>959</th>\n",
       "      <td>678399652199309312</td>\n",
       "      <td>1</td>\n",
       "      <td>none</td>\n",
       "      <td>none</td>\n",
       "      <td>0.41</td>\n",
       "      <td>https://pbs.twimg.com/ext_tw_video_thumb/67839...</td>\n",
       "      <td>great_pyrenees</td>\n",
       "    </tr>\n",
       "  </tbody>\n",
       "</table>\n",
       "</div>"
      ],
      "text/plain": [
       "               tweet_id  img_num  name dog_growth_stage  img_resolution_MP  \\\n",
       "959  678399652199309312        1  none             none               0.41   \n",
       "\n",
       "                                               jpg_url           breed  \n",
       "959  https://pbs.twimg.com/ext_tw_video_thumb/67839...  great_pyrenees  "
      ]
     },
     "execution_count": 99,
     "metadata": {},
     "output_type": "execute_result"
    }
   ],
   "source": [
    "# The image information about our star tweet\n",
    "df_image_data[df_image_data['tweet_id']==678399652199309312]"
   ]
  },
  {
   "cell_type": "markdown",
   "id": "1107c0aa",
   "metadata": {},
   "source": [
    "**here is our lovely little great_pyreness**.Too bad we have no name for **pupper**"
   ]
  },
  {
   "cell_type": "code",
   "execution_count": 100,
   "id": "4858070b",
   "metadata": {},
   "outputs": [
    {
     "data": {
      "text/html": [
       "<img src=\"https://pbs.twimg.com/ext_tw_video_thumb/678399528077250560/pu/img/BOjUNHRsYLeSo0hl.jpg\" width=\"300\" height=\"300\"/>"
      ],
      "text/plain": [
       "<IPython.core.display.Image object>"
      ]
     },
     "execution_count": 100,
     "metadata": {},
     "output_type": "execute_result"
    }
   ],
   "source": [
    "# import image module\n",
    "from IPython.display import Image\n",
    "  \n",
    "# get the image\n",
    "Image(url='https://pbs.twimg.com/ext_tw_video_thumb/678399528077250560/pu/img/BOjUNHRsYLeSo0hl.jpg', width=300, height=300)"
   ]
  },
  {
   "cell_type": "markdown",
   "id": "e84949ee",
   "metadata": {},
   "source": [
    "#### Analysis Question 7\n",
    "- who are the best in class by value of retweet_count?\n",
    "    - Dog breed"
   ]
  },
  {
   "cell_type": "markdown",
   "id": "2c0b74e2",
   "metadata": {},
   "source": [
    "### Best in Class\n",
    "\n",
    "We will be considering the most retweeted  dog by the number of retweet they got grouped by :\n",
    "- Dog growth stage\n",
    "- Breed"
   ]
  },
  {
   "cell_type": "code",
   "execution_count": 101,
   "id": "6691ae52",
   "metadata": {},
   "outputs": [],
   "source": [
    "def best_in_class_picker(df,df_2,category_type,dog_type):\n",
    "    '''\n",
    "    creates a DataFrame containing the dog category of interest and picks the best in class from the category\n",
    "    \n",
    "    Args\n",
    "    df(DataFrame): Contains the dog image information like breed and dog growth stage\n",
    "    df_2(DataFrame): Contains the retweet_count and also have the key field for merging i.e,the tweet_id\n",
    "    category(string): The dog category of interest\n",
    "    dog_type(string): The value of interest from the dog category\n",
    "    \n",
    "    \n",
    "    returns:\n",
    "    df_merged(DataFrame): The table containing the the dog image information together with the retweet_count \n",
    "    best_in_class(series): Information of the best_in_class\n",
    "    \n",
    "    \n",
    "    '''\n",
    "    \n",
    "    \n",
    "    # The best in class by dog_growth_stage pupper\n",
    "    dog_growth_stage = df[df[category_type]== dog_type]\n",
    "\n",
    "    # get the retweet_count from df_tweet_data\n",
    "    retweet_count=df_2[df_2['tweet_id'].isin(df['tweet_id'])][['tweet_id','text','retweet_count','favorite_count']]\n",
    "\n",
    "    # merge the retweet_count withthe dog_growth_stage \n",
    "    df_merged = dog_growth_stage.merge(retweet_count, how='inner', on='tweet_id' )\n",
    "\n",
    "    # picked the most retweeted \n",
    "    best_in_class=df_merged[df_merged['retweet_count']==df_merged['retweet_count'].max()]\n",
    "    best_in_class=best_in_class.reset_index(drop=True)\n",
    "    \n",
    "    return(df_merged,best_in_class)\n"
   ]
  },
  {
   "cell_type": "code",
   "execution_count": 102,
   "id": "0ed60459",
   "metadata": {},
   "outputs": [],
   "source": [
    "def category_swamplotter(df,dog_category,title):\n",
    "    plt.figure(figsize=(17,7))\n",
    "    sns.swarmplot(x=dog_category,y='retweet_count',data=df, size=3.5)\n",
    "    plt.title(title);"
   ]
  },
  {
   "cell_type": "code",
   "execution_count": 103,
   "id": "4036f040",
   "metadata": {},
   "outputs": [],
   "source": [
    "def best_in_class_details(category,best_in_class):\n",
    "    '''\n",
    "    Prints the best in class information to the console\n",
    "    \n",
    "    Args:\n",
    "    category(string): The category for which the dog is best in class\n",
    "    best_in_class(series): The pandas series containing the details of the best in class\n",
    "    \n",
    "    returns:\n",
    "    \n",
    "    '''\n",
    "    # unpack the required information from the series\n",
    "    \n",
    "    \n",
    "    class_cat = category\n",
    "    tweet_id =  best_in_class.loc[0].at['tweet_id']\n",
    "    \n",
    "    name = best_in_class.loc[0].at['name']\n",
    "    growth_stage = best_in_class.loc[0].at['dog_growth_stage']\n",
    "    breed = best_in_class.loc[0].at['breed']\n",
    "    text = best_in_class.loc[0].at['text']\n",
    "    retweet_count = best_in_class.loc[0].at['retweet_count']\n",
    "    favorite_count = best_in_class.loc[0].at['favorite_count']\n",
    "   \n",
    "    \n",
    "    if name=='none':\n",
    "        name='not available'\n",
    "    if growth_stage=='none':\n",
    "        growth_stage='not available'\n",
    "\n",
    "    print(f'The best in class for class {class_cat}')\n",
    "    print(f'Tweet_id: {tweet_id}')\n",
    "    print(f'Dog name: {name}')\n",
    "    print(f'Dog growth_stage: {growth_stage}')\n",
    "    print(f'Dog breed: {breed}')\n",
    "    print(f'tweet_text:{text}')\n",
    "    print(f'retweet_count:{retweet_count}')\n",
    "    print(f'favorite_count:{favorite_count}')"
   ]
  },
  {
   "cell_type": "code",
   "execution_count": 104,
   "id": "3e4d9ae1",
   "metadata": {},
   "outputs": [
    {
     "data": {
      "text/plain": [
       "none       912\n",
       "pupper     128\n",
       "doggo       33\n",
       "puppo       19\n",
       "floofer      4\n",
       "Name: dog_growth_stage, dtype: int64"
      ]
     },
     "execution_count": 104,
     "metadata": {},
     "output_type": "execute_result"
    }
   ],
   "source": [
    "# dog_growth_stage value_count.\n",
    "df_image_data['dog_growth_stage'].value_counts()\n"
   ]
  },
  {
   "cell_type": "markdown",
   "id": "ffb61a8a",
   "metadata": {},
   "source": [
    "**dog growth stages to be considered**\n",
    "- `none`(Those without a defined dog growth stage). There are  912 in this category\n",
    "\n",
    "- `pupper` There are 128 in this category\n",
    "\n",
    "- `doggo`  There are 33 in this category\n",
    "\n",
    "- `puppo` There are 19 in this category\n",
    "\n",
    "- `floofer` There are 4 in this category"
   ]
  },
  {
   "cell_type": "markdown",
   "id": "c509b135",
   "metadata": {},
   "source": [
    "#### pupper"
   ]
  },
  {
   "cell_type": "code",
   "execution_count": 105,
   "id": "d57f6ae1",
   "metadata": {},
   "outputs": [],
   "source": [
    "# Finding the best_in_class of puppers \n",
    "df_pupper,best_in_class_pupper=best_in_class_picker(df_image_data,df_tweet_data,'dog_growth_stage','pupper')"
   ]
  },
  {
   "cell_type": "code",
   "execution_count": 106,
   "id": "fd014780",
   "metadata": {},
   "outputs": [
    {
     "data": {
      "image/png": "[encoded data removed]",
      "text/plain": [
       "<Figure size 1224x504 with 1 Axes>"
      ]
     },
     "metadata": {},
     "output_type": "display_data"
    }
   ],
   "source": [
    "# The swarm plot of the pupper dog_growth_stage \n",
    "category_swamplotter(df_pupper,'dog_growth_stage','Swarmplot of Pupper_dog_growth_stage vs retweet_count')"
   ]
  },
  {
   "cell_type": "code",
   "execution_count": 107,
   "id": "2a5f7570",
   "metadata": {},
   "outputs": [
    {
     "data": {
      "text/html": [
       "<div>\n",
       "<style scoped>\n",
       "    .dataframe tbody tr th:only-of-type {\n",
       "        vertical-align: middle;\n",
       "    }\n",
       "\n",
       "    .dataframe tbody tr th {\n",
       "        vertical-align: top;\n",
       "    }\n",
       "\n",
       "    .dataframe thead th {\n",
       "        text-align: right;\n",
       "    }\n",
       "</style>\n",
       "<table border=\"1\" class=\"dataframe\">\n",
       "  <thead>\n",
       "    <tr style=\"text-align: right;\">\n",
       "      <th></th>\n",
       "      <th>tweet_id</th>\n",
       "      <th>img_num</th>\n",
       "      <th>name</th>\n",
       "      <th>dog_growth_stage</th>\n",
       "      <th>img_resolution_MP</th>\n",
       "      <th>jpg_url</th>\n",
       "      <th>breed</th>\n",
       "      <th>text</th>\n",
       "      <th>retweet_count</th>\n",
       "      <th>favorite_count</th>\n",
       "    </tr>\n",
       "  </thead>\n",
       "  <tbody>\n",
       "    <tr>\n",
       "      <th>0</th>\n",
       "      <td>679828447187857408</td>\n",
       "      <td>3</td>\n",
       "      <td>none</td>\n",
       "      <td>pupper</td>\n",
       "      <td>1.05</td>\n",
       "      <td>https://pbs.twimg.com/media/CW88XN4WsAAlo8r.jpg</td>\n",
       "      <td>chihuahua</td>\n",
       "      <td>Everybody look at this beautiful pupper 13/10 ...</td>\n",
       "      <td>12605</td>\n",
       "      <td>33187</td>\n",
       "    </tr>\n",
       "  </tbody>\n",
       "</table>\n",
       "</div>"
      ],
      "text/plain": [
       "             tweet_id  img_num  name dog_growth_stage  img_resolution_MP  \\\n",
       "0  679828447187857408        3  none           pupper               1.05   \n",
       "\n",
       "                                           jpg_url      breed  \\\n",
       "0  https://pbs.twimg.com/media/CW88XN4WsAAlo8r.jpg  chihuahua   \n",
       "\n",
       "                                                text  retweet_count  \\\n",
       "0  Everybody look at this beautiful pupper 13/10 ...          12605   \n",
       "\n",
       "   favorite_count  \n",
       "0           33187  "
      ]
     },
     "execution_count": 107,
     "metadata": {},
     "output_type": "execute_result"
    }
   ],
   "source": [
    "best_in_class_pupper"
   ]
  },
  {
   "cell_type": "code",
   "execution_count": 108,
   "id": "7a6df32d",
   "metadata": {},
   "outputs": [
    {
     "name": "stdout",
     "output_type": "stream",
     "text": [
      "The best in class for class pupper\n",
      "Tweet_id: 679828447187857408\n",
      "Dog name: not available\n",
      "Dog growth_stage: pupper\n",
      "Dog breed: chihuahua\n",
      "tweet_text:Everybody look at this beautiful pupper 13/10 https://t.co/hyAC5Hq9GC\n",
      "retweet_count:12605\n",
      "favorite_count:33187\n"
     ]
    }
   ],
   "source": [
    "# We will display the details of best in class of pupper\n",
    "best_in_class_details('pupper',best_in_class_pupper)"
   ]
  },
  {
   "cell_type": "markdown",
   "id": "34149532",
   "metadata": {},
   "source": [
    "#### Here is our star pupper"
   ]
  },
  {
   "cell_type": "code",
   "execution_count": 109,
   "id": "a11dc15c",
   "metadata": {},
   "outputs": [
    {
     "data": {
      "text/html": [
       "<img src=\"https://pbs.twimg.com/media/CW88XN4WsAAlo8r.jpg\" width=\"300\" height=\"300\"/>"
      ],
      "text/plain": [
       "<IPython.core.display.Image object>"
      ]
     },
     "execution_count": 109,
     "metadata": {},
     "output_type": "execute_result"
    }
   ],
   "source": [
    "# get the image url\n",
    "url= best_in_class_pupper.loc[0].at['jpg_url']\n",
    "# display the image of our star pupper\n",
    "Image(url=url, width=300, height=300)"
   ]
  },
  {
   "cell_type": "markdown",
   "id": "cf8560b5",
   "metadata": {},
   "source": [
    "- Too bad we don't know the name of this beautiful pupper. However, he is the best in his class of **pupper**, he has 12,628 retweets and loved by over 33,231 people on twitter."
   ]
  },
  {
   "cell_type": "markdown",
   "id": "7851133e",
   "metadata": {},
   "source": [
    "#### doggo"
   ]
  },
  {
   "cell_type": "code",
   "execution_count": 110,
   "id": "de7a6910",
   "metadata": {},
   "outputs": [],
   "source": [
    "# Finding the best_in_class of doggo \n",
    "df_doggo,best_in_class_doggo=best_in_class_picker(df_image_data,df_tweet_data,'dog_growth_stage','doggo')"
   ]
  },
  {
   "cell_type": "code",
   "execution_count": 111,
   "id": "091b6b4d",
   "metadata": {},
   "outputs": [
    {
     "data": {
      "image/png": "[encoded data removed]",
      "text/plain": [
       "<Figure size 1224x504 with 1 Axes>"
      ]
     },
     "metadata": {},
     "output_type": "display_data"
    }
   ],
   "source": [
    "# The swarm plot of the doggo dog_growth_stage \n",
    "category_swamplotter(df_doggo,'dog_growth_stage','Swarmplot of doggo_dog_growth_stage vs retweet_count')"
   ]
  },
  {
   "cell_type": "code",
   "execution_count": 112,
   "id": "3cd48095",
   "metadata": {},
   "outputs": [
    {
     "data": {
      "text/html": [
       "<div>\n",
       "<style scoped>\n",
       "    .dataframe tbody tr th:only-of-type {\n",
       "        vertical-align: middle;\n",
       "    }\n",
       "\n",
       "    .dataframe tbody tr th {\n",
       "        vertical-align: top;\n",
       "    }\n",
       "\n",
       "    .dataframe thead th {\n",
       "        text-align: right;\n",
       "    }\n",
       "</style>\n",
       "<table border=\"1\" class=\"dataframe\">\n",
       "  <thead>\n",
       "    <tr style=\"text-align: right;\">\n",
       "      <th></th>\n",
       "      <th>tweet_id</th>\n",
       "      <th>img_num</th>\n",
       "      <th>name</th>\n",
       "      <th>dog_growth_stage</th>\n",
       "      <th>img_resolution_MP</th>\n",
       "      <th>jpg_url</th>\n",
       "      <th>breed</th>\n",
       "      <th>text</th>\n",
       "      <th>retweet_count</th>\n",
       "      <th>favorite_count</th>\n",
       "    </tr>\n",
       "  </thead>\n",
       "  <tbody>\n",
       "    <tr>\n",
       "      <th>0</th>\n",
       "      <td>819004803107983360</td>\n",
       "      <td>1</td>\n",
       "      <td>bo</td>\n",
       "      <td>doggo</td>\n",
       "      <td>0.72</td>\n",
       "      <td>https://pbs.twimg.com/media/C12whDoVEAALRxa.jpg</td>\n",
       "      <td>standard_poodle</td>\n",
       "      <td>This is Bo. He was a very good First Doggo. 14...</td>\n",
       "      <td>34539</td>\n",
       "      <td>82711</td>\n",
       "    </tr>\n",
       "  </tbody>\n",
       "</table>\n",
       "</div>"
      ],
      "text/plain": [
       "             tweet_id  img_num name dog_growth_stage  img_resolution_MP  \\\n",
       "0  819004803107983360        1   bo            doggo               0.72   \n",
       "\n",
       "                                           jpg_url            breed  \\\n",
       "0  https://pbs.twimg.com/media/C12whDoVEAALRxa.jpg  standard_poodle   \n",
       "\n",
       "                                                text  retweet_count  \\\n",
       "0  This is Bo. He was a very good First Doggo. 14...          34539   \n",
       "\n",
       "   favorite_count  \n",
       "0           82711  "
      ]
     },
     "execution_count": 112,
     "metadata": {},
     "output_type": "execute_result"
    }
   ],
   "source": [
    "best_in_class_doggo"
   ]
  },
  {
   "cell_type": "code",
   "execution_count": 113,
   "id": "109b385a",
   "metadata": {},
   "outputs": [
    {
     "name": "stdout",
     "output_type": "stream",
     "text": [
      "The best in class for class doggo\n",
      "Tweet_id: 819004803107983360\n",
      "Dog name: bo\n",
      "Dog growth_stage: doggo\n",
      "Dog breed: standard_poodle\n",
      "tweet_text:This is Bo. He was a very good First Doggo. 14/10 would be an absolute honor to pet https://t.co/AdPKrI8BZ1\n",
      "retweet_count:34539\n",
      "favorite_count:82711\n"
     ]
    }
   ],
   "source": [
    "# We will display the details of best in class of doggo\n",
    "best_in_class_details('doggo',best_in_class_doggo)"
   ]
  },
  {
   "cell_type": "markdown",
   "id": "0ebfb500",
   "metadata": {},
   "source": [
    "#### Here is our doggo"
   ]
  },
  {
   "cell_type": "code",
   "execution_count": 114,
   "id": "463859df",
   "metadata": {},
   "outputs": [
    {
     "data": {
      "text/html": [
       "<img src=\"https://pbs.twimg.com/media/C12whDoVEAALRxa.jpg\" width=\"300\" height=\"300\"/>"
      ],
      "text/plain": [
       "<IPython.core.display.Image object>"
      ]
     },
     "execution_count": 114,
     "metadata": {},
     "output_type": "execute_result"
    }
   ],
   "source": [
    "# get the image url\n",
    "url= best_in_class_doggo.loc[0].at['jpg_url']\n",
    "# display the image of our star pupper\n",
    "Image(url=url, width=300, height=300)"
   ]
  },
  {
   "cell_type": "markdown",
   "id": "dd208145",
   "metadata": {},
   "source": [
    "- Here is **Bo** the best in his class doggo, loved by over 82,680 people on twitter and retweeted 34,578 times"
   ]
  },
  {
   "cell_type": "markdown",
   "id": "c3664b3e",
   "metadata": {},
   "source": [
    "#### puppo"
   ]
  },
  {
   "cell_type": "code",
   "execution_count": 115,
   "id": "0e0df9f1",
   "metadata": {},
   "outputs": [],
   "source": [
    "# Finding the best_in_class of doggo \n",
    "df_puppo,best_in_class_puppo=best_in_class_picker(df_image_data,df_tweet_data,'dog_growth_stage','puppo')"
   ]
  },
  {
   "cell_type": "code",
   "execution_count": 116,
   "id": "8aca3cc7",
   "metadata": {},
   "outputs": [
    {
     "data": {
      "image/png": "[encoded data removed]",
      "text/plain": [
       "<Figure size 1224x504 with 1 Axes>"
      ]
     },
     "metadata": {},
     "output_type": "display_data"
    }
   ],
   "source": [
    "# The swarm plot of the puppo dog_growth_stage \n",
    "category_swamplotter(df_puppo,'dog_growth_stage','Swarmplot of puppo_dog_growth_stage vs retweet_count')"
   ]
  },
  {
   "cell_type": "code",
   "execution_count": 117,
   "id": "b7f81187",
   "metadata": {},
   "outputs": [
    {
     "data": {
      "text/html": [
       "<div>\n",
       "<style scoped>\n",
       "    .dataframe tbody tr th:only-of-type {\n",
       "        vertical-align: middle;\n",
       "    }\n",
       "\n",
       "    .dataframe tbody tr th {\n",
       "        vertical-align: top;\n",
       "    }\n",
       "\n",
       "    .dataframe thead th {\n",
       "        text-align: right;\n",
       "    }\n",
       "</style>\n",
       "<table border=\"1\" class=\"dataframe\">\n",
       "  <thead>\n",
       "    <tr style=\"text-align: right;\">\n",
       "      <th></th>\n",
       "      <th>tweet_id</th>\n",
       "      <th>img_num</th>\n",
       "      <th>name</th>\n",
       "      <th>dog_growth_stage</th>\n",
       "      <th>img_resolution_MP</th>\n",
       "      <th>jpg_url</th>\n",
       "      <th>breed</th>\n",
       "      <th>text</th>\n",
       "      <th>retweet_count</th>\n",
       "      <th>favorite_count</th>\n",
       "    </tr>\n",
       "  </thead>\n",
       "  <tbody>\n",
       "    <tr>\n",
       "      <th>0</th>\n",
       "      <td>825535076884762624</td>\n",
       "      <td>1</td>\n",
       "      <td>none</td>\n",
       "      <td>puppo</td>\n",
       "      <td>3.15</td>\n",
       "      <td>https://pbs.twimg.com/media/C3TjvitXAAAI-QH.jpg</td>\n",
       "      <td>rottweiler</td>\n",
       "      <td>Here's a very loving and accepting puppo. Appe...</td>\n",
       "      <td>16359</td>\n",
       "      <td>53990</td>\n",
       "    </tr>\n",
       "  </tbody>\n",
       "</table>\n",
       "</div>"
      ],
      "text/plain": [
       "             tweet_id  img_num  name dog_growth_stage  img_resolution_MP  \\\n",
       "0  825535076884762624        1  none            puppo               3.15   \n",
       "\n",
       "                                           jpg_url       breed  \\\n",
       "0  https://pbs.twimg.com/media/C3TjvitXAAAI-QH.jpg  rottweiler   \n",
       "\n",
       "                                                text  retweet_count  \\\n",
       "0  Here's a very loving and accepting puppo. Appe...          16359   \n",
       "\n",
       "   favorite_count  \n",
       "0           53990  "
      ]
     },
     "execution_count": 117,
     "metadata": {},
     "output_type": "execute_result"
    }
   ],
   "source": [
    "best_in_class_puppo"
   ]
  },
  {
   "cell_type": "code",
   "execution_count": 118,
   "id": "be9dcfd6",
   "metadata": {},
   "outputs": [
    {
     "name": "stdout",
     "output_type": "stream",
     "text": [
      "The best in class for class puppo\n",
      "Tweet_id: 825535076884762624\n",
      "Dog name: not available\n",
      "Dog growth_stage: puppo\n",
      "Dog breed: rottweiler\n",
      "tweet_text:Here's a very loving and accepting puppo. Appears to have read her Constitution well. 14/10 would pat head approvingly https://t.co/6ao80wIpV1\n",
      "retweet_count:16359\n",
      "favorite_count:53990\n"
     ]
    }
   ],
   "source": [
    "# We will display the details of best in class of puppo\n",
    "best_in_class_details('puppo',best_in_class_puppo)"
   ]
  },
  {
   "cell_type": "markdown",
   "id": "125b6fa8",
   "metadata": {},
   "source": [
    "#### here is our puppo"
   ]
  },
  {
   "cell_type": "code",
   "execution_count": 119,
   "id": "0171892c",
   "metadata": {},
   "outputs": [
    {
     "data": {
      "text/html": [
       "<img src=\"https://pbs.twimg.com/media/C3TjvitXAAAI-QH.jpg\" width=\"300\" height=\"300\"/>"
      ],
      "text/plain": [
       "<IPython.core.display.Image object>"
      ]
     },
     "execution_count": 119,
     "metadata": {},
     "output_type": "execute_result"
    }
   ],
   "source": [
    "# get the image url\n",
    "url= best_in_class_puppo.loc[0].at['jpg_url']\n",
    "# display the image of our star pupper\n",
    "Image(url=url, width=300, height=300)"
   ]
  },
  {
   "cell_type": "markdown",
   "id": "32ef4520",
   "metadata": {},
   "source": [
    "- Again, our puppo's name is not known but he is the best in his class. he is loved by over 54,004 people on twitter."
   ]
  },
  {
   "cell_type": "markdown",
   "id": "9f31a995",
   "metadata": {},
   "source": [
    "#### floofer"
   ]
  },
  {
   "cell_type": "code",
   "execution_count": 120,
   "id": "c1854098",
   "metadata": {},
   "outputs": [],
   "source": [
    "# Finding the best_in_class of floofer \n",
    "df_floofer,best_in_class_floofer=best_in_class_picker(df_image_data,df_tweet_data,'dog_growth_stage','floofer')"
   ]
  },
  {
   "cell_type": "code",
   "execution_count": 121,
   "id": "8c01457e",
   "metadata": {},
   "outputs": [
    {
     "data": {
      "image/png": "[encoded data removed]",
      "text/plain": [
       "<Figure size 1224x504 with 1 Axes>"
      ]
     },
     "metadata": {},
     "output_type": "display_data"
    }
   ],
   "source": [
    "# The swarm plot of the floofer dog_growth_stage \n",
    "category_swamplotter(df_floofer,'dog_growth_stage','Swarmplot of floofer_dog_growth_stage vs retweet_count')"
   ]
  },
  {
   "cell_type": "code",
   "execution_count": 122,
   "id": "9a11e090",
   "metadata": {},
   "outputs": [
    {
     "data": {
      "text/html": [
       "<div>\n",
       "<style scoped>\n",
       "    .dataframe tbody tr th:only-of-type {\n",
       "        vertical-align: middle;\n",
       "    }\n",
       "\n",
       "    .dataframe tbody tr th {\n",
       "        vertical-align: top;\n",
       "    }\n",
       "\n",
       "    .dataframe thead th {\n",
       "        text-align: right;\n",
       "    }\n",
       "</style>\n",
       "<table border=\"1\" class=\"dataframe\">\n",
       "  <thead>\n",
       "    <tr style=\"text-align: right;\">\n",
       "      <th></th>\n",
       "      <th>tweet_id</th>\n",
       "      <th>img_num</th>\n",
       "      <th>name</th>\n",
       "      <th>dog_growth_stage</th>\n",
       "      <th>img_resolution_MP</th>\n",
       "      <th>jpg_url</th>\n",
       "      <th>breed</th>\n",
       "      <th>text</th>\n",
       "      <th>retweet_count</th>\n",
       "      <th>favorite_count</th>\n",
       "    </tr>\n",
       "  </thead>\n",
       "  <tbody>\n",
       "    <tr>\n",
       "      <th>0</th>\n",
       "      <td>737445876994609152</td>\n",
       "      <td>1</td>\n",
       "      <td>none</td>\n",
       "      <td>floofer</td>\n",
       "      <td>0.89</td>\n",
       "      <td>https://pbs.twimg.com/media/CjvvHBwUoAE55WZ.jpg</td>\n",
       "      <td>samoyed</td>\n",
       "      <td>Just wanted to share this super rare Rainbow F...</td>\n",
       "      <td>4065</td>\n",
       "      <td>9463</td>\n",
       "    </tr>\n",
       "  </tbody>\n",
       "</table>\n",
       "</div>"
      ],
      "text/plain": [
       "             tweet_id  img_num  name dog_growth_stage  img_resolution_MP  \\\n",
       "0  737445876994609152        1  none          floofer               0.89   \n",
       "\n",
       "                                           jpg_url    breed  \\\n",
       "0  https://pbs.twimg.com/media/CjvvHBwUoAE55WZ.jpg  samoyed   \n",
       "\n",
       "                                                text  retweet_count  \\\n",
       "0  Just wanted to share this super rare Rainbow F...           4065   \n",
       "\n",
       "   favorite_count  \n",
       "0            9463  "
      ]
     },
     "execution_count": 122,
     "metadata": {},
     "output_type": "execute_result"
    }
   ],
   "source": [
    "best_in_class_floofer"
   ]
  },
  {
   "cell_type": "code",
   "execution_count": 123,
   "id": "eb40707e",
   "metadata": {},
   "outputs": [
    {
     "name": "stdout",
     "output_type": "stream",
     "text": [
      "The best in class for class floofer\n",
      "Tweet_id: 737445876994609152\n",
      "Dog name: not available\n",
      "Dog growth_stage: floofer\n",
      "Dog breed: samoyed\n",
      "tweet_text:Just wanted to share this super rare Rainbow Floofer in case you guys haven't seen it yet. 13/10 colorful af https://t.co/CaG9MzD3WT\n",
      "retweet_count:4065\n",
      "favorite_count:9463\n"
     ]
    }
   ],
   "source": [
    "# We will display the details of best in class of floofer\n",
    "best_in_class_details('floofer',best_in_class_floofer)"
   ]
  },
  {
   "cell_type": "markdown",
   "id": "16e83536",
   "metadata": {},
   "source": [
    "#### Here is our floofer"
   ]
  },
  {
   "cell_type": "code",
   "execution_count": 124,
   "id": "bb691c74",
   "metadata": {},
   "outputs": [
    {
     "data": {
      "text/plain": [
       "'https://pbs.twimg.com/media/CjvvHBwUoAE55WZ.jpg'"
      ]
     },
     "execution_count": 124,
     "metadata": {},
     "output_type": "execute_result"
    }
   ],
   "source": [
    "# get the image url\n",
    "url= best_in_class_floofer.loc[0].at['jpg_url']\n",
    "# display the image of our star pupper\n",
    "Image(url=url, width=300, height=300)\n",
    "url"
   ]
  },
  {
   "cell_type": "markdown",
   "id": "9ed8347f",
   "metadata": {},
   "source": [
    "Although, they are just 4 in their class, yet it is never easy to be the best in class. The best in the class of floofer loved by over 9476 people on tweeter"
   ]
  },
  {
   "cell_type": "markdown",
   "id": "e3053be4",
   "metadata": {},
   "source": [
    "#### Lets also consider the category of those whose growth stage were not defined (none)"
   ]
  },
  {
   "cell_type": "code",
   "execution_count": 125,
   "id": "bff9b704",
   "metadata": {},
   "outputs": [],
   "source": [
    "# Finding the best_in_class of none \n",
    "df_none,best_in_class_none=best_in_class_picker(df_image_data,df_tweet_data,'dog_growth_stage','none')"
   ]
  },
  {
   "cell_type": "code",
   "execution_count": 126,
   "id": "01eac6ec",
   "metadata": {},
   "outputs": [
    {
     "data": {
      "image/png": "[encoded data removed]",
      "text/plain": [
       "<Figure size 1224x504 with 1 Axes>"
      ]
     },
     "metadata": {},
     "output_type": "display_data"
    }
   ],
   "source": [
    "# The swarm plot of the puppo dog_growth_stage \n",
    "category_swamplotter(df_none,'dog_growth_stage','Swarmplot of none_dog_growth_stage vs retweet_count')"
   ]
  },
  {
   "cell_type": "code",
   "execution_count": 127,
   "id": "43e6b68c",
   "metadata": {},
   "outputs": [
    {
     "data": {
      "text/html": [
       "<div>\n",
       "<style scoped>\n",
       "    .dataframe tbody tr th:only-of-type {\n",
       "        vertical-align: middle;\n",
       "    }\n",
       "\n",
       "    .dataframe tbody tr th {\n",
       "        vertical-align: top;\n",
       "    }\n",
       "\n",
       "    .dataframe thead th {\n",
       "        text-align: right;\n",
       "    }\n",
       "</style>\n",
       "<table border=\"1\" class=\"dataframe\">\n",
       "  <thead>\n",
       "    <tr style=\"text-align: right;\">\n",
       "      <th></th>\n",
       "      <th>tweet_id</th>\n",
       "      <th>img_num</th>\n",
       "      <th>name</th>\n",
       "      <th>dog_growth_stage</th>\n",
       "      <th>img_resolution_MP</th>\n",
       "      <th>jpg_url</th>\n",
       "      <th>breed</th>\n",
       "      <th>text</th>\n",
       "      <th>retweet_count</th>\n",
       "      <th>favorite_count</th>\n",
       "    </tr>\n",
       "  </thead>\n",
       "  <tbody>\n",
       "    <tr>\n",
       "      <th>0</th>\n",
       "      <td>807106840509214720</td>\n",
       "      <td>1</td>\n",
       "      <td>stephan</td>\n",
       "      <td>none</td>\n",
       "      <td>0.51</td>\n",
       "      <td>https://pbs.twimg.com/ext_tw_video_thumb/80710...</td>\n",
       "      <td>chihuahua</td>\n",
       "      <td>This is Stephan. He just wants to help. 13/10 ...</td>\n",
       "      <td>51663</td>\n",
       "      <td>111681</td>\n",
       "    </tr>\n",
       "  </tbody>\n",
       "</table>\n",
       "</div>"
      ],
      "text/plain": [
       "             tweet_id  img_num     name dog_growth_stage  img_resolution_MP  \\\n",
       "0  807106840509214720        1  stephan             none               0.51   \n",
       "\n",
       "                                             jpg_url      breed  \\\n",
       "0  https://pbs.twimg.com/ext_tw_video_thumb/80710...  chihuahua   \n",
       "\n",
       "                                                text  retweet_count  \\\n",
       "0  This is Stephan. He just wants to help. 13/10 ...          51663   \n",
       "\n",
       "   favorite_count  \n",
       "0          111681  "
      ]
     },
     "execution_count": 127,
     "metadata": {},
     "output_type": "execute_result"
    }
   ],
   "source": [
    "best_in_class_none"
   ]
  },
  {
   "cell_type": "code",
   "execution_count": 128,
   "id": "682ea3f9",
   "metadata": {},
   "outputs": [
    {
     "name": "stdout",
     "output_type": "stream",
     "text": [
      "The best in class for class none\n",
      "Tweet_id: 807106840509214720\n",
      "Dog name: stephan\n",
      "Dog growth_stage: not available\n",
      "Dog breed: chihuahua\n",
      "tweet_text:This is Stephan. He just wants to help. 13/10 such a good boy https://t.co/DkBYaCAg2d\n",
      "retweet_count:51663\n",
      "favorite_count:111681\n"
     ]
    }
   ],
   "source": [
    "# We will display the details of best in class of none\n",
    "best_in_class_details('none',best_in_class_none)"
   ]
  },
  {
   "cell_type": "markdown",
   "id": "c05efcc3",
   "metadata": {},
   "source": [
    "- Here is **stephan**. I think he is a puppo. What do you think?"
   ]
  },
  {
   "cell_type": "code",
   "execution_count": 129,
   "id": "04c96b87",
   "metadata": {},
   "outputs": [
    {
     "data": {
      "text/html": [
       "<img src=\"https://pbs.twimg.com/ext_tw_video_thumb/807106774843039744/pu/img/8XZg1xW35Xp2J6JW.jpg\" width=\"300\" height=\"300\"/>"
      ],
      "text/plain": [
       "<IPython.core.display.Image object>"
      ]
     },
     "execution_count": 129,
     "metadata": {},
     "output_type": "execute_result"
    }
   ],
   "source": [
    "# get the image url\n",
    "url= best_in_class_none.loc[0].at['jpg_url']\n",
    "# display the image of our star none\n",
    "Image(url=url, width=300, height=300)"
   ]
  },
  {
   "cell_type": "markdown",
   "id": "1bb844d7",
   "metadata": {},
   "source": [
    "- **Stephan** truly deserve recognition. He is so good, he got 111,712 likes on twitter. He has also been retweeted over 51740 times."
   ]
  },
  {
   "cell_type": "markdown",
   "id": "fb55d29a",
   "metadata": {},
   "source": [
    "### Breed"
   ]
  },
  {
   "cell_type": "markdown",
   "id": "91a758f0",
   "metadata": {},
   "source": [
    "The list of dog breed in our dataset is very rich. We will consider the best in class for the first five most common breeds."
   ]
  },
  {
   "cell_type": "code",
   "execution_count": 130,
   "id": "3a4257f5",
   "metadata": {},
   "outputs": [
    {
     "data": {
      "text/plain": [
       "miniature_schnauzer             5\n",
       "silky_terrier                   1\n",
       "tibetan_mastiff                 5\n",
       "malamute                       20\n",
       "labrador_retriever             68\n",
       "wire-haired_fox_terrier         2\n",
       "standard_schnauzer              1\n",
       "soft-coated_wheaten_terrier     3\n",
       "walker_hound                    4\n",
       "flat-coated_retriever           8\n",
       "Name: breed, dtype: int64"
      ]
     },
     "execution_count": 130,
     "metadata": {},
     "output_type": "execute_result"
    }
   ],
   "source": [
    "df_image_data.breed.value_counts().sample(10)"
   ]
  },
  {
   "cell_type": "markdown",
   "id": "868d607a",
   "metadata": {},
   "source": [
    "#### golden retriever"
   ]
  },
  {
   "cell_type": "code",
   "execution_count": 131,
   "id": "78c0965c",
   "metadata": {},
   "outputs": [],
   "source": [
    "# Finding the best_in_class of golden_retriever \n",
    "df_golden_retriever,best_in_class_golden_retriever=best_in_class_picker(df_image_data,df_tweet_data,'breed','golden_retriever')"
   ]
  },
  {
   "cell_type": "code",
   "execution_count": 132,
   "id": "dff9701e",
   "metadata": {},
   "outputs": [
    {
     "data": {
      "image/png": "[encoded data removed]",
      "text/plain": [
       "<Figure size 1224x504 with 1 Axes>"
      ]
     },
     "metadata": {},
     "output_type": "display_data"
    }
   ],
   "source": [
    "# The swarm plot of the golden_retriever breed\n",
    "category_swamplotter(df_golden_retriever,'breed','Swarmplot of golden_retriever_breed vs retweet_count')"
   ]
  },
  {
   "cell_type": "code",
   "execution_count": 133,
   "id": "49ee008f",
   "metadata": {},
   "outputs": [
    {
     "data": {
      "text/html": [
       "<div>\n",
       "<style scoped>\n",
       "    .dataframe tbody tr th:only-of-type {\n",
       "        vertical-align: middle;\n",
       "    }\n",
       "\n",
       "    .dataframe tbody tr th {\n",
       "        vertical-align: top;\n",
       "    }\n",
       "\n",
       "    .dataframe thead th {\n",
       "        text-align: right;\n",
       "    }\n",
       "</style>\n",
       "<table border=\"1\" class=\"dataframe\">\n",
       "  <thead>\n",
       "    <tr style=\"text-align: right;\">\n",
       "      <th></th>\n",
       "      <th>tweet_id</th>\n",
       "      <th>img_num</th>\n",
       "      <th>name</th>\n",
       "      <th>dog_growth_stage</th>\n",
       "      <th>img_resolution_MP</th>\n",
       "      <th>jpg_url</th>\n",
       "      <th>breed</th>\n",
       "      <th>text</th>\n",
       "      <th>retweet_count</th>\n",
       "      <th>favorite_count</th>\n",
       "    </tr>\n",
       "  </thead>\n",
       "  <tbody>\n",
       "    <tr>\n",
       "      <th>0</th>\n",
       "      <td>870374049280663552</td>\n",
       "      <td>1</td>\n",
       "      <td>zoey</td>\n",
       "      <td>none</td>\n",
       "      <td>2.43</td>\n",
       "      <td>https://pbs.twimg.com/media/DBQwlFCXkAACSkI.jpg</td>\n",
       "      <td>golden_retriever</td>\n",
       "      <td>This is Zoey. She really likes the planet. Wou...</td>\n",
       "      <td>22750</td>\n",
       "      <td>73956</td>\n",
       "    </tr>\n",
       "  </tbody>\n",
       "</table>\n",
       "</div>"
      ],
      "text/plain": [
       "             tweet_id  img_num  name dog_growth_stage  img_resolution_MP  \\\n",
       "0  870374049280663552        1  zoey             none               2.43   \n",
       "\n",
       "                                           jpg_url             breed  \\\n",
       "0  https://pbs.twimg.com/media/DBQwlFCXkAACSkI.jpg  golden_retriever   \n",
       "\n",
       "                                                text  retweet_count  \\\n",
       "0  This is Zoey. She really likes the planet. Wou...          22750   \n",
       "\n",
       "   favorite_count  \n",
       "0           73956  "
      ]
     },
     "execution_count": 133,
     "metadata": {},
     "output_type": "execute_result"
    }
   ],
   "source": [
    "best_in_class_golden_retriever"
   ]
  },
  {
   "cell_type": "code",
   "execution_count": 134,
   "id": "9af703a8",
   "metadata": {},
   "outputs": [
    {
     "name": "stdout",
     "output_type": "stream",
     "text": [
      "The best in class for class golden_retriever\n",
      "Tweet_id: 870374049280663552\n",
      "Dog name: zoey\n",
      "Dog growth_stage: not available\n",
      "Dog breed: golden_retriever\n",
      "tweet_text:This is Zoey. She really likes the planet. Would hate to see willful ignorance and the denial of fairly elemental science destroy it. 13/10 https://t.co/T1xlgaPujm\n",
      "retweet_count:22750\n",
      "favorite_count:73956\n"
     ]
    }
   ],
   "source": [
    "# We will display the details of best in class of golden_retriever\n",
    "best_in_class_details('golden_retriever',best_in_class_golden_retriever)"
   ]
  },
  {
   "cell_type": "markdown",
   "id": "093d93b3",
   "metadata": {},
   "source": [
    "Here is our **Golden** golden_retriever"
   ]
  },
  {
   "cell_type": "code",
   "execution_count": 135,
   "id": "dd89a84b",
   "metadata": {},
   "outputs": [
    {
     "data": {
      "text/html": [
       "<img src=\"https://pbs.twimg.com/media/DBQwlFCXkAACSkI.jpg\" width=\"300\" height=\"300\"/>"
      ],
      "text/plain": [
       "<IPython.core.display.Image object>"
      ]
     },
     "execution_count": 135,
     "metadata": {},
     "output_type": "execute_result"
    }
   ],
   "source": [
    "# get the image url\n",
    "url= best_in_class_golden_retriever.loc[0].at['jpg_url']\n",
    "# display the image of our star golden_retriever\n",
    "Image(url=url, width=300, height=300)\n"
   ]
  },
  {
   "cell_type": "markdown",
   "id": "9787c535",
   "metadata": {},
   "source": [
    "Here is **Zoey** The most popular golden_retriever. He got over **73,984** likes on twitter. He has been retweeted 22,767 times"
   ]
  },
  {
   "cell_type": "markdown",
   "id": "7c3a7460",
   "metadata": {},
   "source": [
    "#### Pembroke"
   ]
  },
  {
   "cell_type": "code",
   "execution_count": 136,
   "id": "897a17e0",
   "metadata": {},
   "outputs": [],
   "source": [
    "# Finding the best_in_class of pembroke \n",
    "df_pembroke,best_in_class_pembroke=best_in_class_picker(df_image_data,df_tweet_data,'breed','pembroke')"
   ]
  },
  {
   "cell_type": "code",
   "execution_count": 137,
   "id": "ae85130b",
   "metadata": {},
   "outputs": [
    {
     "data": {
      "image/png": "[encoded data removed]",
      "text/plain": [
       "<Figure size 1224x504 with 1 Axes>"
      ]
     },
     "metadata": {},
     "output_type": "display_data"
    }
   ],
   "source": [
    "# The swarm plot of the penbroke breed\n",
    "category_swamplotter(df_pembroke,'breed','Swarmplot of pembroke_breed vs retweet_count')"
   ]
  },
  {
   "cell_type": "code",
   "execution_count": 138,
   "id": "4b9cb614",
   "metadata": {},
   "outputs": [
    {
     "data": {
      "text/html": [
       "<div>\n",
       "<style scoped>\n",
       "    .dataframe tbody tr th:only-of-type {\n",
       "        vertical-align: middle;\n",
       "    }\n",
       "\n",
       "    .dataframe tbody tr th {\n",
       "        vertical-align: top;\n",
       "    }\n",
       "\n",
       "    .dataframe thead th {\n",
       "        text-align: right;\n",
       "    }\n",
       "</style>\n",
       "<table border=\"1\" class=\"dataframe\">\n",
       "  <thead>\n",
       "    <tr style=\"text-align: right;\">\n",
       "      <th></th>\n",
       "      <th>tweet_id</th>\n",
       "      <th>img_num</th>\n",
       "      <th>name</th>\n",
       "      <th>dog_growth_stage</th>\n",
       "      <th>img_resolution_MP</th>\n",
       "      <th>jpg_url</th>\n",
       "      <th>breed</th>\n",
       "      <th>text</th>\n",
       "      <th>retweet_count</th>\n",
       "      <th>favorite_count</th>\n",
       "    </tr>\n",
       "  </thead>\n",
       "  <tbody>\n",
       "    <tr>\n",
       "      <th>0</th>\n",
       "      <td>824325613288833024</td>\n",
       "      <td>1</td>\n",
       "      <td>none</td>\n",
       "      <td>pupper</td>\n",
       "      <td>0.2</td>\n",
       "      <td>https://pbs.twimg.com/media/C3CXxaoWQAAiLuC.jpg</td>\n",
       "      <td>pembroke</td>\n",
       "      <td>Retweet the h*ck out of this 13/10 pupper #Bel...</td>\n",
       "      <td>9890</td>\n",
       "      <td>11184</td>\n",
       "    </tr>\n",
       "  </tbody>\n",
       "</table>\n",
       "</div>"
      ],
      "text/plain": [
       "             tweet_id  img_num  name dog_growth_stage  img_resolution_MP  \\\n",
       "0  824325613288833024        1  none           pupper                0.2   \n",
       "\n",
       "                                           jpg_url     breed  \\\n",
       "0  https://pbs.twimg.com/media/C3CXxaoWQAAiLuC.jpg  pembroke   \n",
       "\n",
       "                                                text  retweet_count  \\\n",
       "0  Retweet the h*ck out of this 13/10 pupper #Bel...           9890   \n",
       "\n",
       "   favorite_count  \n",
       "0           11184  "
      ]
     },
     "execution_count": 138,
     "metadata": {},
     "output_type": "execute_result"
    }
   ],
   "source": [
    "best_in_class_pembroke"
   ]
  },
  {
   "cell_type": "code",
   "execution_count": 139,
   "id": "0abdedfb",
   "metadata": {},
   "outputs": [
    {
     "name": "stdout",
     "output_type": "stream",
     "text": [
      "The best in class for class pembroke\n",
      "Tweet_id: 824325613288833024\n",
      "Dog name: not available\n",
      "Dog growth_stage: pupper\n",
      "Dog breed: pembroke\n",
      "tweet_text:Retweet the h*ck out of this 13/10 pupper #BellLetsTalk https://t.co/wBmc7OaGvS\n",
      "retweet_count:9890\n",
      "favorite_count:11184\n"
     ]
    }
   ],
   "source": [
    "# We will display the details of best in class of pembroke\n",
    "best_in_class_details('pembroke',best_in_class_pembroke)"
   ]
  },
  {
   "cell_type": "markdown",
   "id": "9998a62e",
   "metadata": {},
   "source": [
    "Here is our **pembroke**"
   ]
  },
  {
   "cell_type": "code",
   "execution_count": 140,
   "id": "1f050519",
   "metadata": {},
   "outputs": [
    {
     "data": {
      "text/html": [
       "<img src=\"https://pbs.twimg.com/media/C3CXxaoWQAAiLuC.jpg\" width=\"300\" height=\"300\"/>"
      ],
      "text/plain": [
       "<IPython.core.display.Image object>"
      ]
     },
     "execution_count": 140,
     "metadata": {},
     "output_type": "execute_result"
    }
   ],
   "source": [
    "# get the image url\n",
    "url= best_in_class_pembroke.loc[0].at['jpg_url']\n",
    "# display the image of our star pembroke\n",
    "Image(url=url, width=300, height=300)"
   ]
  },
  {
   "cell_type": "markdown",
   "id": "ee813b19",
   "metadata": {},
   "source": [
    "Wow! is't this lovely! she got 11,197 likes on twitter. indeed she is lovely. The best in class of pembroke."
   ]
  },
  {
   "cell_type": "markdown",
   "id": "245d8804",
   "metadata": {},
   "source": [
    "#### labrador_retriever"
   ]
  },
  {
   "cell_type": "code",
   "execution_count": 141,
   "id": "89ec5d85",
   "metadata": {},
   "outputs": [],
   "source": [
    "# Finding the best_in_class of labrador_retriever\n",
    "df_labrador_retriever,best_in_class_labrador_retriever=best_in_class_picker(df_image_data,df_tweet_data,'breed','labrador_retriever')"
   ]
  },
  {
   "cell_type": "code",
   "execution_count": 142,
   "id": "063d7f43",
   "metadata": {},
   "outputs": [
    {
     "data": {
      "image/png": "[encoded data removed]",
      "text/plain": [
       "<Figure size 1224x504 with 1 Axes>"
      ]
     },
     "metadata": {},
     "output_type": "display_data"
    }
   ],
   "source": [
    "# The swarm plot of the labrador_retriever breed\n",
    "category_swamplotter(df_labrador_retriever,'breed','Swarmplot of labrador_retriever_breed vs retweet_count')"
   ]
  },
  {
   "cell_type": "code",
   "execution_count": 143,
   "id": "3afa4da4",
   "metadata": {},
   "outputs": [
    {
     "data": {
      "text/html": [
       "<div>\n",
       "<style scoped>\n",
       "    .dataframe tbody tr th:only-of-type {\n",
       "        vertical-align: middle;\n",
       "    }\n",
       "\n",
       "    .dataframe tbody tr th {\n",
       "        vertical-align: top;\n",
       "    }\n",
       "\n",
       "    .dataframe thead th {\n",
       "        text-align: right;\n",
       "    }\n",
       "</style>\n",
       "<table border=\"1\" class=\"dataframe\">\n",
       "  <thead>\n",
       "    <tr style=\"text-align: right;\">\n",
       "      <th></th>\n",
       "      <th>tweet_id</th>\n",
       "      <th>img_num</th>\n",
       "      <th>name</th>\n",
       "      <th>dog_growth_stage</th>\n",
       "      <th>img_resolution_MP</th>\n",
       "      <th>jpg_url</th>\n",
       "      <th>breed</th>\n",
       "      <th>text</th>\n",
       "      <th>retweet_count</th>\n",
       "      <th>favorite_count</th>\n",
       "    </tr>\n",
       "  </thead>\n",
       "  <tbody>\n",
       "    <tr>\n",
       "      <th>0</th>\n",
       "      <td>739544079319588864</td>\n",
       "      <td>1</td>\n",
       "      <td>none</td>\n",
       "      <td>none</td>\n",
       "      <td>0.79</td>\n",
       "      <td>https://pbs.twimg.com/media/CkNjahBXAAQ2kWo.jpg</td>\n",
       "      <td>labrador_retriever</td>\n",
       "      <td>This... is a Tyrannosaurus rex. We only rate d...</td>\n",
       "      <td>19278</td>\n",
       "      <td>36507</td>\n",
       "    </tr>\n",
       "  </tbody>\n",
       "</table>\n",
       "</div>"
      ],
      "text/plain": [
       "             tweet_id  img_num  name dog_growth_stage  img_resolution_MP  \\\n",
       "0  739544079319588864        1  none             none               0.79   \n",
       "\n",
       "                                           jpg_url               breed  \\\n",
       "0  https://pbs.twimg.com/media/CkNjahBXAAQ2kWo.jpg  labrador_retriever   \n",
       "\n",
       "                                                text  retweet_count  \\\n",
       "0  This... is a Tyrannosaurus rex. We only rate d...          19278   \n",
       "\n",
       "   favorite_count  \n",
       "0           36507  "
      ]
     },
     "execution_count": 143,
     "metadata": {},
     "output_type": "execute_result"
    }
   ],
   "source": [
    "best_in_class_labrador_retriever"
   ]
  },
  {
   "cell_type": "code",
   "execution_count": 144,
   "id": "6f1fdbf0",
   "metadata": {},
   "outputs": [
    {
     "name": "stdout",
     "output_type": "stream",
     "text": [
      "The best in class for class labrador_retriever\n",
      "Tweet_id: 739544079319588864\n",
      "Dog name: not available\n",
      "Dog growth_stage: not available\n",
      "Dog breed: labrador_retriever\n",
      "tweet_text:This... is a Tyrannosaurus rex. We only rate dogs. Please only send in dogs. Thank you ...10/10 https://t.co/zxw8d5g94P\n",
      "retweet_count:19278\n",
      "favorite_count:36507\n"
     ]
    }
   ],
   "source": [
    "# We will display the details of best in class of labrador_retriever\n",
    "best_in_class_details('labrador_retriever',best_in_class_labrador_retriever)"
   ]
  },
  {
   "cell_type": "code",
   "execution_count": 145,
   "id": "53ef88d4",
   "metadata": {},
   "outputs": [
    {
     "data": {
      "text/html": [
       "<img src=\"https://pbs.twimg.com/media/CkNjahBXAAQ2kWo.jpg\" width=\"300\" height=\"300\"/>"
      ],
      "text/plain": [
       "<IPython.core.display.Image object>"
      ]
     },
     "execution_count": 145,
     "metadata": {},
     "output_type": "execute_result"
    }
   ],
   "source": [
    "# get the image url\n",
    "url= best_in_class_labrador_retriever.loc[0].at['jpg_url']\n",
    "# display the image of our star labrador_retriever\n",
    "Image(url=url, width=300, height=300)"
   ]
  },
  {
   "cell_type": "markdown",
   "id": "9ec9f1f4",
   "metadata": {},
   "source": [
    "Here is an aqua pupper labrador retriever. The best in his class. Enjoying some chilling time in the pool. Loved by more than 36,508 people on twitter and retweeted 19305 times."
   ]
  },
  {
   "cell_type": "markdown",
   "id": "ebb6ae5c",
   "metadata": {},
   "source": [
    "#### chihuahua"
   ]
  },
  {
   "cell_type": "code",
   "execution_count": 146,
   "id": "6a568d75",
   "metadata": {},
   "outputs": [],
   "source": [
    "# Finding the best_in_class of chihuahua\n",
    "df_chihuahua,best_in_class_chihuahua=best_in_class_picker(df_image_data,df_tweet_data,'breed','chihuahua')"
   ]
  },
  {
   "cell_type": "code",
   "execution_count": 147,
   "id": "30ab94f6",
   "metadata": {},
   "outputs": [
    {
     "data": {
      "image/png": "[encoded data removed]",
      "text/plain": [
       "<Figure size 1224x504 with 1 Axes>"
      ]
     },
     "metadata": {},
     "output_type": "display_data"
    }
   ],
   "source": [
    "# The swarm plot of the chihuahua breed\n",
    "category_swamplotter(df_chihuahua,'breed','Swarmplot of chihuahua_breed vs retweet_count')"
   ]
  },
  {
   "cell_type": "code",
   "execution_count": 148,
   "id": "34f20ba9",
   "metadata": {},
   "outputs": [
    {
     "data": {
      "text/html": [
       "<div>\n",
       "<style scoped>\n",
       "    .dataframe tbody tr th:only-of-type {\n",
       "        vertical-align: middle;\n",
       "    }\n",
       "\n",
       "    .dataframe tbody tr th {\n",
       "        vertical-align: top;\n",
       "    }\n",
       "\n",
       "    .dataframe thead th {\n",
       "        text-align: right;\n",
       "    }\n",
       "</style>\n",
       "<table border=\"1\" class=\"dataframe\">\n",
       "  <thead>\n",
       "    <tr style=\"text-align: right;\">\n",
       "      <th></th>\n",
       "      <th>tweet_id</th>\n",
       "      <th>img_num</th>\n",
       "      <th>name</th>\n",
       "      <th>dog_growth_stage</th>\n",
       "      <th>img_resolution_MP</th>\n",
       "      <th>jpg_url</th>\n",
       "      <th>breed</th>\n",
       "      <th>text</th>\n",
       "      <th>retweet_count</th>\n",
       "      <th>favorite_count</th>\n",
       "    </tr>\n",
       "  </thead>\n",
       "  <tbody>\n",
       "    <tr>\n",
       "      <th>0</th>\n",
       "      <td>807106840509214720</td>\n",
       "      <td>1</td>\n",
       "      <td>stephan</td>\n",
       "      <td>none</td>\n",
       "      <td>0.51</td>\n",
       "      <td>https://pbs.twimg.com/ext_tw_video_thumb/80710...</td>\n",
       "      <td>chihuahua</td>\n",
       "      <td>This is Stephan. He just wants to help. 13/10 ...</td>\n",
       "      <td>51663</td>\n",
       "      <td>111681</td>\n",
       "    </tr>\n",
       "  </tbody>\n",
       "</table>\n",
       "</div>"
      ],
      "text/plain": [
       "             tweet_id  img_num     name dog_growth_stage  img_resolution_MP  \\\n",
       "0  807106840509214720        1  stephan             none               0.51   \n",
       "\n",
       "                                             jpg_url      breed  \\\n",
       "0  https://pbs.twimg.com/ext_tw_video_thumb/80710...  chihuahua   \n",
       "\n",
       "                                                text  retweet_count  \\\n",
       "0  This is Stephan. He just wants to help. 13/10 ...          51663   \n",
       "\n",
       "   favorite_count  \n",
       "0          111681  "
      ]
     },
     "execution_count": 148,
     "metadata": {},
     "output_type": "execute_result"
    }
   ],
   "source": [
    "best_in_class_chihuahua"
   ]
  },
  {
   "cell_type": "code",
   "execution_count": 149,
   "id": "612cab72",
   "metadata": {},
   "outputs": [
    {
     "name": "stdout",
     "output_type": "stream",
     "text": [
      "The best in class for class chihuahua\n",
      "Tweet_id: 807106840509214720\n",
      "Dog name: stephan\n",
      "Dog growth_stage: not available\n",
      "Dog breed: chihuahua\n",
      "tweet_text:This is Stephan. He just wants to help. 13/10 such a good boy https://t.co/DkBYaCAg2d\n",
      "retweet_count:51663\n",
      "favorite_count:111681\n"
     ]
    }
   ],
   "source": [
    "# We will display the details of best in class of labrador_retriever\n",
    "best_in_class_details('chihuahua',best_in_class_chihuahua)"
   ]
  },
  {
   "cell_type": "code",
   "execution_count": 150,
   "id": "69c2deeb",
   "metadata": {},
   "outputs": [
    {
     "data": {
      "text/html": [
       "<img src=\"https://pbs.twimg.com/ext_tw_video_thumb/807106774843039744/pu/img/8XZg1xW35Xp2J6JW.jpg\" width=\"300\" height=\"300\"/>"
      ],
      "text/plain": [
       "<IPython.core.display.Image object>"
      ]
     },
     "execution_count": 150,
     "metadata": {},
     "output_type": "execute_result"
    }
   ],
   "source": [
    "# get the image url\n",
    "url= best_in_class_chihuahua.loc[0].at['jpg_url']\n",
    "# display the image of our star chihuahua\n",
    "Image(url=url, width=300, height=300)"
   ]
  },
  {
   "cell_type": "markdown",
   "id": "99a6d736",
   "metadata": {},
   "source": [
    "Here again is Stephan. leading his class. The best of chihuahuas and indeed the overall best. 111,712 likes, 51,740 retweets."
   ]
  },
  {
   "cell_type": "markdown",
   "id": "5e52ca9b",
   "metadata": {},
   "source": [
    "#### pug"
   ]
  },
  {
   "cell_type": "code",
   "execution_count": 151,
   "id": "a3722670",
   "metadata": {},
   "outputs": [],
   "source": [
    "# Finding the best_in_class of pug\n",
    "df_pug,best_in_class_pug = best_in_class_picker(df_image_data,df_tweet_data,'breed','pug')"
   ]
  },
  {
   "cell_type": "code",
   "execution_count": 152,
   "id": "553c7f5a",
   "metadata": {},
   "outputs": [
    {
     "data": {
      "image/png": "[encoded data removed]",
      "text/plain": [
       "<Figure size 1224x504 with 1 Axes>"
      ]
     },
     "metadata": {},
     "output_type": "display_data"
    }
   ],
   "source": [
    "# The swarm plot of the pug breed\n",
    "category_swamplotter(df_pug,'breed','Swarmplot of pug_breed vs retweet_count')"
   ]
  },
  {
   "cell_type": "code",
   "execution_count": 153,
   "id": "0da0a8d4",
   "metadata": {},
   "outputs": [
    {
     "data": {
      "text/html": [
       "<div>\n",
       "<style scoped>\n",
       "    .dataframe tbody tr th:only-of-type {\n",
       "        vertical-align: middle;\n",
       "    }\n",
       "\n",
       "    .dataframe tbody tr th {\n",
       "        vertical-align: top;\n",
       "    }\n",
       "\n",
       "    .dataframe thead th {\n",
       "        text-align: right;\n",
       "    }\n",
       "</style>\n",
       "<table border=\"1\" class=\"dataframe\">\n",
       "  <thead>\n",
       "    <tr style=\"text-align: right;\">\n",
       "      <th></th>\n",
       "      <th>tweet_id</th>\n",
       "      <th>img_num</th>\n",
       "      <th>name</th>\n",
       "      <th>dog_growth_stage</th>\n",
       "      <th>img_resolution_MP</th>\n",
       "      <th>jpg_url</th>\n",
       "      <th>breed</th>\n",
       "      <th>text</th>\n",
       "      <th>retweet_count</th>\n",
       "      <th>favorite_count</th>\n",
       "    </tr>\n",
       "  </thead>\n",
       "  <tbody>\n",
       "    <tr>\n",
       "      <th>0</th>\n",
       "      <td>679158373988876288</td>\n",
       "      <td>1</td>\n",
       "      <td>rubio</td>\n",
       "      <td>none</td>\n",
       "      <td>0.17</td>\n",
       "      <td>https://pbs.twimg.com/media/CWza7kpWcAAdYLc.jpg</td>\n",
       "      <td>pug</td>\n",
       "      <td>This is Rubio. He has too much skin. 11/10 htt...</td>\n",
       "      <td>7247</td>\n",
       "      <td>19447</td>\n",
       "    </tr>\n",
       "  </tbody>\n",
       "</table>\n",
       "</div>"
      ],
      "text/plain": [
       "             tweet_id  img_num   name dog_growth_stage  img_resolution_MP  \\\n",
       "0  679158373988876288        1  rubio             none               0.17   \n",
       "\n",
       "                                           jpg_url breed  \\\n",
       "0  https://pbs.twimg.com/media/CWza7kpWcAAdYLc.jpg   pug   \n",
       "\n",
       "                                                text  retweet_count  \\\n",
       "0  This is Rubio. He has too much skin. 11/10 htt...           7247   \n",
       "\n",
       "   favorite_count  \n",
       "0           19447  "
      ]
     },
     "execution_count": 153,
     "metadata": {},
     "output_type": "execute_result"
    }
   ],
   "source": [
    "best_in_class_pug"
   ]
  },
  {
   "cell_type": "code",
   "execution_count": 154,
   "id": "15205e72",
   "metadata": {},
   "outputs": [
    {
     "name": "stdout",
     "output_type": "stream",
     "text": [
      "The best in class for class pug\n",
      "Tweet_id: 679158373988876288\n",
      "Dog name: rubio\n",
      "Dog growth_stage: not available\n",
      "Dog breed: pug\n",
      "tweet_text:This is Rubio. He has too much skin. 11/10 https://t.co/NLOHmlENag\n",
      "retweet_count:7247\n",
      "favorite_count:19447\n"
     ]
    }
   ],
   "source": [
    "# We will display the details of best in class of pug\n",
    "best_in_class_details('pug',best_in_class_pug)"
   ]
  },
  {
   "cell_type": "markdown",
   "id": "e4090f9b",
   "metadata": {},
   "source": [
    "Here is our pug."
   ]
  },
  {
   "cell_type": "code",
   "execution_count": 155,
   "id": "0a76c74a",
   "metadata": {},
   "outputs": [
    {
     "data": {
      "text/plain": [
       "'https://pbs.twimg.com/media/CWza7kpWcAAdYLc.jpg'"
      ]
     },
     "execution_count": 155,
     "metadata": {},
     "output_type": "execute_result"
    }
   ],
   "source": [
    "# get the image url\n",
    "url= best_in_class_pug.loc[0].at['jpg_url']\n",
    "# display the image of our star pug\n",
    "Image(url=url, width=300, height=300)\n",
    "url"
   ]
  },
  {
   "cell_type": "markdown",
   "id": "9821f3e9",
   "metadata": {},
   "source": [
    "meet super pug Rubio. he is the best in his class with favorite count of 17,470 and 7,257 retweets."
   ]
  },
  {
   "cell_type": "markdown",
   "id": "54c2878f",
   "metadata": {},
   "source": [
    "## Conclusions:"
   ]
  },
  {
   "cell_type": "markdown",
   "id": "b59138c7",
   "metadata": {},
   "source": [
    "In this analysis we have developed several insights from our cleaned twitter and image prediction datasets. The most pertinent question is **\"What are the characteristics of tweet status that attracts the most response in terms of retweets and likes.\"** in answering this question we have observed several patterns across the entire datasets and made some interesting discoveries along the way.\n",
    "\n",
    "- First, we saw that the retweet_count and favorite_count fields which were our target field for this analysis were strongly positiively correlated. with a rvalue of 0.928. This implies that every observed pattern with one target field, say **retweet_count**, can be extrapolated to the other target field **favorite_count.**\n",
    "\n",
    "\n",
    "- Then we observed that the most liked tweet is about a **chihuahua** named **stephan**. and the least liked tweet is about a **english-setter** whose nme was not available.\n",
    "\n",
    "\n",
    "- We also observed that the mean retweet count increased progressively through the year 2015 to 2017. This suggest that the tweeter page, **weratedog** increased in popularity and following and therefore, more particpation and response from the audience. \n",
    "\n",
    "- We also observed that **golden retriever** is the most common dog breed within the dataset. suggesting that there is more preference for golden retrievers among dog lovers.\n",
    "\n",
    "- Most of the dogs in our dataset were not classified by their growthstage because the information was not available in the tweets text. but out of those whose growth stage information was available, the pupper stage is themost common. and the dogs in their puppo stages got the highest median retweet_count.\n",
    "\n",
    "- Also sentiment analysis was ran on the tone of the text of the tweets to help categories them into three categories (Negative, Neutral and Positive). This was done with the help of a pretrained NLP model called **roberta** by **huggingface**.\n",
    "\n",
    "- It can be observed that tweets with positive sentiments got more audience response in retweet_count and favorite count.\n",
    "\n",
    "- Tweets with neutral sentiments attracts the least audience response.\n",
    "\n",
    "- we also observed the best tweets in their category\n",
    "\n",
    "- Lastly, we looked at the **best in class** for different categories based on **breed** and based on **dog_growth_stage** and extracted their details.\n"
   ]
  }
 ],
 "metadata": {
  "kernelspec": {
   "display_name": "Python 3 (ipykernel)",
   "language": "python",
   "name": "python3"
  },
  "language_info": {
   "codemirror_mode": {
    "name": "ipython",
    "version": 3
   },
   "file_extension": ".py",
   "mimetype": "text/x-python",
   "name": "python",
   "nbconvert_exporter": "python",
   "pygments_lexer": "ipython3",
   "version": "3.8.13"
  }
 },
 "nbformat": 4,
 "nbformat_minor": 5
}
